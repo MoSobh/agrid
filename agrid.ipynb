{
 "cells": [
  {
   "cell_type": "markdown",
   "metadata": {},
   "source": [
    "# Get started\n",
    "\n",
    "Minimal introduction: \n",
    "\n",
    "1. Download the module\n",
    "2. Import agrid\n",
    "3. Install missing packages, as notified"
   ]
  },
  {
   "cell_type": "code",
   "execution_count": null,
   "metadata": {},
   "outputs": [],
   "source": [
    "%load_ext autoreload\n",
    "%autoreload 2"
   ]
  },
  {
   "cell_type": "code",
   "execution_count": 1,
   "metadata": {},
   "outputs": [
    {
     "name": "stdout",
     "output_type": "stream",
     "text": [
      "agrid 0.3.2\n",
      "Badd badd badd\n"
     ]
    }
   ],
   "source": []
  },
  {
   "cell_type": "code",
   "execution_count": null,
   "metadata": {},
   "outputs": [],
   "source": [
    "from agrid import Grid\n",
    "from agrid.acc import download\n",
    "\n",
    "#Global\n",
    "world = Grid(crs=4326, res = [0.5, 0.5], left = -180, up=90, right = 180, down = -90)"
   ]
  },
  {
   "cell_type": "markdown",
   "metadata": {},
   "source": [
    "Download some data, assign some meta data. "
   ]
  },
  {
   "cell_type": "code",
   "execution_count": null,
   "metadata": {},
   "outputs": [],
   "source": [
    "download('https://www.naturalearthdata.com/http//www.naturalearthdata.com/download/50m/raster/HYP_50M_SR_W.zip',\n",
    "         '../data/ne/HYP_50M_SR_W.zip',\n",
    "        meta_dict={'Project' : 'Start using agrid', 'Dataset' : 'World raster'})"
   ]
  },
  {
   "cell_type": "markdown",
   "metadata": {},
   "source": [
    "Initiate the grid object: "
   ]
  },
  {
   "cell_type": "code",
   "execution_count": null,
   "metadata": {},
   "outputs": [],
   "source": [
    "#Global\n",
    "world = Grid(crs=4326, res = [0.5, 0.5], left = -180, up=90, right = 180, down = -90)\n",
    "\n",
    "print(world.ds)"
   ]
  },
  {
   "cell_type": "markdown",
   "metadata": {},
   "source": [
    "Populate the grid object:"
   ]
  },
  {
   "cell_type": "code",
   "execution_count": null,
   "metadata": {},
   "outputs": [],
   "source": [
    "world.ds['RGB_RASTER'] = (('Y', 'X', 'RGB'), \n",
    "                world.read_raster('../data/ne/HYP_50M_SR_W/HYP_50M_SR_W.tif', sub_sampling=5) )\n",
    "world.map_grid('RGB_RASTER')"
   ]
  },
  {
   "cell_type": "code",
   "execution_count": null,
   "metadata": {},
   "outputs": [],
   "source": [
    "ne_url = 'https://www.naturalearthdata.com/http//www.naturalearthdata.com/download/10m/physical/ne_10m_land.zip'\n",
    "download(ne_url,'../data/ne/ne_10m_land.zip', \n",
    "        meta_dict={'Project' : 'Start using agrid', 'Dataset' : 'World vector'})"
   ]
  },
  {
   "cell_type": "code",
   "execution_count": null,
   "metadata": {},
   "outputs": [],
   "source": [
    "# Using standard xarray assignment:\n",
    "world.ds['LAND'] = (('Y', 'X'), \n",
    "                     world.assign_shape('../data/ne/ne_10m_land.shp', 'scalerank', \n",
    "                                        burn_val=1, map_to_int=False) )\n",
    "world.map_grid('LAND', draw_coast = False)"
   ]
  },
  {
   "cell_type": "markdown",
   "metadata": {},
   "source": [
    "xarray indexing example:"
   ]
  },
  {
   "cell_type": "code",
   "execution_count": null,
   "metadata": {},
   "outputs": [],
   "source": [
    "world.map_grid(world.ds['LAND'].where(abs(world.ds.coords['lat'])<30)*world.ds['RGB_RASTER'], draw_coast = False)"
   ]
  },
  {
   "cell_type": "code",
   "execution_count": null,
   "metadata": {},
   "outputs": [],
   "source": [
    "part_of_world = Grid(crs=4326, res = [0.01, 0.01], left = 90, up=10, right = 120, down = -10)"
   ]
  },
  {
   "cell_type": "code",
   "execution_count": null,
   "metadata": {},
   "outputs": [],
   "source": [
    "part_of_world.ds['RGB_RASTER'] = (('Y', 'X', 'RGB'), \n",
    "                part_of_world.read_raster('../data/ne/HYP_50M_SR_W/HYP_50M_SR_W.tif', sub_sampling=1) )\n",
    "\n",
    "\n",
    "\n",
    "part_of_world.map_grid('RGB_RASTER', par=list(range(-10,10,5)), mer=list(range(90,120,5))  ) "
   ]
  },
  {
   "cell_type": "code",
   "execution_count": null,
   "metadata": {},
   "outputs": [],
   "source": [
    "# Using standard xarray assignment:\n",
    "part_of_world.ds['LAND'] = (('Y', 'X'), \n",
    "                     part_of_world.assign_shape('../data/ne/ne_10m_land.shp', 'scalerank', \n",
    "                                        burn_val=1, map_to_int=False) )\n",
    "part_of_world.map_grid('LAND', draw_coast = False, par=list(range(-10,10,5)), mer=list(range(90,120,5))  ) "
   ]
  },
  {
   "cell_type": "code",
   "execution_count": null,
   "metadata": {},
   "outputs": [],
   "source": []
  },
  {
   "cell_type": "code",
   "execution_count": null,
   "metadata": {},
   "outputs": [],
   "source": []
  }
 ],
 "metadata": {
  "kernelspec": {
   "display_name": "Python 3",
   "language": "python",
   "name": "python3"
  },
  "language_info": {
   "codemirror_mode": {
    "name": "ipython",
    "version": 3
   },
   "file_extension": ".py",
   "mimetype": "text/x-python",
   "name": "python",
   "nbconvert_exporter": "python",
   "pygments_lexer": "ipython3",
   "version": "3.6.7"
  }
 },
 "nbformat": 4,
 "nbformat_minor": 2
}
