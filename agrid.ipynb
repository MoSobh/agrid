{
 "cells": [
  {
   "cell_type": "code",
   "execution_count": 1,
   "metadata": {},
   "outputs": [
    {
     "name": "stdout",
     "output_type": "stream",
     "text": [
      "agrid.py\n"
     ]
    }
   ],
   "source": [
    "from agrid import *\n",
    "\n",
    "from agrid.acc import download as get_data"
   ]
  },
  {
   "cell_type": "code",
   "execution_count": 2,
   "metadata": {},
   "outputs": [
    {
     "name": "stdout",
     "output_type": "stream",
     "text": [
      "File test.grd already exists.\n"
     ]
    },
    {
     "data": {
      "text/plain": [
       "{'doi': '12345/doidoi',\n",
       " 'Author': 'Ms Author',\n",
       " 'Comments': 'Here are my comments.'}"
      ]
     },
     "execution_count": 2,
     "metadata": {},
     "output_type": "execute_result"
    }
   ],
   "source": [
    "get_data('http://www.seismolab.org/model/antarctica/lithosphere/AN1-S_depth_grd.tar.gz','test.grd', \n",
    "         meta_dict={'doi' : '12345/doidoi', 'Author' : 'Ms Author', 'Comments': 'Here are my comments.'}, check_first=1)"
   ]
  },
  {
   "cell_type": "code",
   "execution_count": 3,
   "metadata": {},
   "outputs": [],
   "source": [
    "africa = agrid.Grid(crs=4326, left=-20, down= -45, right=55, up=40, \n",
    "              res = (0.5, 0.5), use_dask=False)"
   ]
  },
  {
   "cell_type": "code",
   "execution_count": null,
   "metadata": {},
   "outputs": [],
   "source": [
    "africa.ds['LAND'] = (('Y', 'X'), \n",
    "                     africa.assign_shape('../../data/NE/ne_10m_land.shp', 'scalerank'))"
   ]
  },
  {
   "cell_type": "code",
   "execution_count": 4,
   "metadata": {},
   "outputs": [
    {
     "name": "stderr",
     "output_type": "stream",
     "text": [
      "/Users/tobiasstal/anaconda3/lib/python3.6/site-packages/numpy/core/_methods.py:32: RuntimeWarning: invalid value encountered in reduce\n",
      "  return umr_minimum(a, axis, None, out, keepdims, initial)\n",
      "/Users/tobiasstal/anaconda3/lib/python3.6/site-packages/numpy/core/_methods.py:28: RuntimeWarning: invalid value encountered in reduce\n",
      "  return umr_maximum(a, axis, None, out, keepdims, initial)\n"
     ]
    }
   ],
   "source": [
    "data = africa.assign_shape('../../data/NE/ne_10m_land.shp', 'scalerank')"
   ]
  },
  {
   "cell_type": "code",
   "execution_count": 5,
   "metadata": {},
   "outputs": [],
   "source": [
    "africa.ds['TEST'] = africa.data_to_grid(data, meta_dict = {'This' : 'IS AFRIXA'})"
   ]
  },
  {
   "cell_type": "code",
   "execution_count": 6,
   "metadata": {},
   "outputs": [
    {
     "data": {
      "text/plain": [
       "<xarray.DataArray 'TEST' (Y: 169, X: 149)>\n",
       "array([[nan, nan, nan, ...,  5.,  0.,  0.],\n",
       "       [nan, nan, nan, ...,  5.,  0.,  0.],\n",
       "       [nan, nan, nan, ..., nan,  0.,  0.],\n",
       "       ...,\n",
       "       [nan, nan, nan, ..., nan, nan, nan],\n",
       "       [nan, nan, nan, ..., nan, nan, nan],\n",
       "       [nan, nan, nan, ..., nan, nan, nan]])\n",
       "Coordinates:\n",
       "  * X        (X) float64 -20.0 -19.5 -18.99 -18.49 ... 52.99 53.49 54.0 54.5\n",
       "  * Y        (Y) float64 39.5 39.0 38.49 37.99 ... -43.49 -43.99 -44.5 -45.0\n",
       "    XV       (Y, X) float32 -20.0 -19.496622 -18.993244 ... 53.99662 54.5\n",
       "    YV       (Y, X) float32 39.5 39.5 39.5 39.5 39.5 ... -45.0 -45.0 -45.0 -45.0\n",
       "    lat      (Y, X) float32 39.5 39.5 39.5 39.5 39.5 ... -45.0 -45.0 -45.0 -45.0\n",
       "    lon      (Y, X) float32 -20.0 -19.496622 -18.993244 ... 53.99662 54.5\n",
       "Attributes:\n",
       "    This:     IS AFRIXA"
      ]
     },
     "execution_count": 6,
     "metadata": {},
     "output_type": "execute_result"
    }
   ],
   "source": [
    "africa.ds['TEST']"
   ]
  },
  {
   "cell_type": "code",
   "execution_count": null,
   "metadata": {},
   "outputs": [],
   "source": [
    "import os\n",
    "\n",
    "f_name = '../hej/du/glade.spade'\n",
    "\n",
    "A = os.path.splitext(f_name)[0]\n",
    "\n",
    "print(A)"
   ]
  },
  {
   "cell_type": "code",
   "execution_count": null,
   "metadata": {},
   "outputs": [],
   "source": [
    "africa.ds['LAND'].attrs = {'rain': 'Yes'}"
   ]
  },
  {
   "cell_type": "code",
   "execution_count": null,
   "metadata": {},
   "outputs": [],
   "source": [
    "africa.ds['LAND']"
   ]
  },
  {
   "cell_type": "code",
   "execution_count": null,
   "metadata": {},
   "outputs": [],
   "source": [
    "ant.ds['BED'] = xr.DataArray(ant.read_grid('test.grd')[0], dims=['Y', 'X'], attrs = {'here': 'Yesss'} ) "
   ]
  }
 ],
 "metadata": {
  "kernelspec": {
   "display_name": "Python 3",
   "language": "python",
   "name": "python3"
  },
  "language_info": {
   "codemirror_mode": {
    "name": "ipython",
    "version": 3
   },
   "file_extension": ".py",
   "mimetype": "text/x-python",
   "name": "python",
   "nbconvert_exporter": "python",
   "pygments_lexer": "ipython3",
   "version": "3.6.7"
  }
 },
 "nbformat": 4,
 "nbformat_minor": 2
}
