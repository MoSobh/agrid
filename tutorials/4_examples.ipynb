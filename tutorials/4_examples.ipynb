{
 "cells": [
  {
   "cell_type": "code",
   "execution_count": null,
   "metadata": {},
   "outputs": [],
   "source": [
    "#Depending on where the grid.py is located, you cane either call it from its location...\n",
    "\n",
    "config_file = \"../grid_code/agrid.py\"\n",
    "with open(config_file) as f:\n",
    "    code = compile(f.read(), config_file, 'exec')\n",
    "    exec(code, globals(), locals())\n",
    "\n",
    "# ... or use you Python path or present working directory:\n",
    "#from agrid import *"
   ]
  },
  {
   "cell_type": "markdown",
   "metadata": {},
   "source": [
    "Compare mean, median and std from input and output data. (e.g. An)"
   ]
  },
  {
   "cell_type": "markdown",
   "metadata": {},
   "source": [
    "Subsampling lo res with high res"
   ]
  },
  {
   "cell_type": "markdown",
   "metadata": {},
   "source": [
    "3D from vector"
   ]
  },
  {
   "cell_type": "markdown",
   "metadata": {},
   "source": [
    "Laplace transform "
   ]
  },
  {
   "cell_type": "code",
   "execution_count": null,
   "metadata": {},
   "outputs": [],
   "source": [
    "world = Grid(crs_tgt = 4326, \n",
    "             left= -180, up=90, down= -90, right=180.0, \n",
    "             res=(1.99999,1.99999), \n",
    "             depths = [0])\n",
    "\n",
    "\n",
    "#fname = '../../data/smean/dvs.23.grd'\n",
    "#world.ds['A'] = (('Y', 'X'), world.read_grid(fname, xyz = ('lon','lat','z'), set_center = True) )"
   ]
  },
  {
   "cell_type": "code",
   "execution_count": null,
   "metadata": {},
   "outputs": [],
   "source": [
    "import re\n",
    "import warnings\n",
    "\n",
    "from pyproj import _proj\n",
    "from pyproj.compat import cstrencode, pystrdecode\n",
    "from pyproj.crs import CRS\n",
    "from pyproj.utils import _convertback, _copytobuffer\n",
    "\n",
    "CRS.from_user_input(3031)\n",
    "\n"
   ]
  },
  {
   "cell_type": "code",
   "execution_count": 54,
   "metadata": {},
   "outputs": [],
   "source": [
    "colors = ['C0', 'C1', 'C2', 'C3', 'C4', 'C5', 'C6']\n"
   ]
  },
  {
   "cell_type": "code",
   "execution_count": 55,
   "metadata": {},
   "outputs": [
    {
     "data": {
      "image/png": "[encoded data removed]",
      "text/plain": [
       "<Figure size 432x288 with 1 Axes>"
      ]
     },
     "metadata": {
      "needs_background": "light"
     },
     "output_type": "display_data"
    }
   ],
   "source": [
    "from matplotlib import pyplot as plt\n",
    "for i, col in enumerate(colors):\n",
    "    plt.text(0.2,0.1*i,i, color=col)\n",
    "plt.show()"
   ]
  },
  {
   "cell_type": "code",
   "execution_count": 47,
   "metadata": {},
   "outputs": [],
   "source": []
  },
  {
   "cell_type": "code",
   "execution_count": null,
   "metadata": {},
   "outputs": [],
   "source": []
  }
 ],
 "metadata": {
  "kernelspec": {
   "display_name": "Python 3",
   "language": "python",
   "name": "python3"
  },
  "language_info": {
   "codemirror_mode": {
    "name": "ipython",
    "version": 3
   },
   "file_extension": ".py",
   "mimetype": "text/x-python",
   "name": "python",
   "nbconvert_exporter": "python",
   "pygments_lexer": "ipython3",
   "version": "3.6.7"
  }
 },
 "nbformat": 4,
 "nbformat_minor": 2
}
