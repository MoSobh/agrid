{
 "cells": [
  {
   "cell_type": "code",
   "execution_count": null,
   "metadata": {},
   "outputs": [],
   "source": [
    "#Depending on where the grid.py is located, you cane either call it from its location...\n",
    "\n",
    "config_file = \"../code/agrid.py\"\n",
    "with open(config_file) as f:\n",
    "    code = compile(f.read(), config_file, 'exec')\n",
    "    exec(code, globals(), locals())\n",
    "\n",
    "# ... or use you Python path or present working directory:\n",
    "#from agrid import *"
   ]
  },
  {
   "cell_type": "markdown",
   "metadata": {},
   "source": [
    "Compare mean, median and std from input and output data. (e.g. An)"
   ]
  },
  {
   "cell_type": "markdown",
   "metadata": {},
   "source": [
    "Subsampling lo res with high res"
   ]
  },
  {
   "cell_type": "markdown",
   "metadata": {},
   "source": [
    "3D from vector"
   ]
  },
  {
   "cell_type": "markdown",
   "metadata": {},
   "source": [
    "Laplace transform "
   ]
  },
  {
   "cell_type": "code",
   "execution_count": 2,
   "metadata": {},
   "outputs": [],
   "source": [
    "world = Grid(crs_tgt = 4326, \n",
    "             left= -180, up=90, down= -90, right=180.0, \n",
    "             res=(1.99999,1.99999), \n",
    "             depths = [0])\n",
    "\n",
    "\n",
    "fname = '../../data/smean/dvs.23.grd'\n",
    "world.ds['A'] = (('Y', 'X'), world.read_grid(fname, xyz = ('lon','lat','z'), set_center = True) )"
   ]
  },
  {
   "cell_type": "code",
   "execution_count": 3,
   "metadata": {},
   "outputs": [
    {
     "data": {
      "text/plain": [
       "<xarray.Dataset>\n",
       "Dimensions:  (RGB: 3, X: 180, Y: 90, Z: 1)\n",
       "Coordinates:\n",
       "  * X        (X) float32 -180.0 -177.98883 -175.97766 ... 177.98883 180.0\n",
       "  * Y        (Y) float32 90.0 87.97753 85.955055 ... -85.955055 -87.97753 -90.0\n",
       "  * Z        (Z) float32 0.0\n",
       "  * RGB      (RGB) <U1 'R' 'G' 'B'\n",
       "    XV       (Y, X) float32 dask.array<shape=(90, 180), chunksize=(9, 18)>\n",
       "    YV       (Y, X) float32 dask.array<shape=(90, 180), chunksize=(9, 18)>\n",
       "    lat      (Y, X) float32 dask.array<shape=(90, 180), chunksize=(9, 18)>\n",
       "    lon      (Y, X) float32 dask.array<shape=(90, 180), chunksize=(9, 18)>\n",
       "Data variables:\n",
       "    A        (Y, X) float64 nan -0.184 -0.184 -0.184 ... -0.1412 -0.1412 -0.1412"
      ]
     },
     "execution_count": 3,
     "metadata": {},
     "output_type": "execute_result"
    }
   ],
   "source": [
    "\n",
    "\n",
    "world.ds"
   ]
  },
  {
   "cell_type": "code",
   "execution_count": null,
   "metadata": {},
   "outputs": [],
   "source": [
    "def myfunc(a, b):\n",
    "    return a + b\n",
    "\n",
    "x = map(myfunc, ('apple', 'banana', 'cherry'), ('orange', 'lemon', 'pineapple'))"
   ]
  },
  {
   "cell_type": "code",
   "execution_count": 72,
   "metadata": {},
   "outputs": [
    {
     "name": "stdout",
     "output_type": "stream",
     "text": [
      "NCOLS 180\n",
      "NROWS 90\n",
      "XLLCORNER -180\n",
      "YLLCORNER -90\n",
      "CELLSIZE 1.99999\n",
      "NODATA_VALUE -9999\n",
      "\n",
      "NCOLS 180\n",
      "NROWS 90\n",
      "XLLCENTER -180\n",
      "YLLCENTER 0.999995\n",
      "CELLSIZE 0.999995\n",
      "NODATA_VALUE 1.99999\n",
      "\n"
     ]
    }
   ],
   "source": [
    "self = world\n",
    "\n",
    "\n",
    "header_labels = ['NCOLS', 'NROWS', 'XLLCORNER', 'YLLCORNER', 'CELLSIZE', 'NODATA_VALUE']\n",
    "header_values = [self.nx, self.ny, self.left, self.down, self.res[0], -9999]\n",
    "        \n",
    "#header_labels[2:3] = ['XLLCENTER', 'YLLCENTER']\n",
    "#header_values[2:3] = header_values[2:3] + [self.res[0]/2, self.res[1]/2]    \n",
    "    \n",
    "header = ''.join([''.join(h) for h in zip(header_labels, [' ']*6, [str(val) for val in header_values], ['\\n']*6)])\n",
    "\n",
    "print(header)\n",
    "\n",
    "\n",
    "header_labels[2:4] = ['XLLCENTER', 'YLLCENTER']\n",
    "header_values[2:4] = header_values[2:3] + [self.res[0]/2, self.res[1]/2]    \n",
    "    \n",
    "header = ''.join([''.join(h) for h in zip(header_labels, [' ']*6, [str(val) for val in header_values], ['\\n']*6)])\n",
    "\n",
    "print(header)"
   ]
  },
  {
   "cell_type": "code",
   "execution_count": 45,
   "metadata": {},
   "outputs": [
    {
     "name": "stdout",
     "output_type": "stream",
     "text": [
      "['appleorange', 'bananalemon', 'cherrypineapple']\n"
     ]
    }
   ],
   "source": [
    "def myfunc(a, b):\n",
    "    return a + b\n",
    "\n",
    "x = map(myfunc, ('apple', 'banana', 'cherry'), ('orange', 'lemon', 'pineapple'))\n",
    "print(list(x))"
   ]
  },
  {
   "cell_type": "code",
   "execution_count": null,
   "metadata": {},
   "outputs": [],
   "source": [
    "A = np.arange(0.0,50.0,1.0).reshape(5,10)\n",
    "\n"
   ]
  },
  {
   "cell_type": "code",
   "execution_count": null,
   "metadata": {},
   "outputs": [],
   "source": [
    "numpy.savetxt(fname, X, \n",
    "              fmt='%.18e', delimiter=' ', newline='\\n', header='', footer='', comments='# ', encoding=None)"
   ]
  },
  {
   "cell_type": "code",
   "execution_count": null,
   "metadata": {},
   "outputs": [],
   "source": [
    "‘C’, ‘F’, ‘A’, ‘K’"
   ]
  },
  {
   "cell_type": "code",
   "execution_count": null,
   "metadata": {},
   "outputs": [],
   "source": [
    "?A.flatten()"
   ]
  },
  {
   "cell_type": "code",
   "execution_count": 61,
   "metadata": {},
   "outputs": [
    {
     "name": "stdout",
     "output_type": "stream",
     "text": [
      "A foo\n",
      "B 43\n",
      "C bar\n",
      "D 0.2\n",
      "E baz\n",
      "F -9999\n",
      "\n"
     ]
    }
   ],
   "source": []
  },
  {
   "cell_type": "code",
   "execution_count": 73,
   "metadata": {},
   "outputs": [],
   "source": [
    "import numpy as np"
   ]
  },
  {
   "cell_type": "code",
   "execution_count": null,
   "metadata": {},
   "outputs": [],
   "source": []
  }
 ],
 "metadata": {
  "kernelspec": {
   "display_name": "Python 3",
   "language": "python",
   "name": "python3"
  },
  "language_info": {
   "codemirror_mode": {
    "name": "ipython",
    "version": 3
   },
   "file_extension": ".py",
   "mimetype": "text/x-python",
   "name": "python",
   "nbconvert_exporter": "python",
   "pygments_lexer": "ipython3",
   "version": "3.6.6"
  }
 },
 "nbformat": 4,
 "nbformat_minor": 2
}
