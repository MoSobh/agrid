{
 "cells": [
  {
   "cell_type": "markdown",
   "metadata": {},
   "source": [
    "# The grid as an object\n",
    "\n",
    "In this notebook, the grid object and the xarray dataset and data frame are explained and demonstrated with a few illustrating examples. \n",
    "\n",
    "---\n",
    "\n",
    "grid.py contains one class, `Grid()`. When we import the module, a few convenient variables are also generated. Most packages are imported with the module, but some rarely used dependencies are imported in functions when needed. More about this later. \n",
    "\n",
    "Dependencies: \n",
    "\n",
    "`basemap geopandas json matplotlib numpy pyproj rasterio scipy xarray` and standard `os re sys`\n",
    "\n",
    "some methods also use:\n",
    "\n",
    "`fiona holoviews imageio mayavi shapely `\n",
    "\n",
    "accesories also use: \n",
    "\n",
    "`datetime requests tarfile tqdm zipfile`\n",
    "\n",
    "We import grid: "
   ]
  },
  {
   "cell_type": "code",
   "execution_count": 3,
   "metadata": {},
   "outputs": [
    {
     "name": "stdout",
     "output_type": "stream",
     "text": [
      "The autoreload extension is already loaded. To reload it, use:\n",
      "  %reload_ext autoreload\n"
     ]
    }
   ],
   "source": [
    "%load_ext autoreload\n",
    "%autoreload 2"
   ]
  },
  {
   "cell_type": "code",
   "execution_count": 4,
   "metadata": {},
   "outputs": [
    {
     "name": "stdout",
     "output_type": "stream",
     "text": [
      "<class 'agrid.grid.Grid'>\n",
      "1000\n",
      "True\n",
      "True\n",
      "False\n",
      "<class 'module'> <class 'module'> <class 'module'>\n"
     ]
    }
   ],
   "source": [
    "#Depending on where the grid.py is located, you might call it from its path\n",
    "import sys\n",
    "sys.path.append('..')#Because tutorials are in a sibling directory in this case\n",
    "\n",
    "# ... or use your Python path or present working directory:\n",
    "from agrid.grid import *\n",
    "# We also want some other useful functions\n",
    "from agrid.acc import download\n",
    "\n",
    "print(Grid)\n",
    "print(km)\n",
    "\n",
    "#Check if some modules have been imported. sys is imported with agrid\n",
    "print('numpy' in sys.modules, \n",
    "      'rasterio' in sys.modules, \n",
    "      'bokeh' in sys.modules, sep='\\n') #(bokeh is imported in a method)\n",
    "\n",
    "print(type(np), type(plt), type(xr)) # Use of standard aliases "
   ]
  },
  {
   "cell_type": "markdown",
   "metadata": {},
   "source": [
    "We can now define a grid object. \n",
    "\n",
    "Each grid is a model frame with a defended, regular$^1$ spatial extent. The frame is generated when the object is initiated and resolution, coordinate system and coordinates etc are defined. \n",
    "\n",
    "The class defines an object. Let's say that we would like to develop a gridded model of the African continent. We want to use WGS 1984 (EPSG:4326), and a resolution of $0.5^\\circ$. We define the extent as left, right, up, down in the units of the projection, degrees in this example. \n",
    "\n",
    "When initiating the object, a number of instance variables are defined. These contains the size of the grid, the name of the grid and the affine transform of the grid. (`use_dask` will be explained later). \n",
    "\n",
    "---\n",
    "1. This will be updated in later versions. "
   ]
  },
  {
   "cell_type": "code",
   "execution_count": 5,
   "metadata": {},
   "outputs": [
    {
     "name": "stdout",
     "output_type": "stream",
     "text": [
      "<agrid.grid.Grid object at 0x110c36748>\n"
     ]
    }
   ],
   "source": [
    "africa = Grid(crs=4326, left=-20, down= -45, right=55, up=40, \n",
    "              res = (0.5, 0.5), use_dask=False)\n",
    "\n",
    "print(africa)"
   ]
  },
  {
   "cell_type": "markdown",
   "metadata": {},
   "source": [
    "With the object, variables are generated, both class variables and instance variables. \n",
    "\n",
    "E.g the class variable verbose is a switch for print statements from the functions. Instance variables `nx`, `ny`, `nn`, `shape3` are integers and tuples that conveniently gives to fundamental size of the grid. `transform` is the affine transform. "
   ]
  },
  {
   "cell_type": "code",
   "execution_count": 6,
   "metadata": {},
   "outputs": [
    {
     "name": "stdout",
     "output_type": "stream",
     "text": [
      "False\n",
      "170 150 (170, 150) (170, 150, 5)\n",
      "| 0.50, 0.00,-20.00|\n",
      "| 0.00, 0.50,-45.00|\n",
      "| 0.00, 0.00, 1.00|\n"
     ]
    }
   ],
   "source": [
    "# Class variables\n",
    "print(Grid.verbose) # Switch for print commands\n",
    "\n",
    "# Instance variables\n",
    "print(africa.ny, africa.nx, africa.nn, africa.shape3)\n",
    "print(africa.transform)"
   ]
  },
  {
   "cell_type": "markdown",
   "metadata": {},
   "source": [
    "Note that dimensions are given as y, x, not x, y. This was a tricky decision to make. The reasoning is, that numpy arrays are given as rows-columns. By given the y dimension first, we are consistent through the project, but I'd expect that this might cause confusion. I'm happy for suggestions of how to simplify the indexing. Indexing is, however, less a problem when we move to the main feature of the grid object, the xarray dataset. \n",
    "\n",
    "---\n",
    "\n",
    "The xarray dataset is the core of the model and is created already populated with dimensions that contains coordinates. X, Y and Z are (in this example) the three spatial dimensions. X and Y are set to the selected projection (epsg:4326) and is hence in degrees. \n",
    "\n",
    "Xarray dataset can be a bit tricky to grasp. There is good information at [xarray project page](http://xarray.pydata.org/en/stable/api.html) where there are a number of code examples. As always, [Stack overflow](https://stackoverflow.com/search?q=xarray) is a good resource as well. Think about it as Pandas, but multidimensional. It can also be understood as a very organized way to arrange numpy arrays in relation to each other. Another approach, if you are familiar with [NetCDF](https://www.unidata.ucar.edu/software/netcdf/), xarray has a similar internal structure. \n",
    "\n",
    "For our use, each grid object contains one dataset e.g. `africa.ds`. The dataset contains a number of data frames that are linked to coordinates in different dimensions. The dataset also contain attribute data. "
   ]
  },
  {
   "cell_type": "code",
   "execution_count": 7,
   "metadata": {},
   "outputs": [
    {
     "name": "stdout",
     "output_type": "stream",
     "text": [
      "<xarray.Dataset>\n",
      "Dimensions:  (RGB: 3, X: 150, X_edge: 151, Y: 170, Y_edge: 171, Z: 5, Z_edge: 6)\n",
      "Coordinates:\n",
      "  * X        (X) float32 -20.0 -19.496645 -18.993288 ... 53.99329 54.496643 55.0\n",
      "  * Y        (Y) float32 -45.0 -44.49704 -43.994083 ... 38.994083 39.49704 40.0\n",
      "  * Z        (Z) float32 0.0 8000.0 16000.0 40000.0 350000.0\n",
      "  * X_edge   (X_edge) float32 -20.25 -19.746666 -19.243334 ... 54.746666 55.25\n",
      "  * Y_edge   (Y_edge) float32 -45.25 -44.74706 -44.244118 ... 39.74706 40.25\n",
      "  * Z_edge   (Z_edge) float64 -4e+03 4e+03 1.2e+04 2.8e+04 1.95e+05 5.05e+05\n",
      "  * RGB      (RGB) <U1 'R' 'G' 'B'\n",
      "    XV       (Y, X) float32 -20.0 -19.496645 -18.993288 ... 54.496643 55.0\n",
      "    YV       (Y, X) float32 -45.0 -45.0 -45.0 -45.0 ... 40.0 40.0 40.0 40.0\n",
      "    lat      (Y, X) float32 -45.0 -45.0 -45.0 -45.0 ... 40.0 40.0 40.0 40.0\n",
      "    lon      (Y, X) float32 -20.0 -19.496645 -18.993288 ... 54.496643 55.0\n",
      "Data variables:\n",
      "    *empty*\n"
     ]
    }
   ],
   "source": [
    "print(africa.ds)"
   ]
  },
  {
   "cell_type": "markdown",
   "metadata": {},
   "source": [
    "We use standard Python / numpy methods to generate or process data and assign to the dataset. Here we generate a 2D array of data points and assign it to the Y and X coordinates of the grid. "
   ]
  },
  {
   "cell_type": "code",
   "execution_count": 8,
   "metadata": {},
   "outputs": [],
   "source": [
    "random_data = np.random.random(africa.nn)\n",
    "africa.ds['RANDOM'] = (('Y', 'X'), random_data)"
   ]
  },
  {
   "cell_type": "markdown",
   "metadata": {},
   "source": [
    "The object contains a number of functions to import, process, export and visualize data in the grid. More about import functions in next tutorial. For now, we download a global polygon shape file. We add an element to the meta data. "
   ]
  },
  {
   "cell_type": "code",
   "execution_count": 9,
   "metadata": {},
   "outputs": [
    {
     "name": "stdout",
     "output_type": "stream",
     "text": [
      "File ../../data/vector/simplified-land-polygons-complete-3857.zip already exists.\n"
     ]
    },
    {
     "data": {
      "text/plain": [
       "['simplified-land-polygons-complete-3857/README',\n",
       " 'simplified-land-polygons-complete-3857/simplified_land_polygons.cpg',\n",
       " 'simplified-land-polygons-complete-3857/simplified_land_polygons.dbf',\n",
       " 'simplified-land-polygons-complete-3857/simplified_land_polygons.prj',\n",
       " 'simplified-land-polygons-complete-3857/simplified_land_polygons.shp',\n",
       " 'simplified-land-polygons-complete-3857/simplified_land_polygons.shx']"
      ]
     },
     "execution_count": 9,
     "metadata": {},
     "output_type": "execute_result"
    }
   ],
   "source": [
    "download('http://data.openstreetmapdata.com/simplified-land-polygons-complete-3857.zip', \n",
    "        '../../data/vector/simplified-land-polygons-complete-3857.zip', \n",
    "        meta_dict={'Type' : 'Land Polygons'})"
   ]
  },
  {
   "cell_type": "markdown",
   "metadata": {},
   "source": [
    "The shape file can be used to generate a Boolean raster. The function `assign_shape` in the object ´africa´ reads a shape file and rasterises it. Here, all polygons are assigned `True` as there is an FID attribute. This might take some time, as the vector layer is very large. This will also generate some warnings, as no vector file is perfect... \n",
    "\n",
    "Note again, the order of dimension: Y, X. "
   ]
  },
  {
   "cell_type": "code",
   "execution_count": 10,
   "metadata": {},
   "outputs": [
    {
     "name": "stderr",
     "output_type": "stream",
     "text": [
      "/Users/tobiasstal/anaconda3/lib/python3.6/site-packages/ipykernel_launcher.py:3: RuntimeWarning: invalid value encountered in greater\n",
      "  This is separate from the ipykernel package so we can avoid doing imports until\n"
     ]
    }
   ],
   "source": [
    "# Using standard xarray assignment:\n",
    "africa.ds['LAND'] = (('Y', 'X'), \n",
    "                     -1 < africa.assign_shape('../../data/vector/simplified-land-polygons-complete-3857/simplified_land_polygons.shp', 'FID') )"
   ]
  },
  {
   "cell_type": "markdown",
   "metadata": {},
   "source": [
    "Now, if we look at our dataset, we have two data variables, or frames. RANDOM and LAND. Both have an extent along the X and Y axes. "
   ]
  },
  {
   "cell_type": "code",
   "execution_count": 11,
   "metadata": {},
   "outputs": [
    {
     "data": {
      "text/plain": [
       "<xarray.Dataset>\n",
       "Dimensions:  (RGB: 3, X: 150, X_edge: 151, Y: 170, Y_edge: 171, Z: 5, Z_edge: 6)\n",
       "Coordinates:\n",
       "  * X        (X) float32 -20.0 -19.496645 -18.993288 ... 53.99329 54.496643 55.0\n",
       "  * Y        (Y) float32 -45.0 -44.49704 -43.994083 ... 38.994083 39.49704 40.0\n",
       "  * Z        (Z) float32 0.0 8000.0 16000.0 40000.0 350000.0\n",
       "  * X_edge   (X_edge) float32 -20.25 -19.746666 -19.243334 ... 54.746666 55.25\n",
       "  * Y_edge   (Y_edge) float32 -45.25 -44.74706 -44.244118 ... 39.74706 40.25\n",
       "  * Z_edge   (Z_edge) float64 -4e+03 4e+03 1.2e+04 2.8e+04 1.95e+05 5.05e+05\n",
       "  * RGB      (RGB) <U1 'R' 'G' 'B'\n",
       "    XV       (Y, X) float32 -20.0 -19.496645 -18.993288 ... 54.496643 55.0\n",
       "    YV       (Y, X) float32 -45.0 -45.0 -45.0 -45.0 ... 40.0 40.0 40.0 40.0\n",
       "    lat      (Y, X) float32 -45.0 -45.0 -45.0 -45.0 ... 40.0 40.0 40.0 40.0\n",
       "    lon      (Y, X) float32 -20.0 -19.496645 -18.993288 ... 54.496643 55.0\n",
       "Data variables:\n",
       "    RANDOM   (Y, X) float64 0.8232 0.6583 0.9755 0.961 ... 0.6073 0.1121 0.6806\n",
       "    LAND     (Y, X) bool False False False False False ... True True True True"
      ]
     },
     "execution_count": 11,
     "metadata": {},
     "output_type": "execute_result"
    }
   ],
   "source": [
    "africa.ds"
   ]
  },
  {
   "cell_type": "markdown",
   "metadata": {},
   "source": [
    "Xarray works similar to numpy, in many ways. Here are some examples of arithmetic and conditional computations. We will look closer at the `map_grid` function in later tutorial. "
   ]
  },
  {
   "cell_type": "code",
   "execution_count": null,
   "metadata": {},
   "outputs": [],
   "source": [
    "africa.ds['BIG_RANDOM'] = africa.ds['RANDOM'] * 2 \n",
    "\n",
    "africa.ds['DATA'] = africa.ds['BIG_RANDOM']*africa.ds['LAND']\n",
    "\n",
    "africa.ds['DATA'] = africa.ds['DATA'].where(africa.ds['DATA'] != 0.)  \n",
    "\n",
    "africa.map_grid('DATA', cmap='viridis') # We only need to send the label to the function "
   ]
  },
  {
   "cell_type": "markdown",
   "metadata": {},
   "source": [
    "Xarray have a number option to index and select data. See details about the API at the [Xarray project page](http://xarray.pydata.org/en/stable/api.html). Here are some examples that hopefully explain the options: "
   ]
  },
  {
   "cell_type": "code",
   "execution_count": null,
   "metadata": {},
   "outputs": [],
   "source": [
    "# Values can be assigned\n",
    "africa.ds['DATA'][dict(X=slice(4, 30), Y=slice(40, 60))] = 2\n",
    "\n",
    "#modify one grid point, using where() or loc()\n",
    "africa.ds['DATA'] = xr.where((africa.ds.coords['lat']==-20)&(africa.ds.coords['lon']==30), 2, africa.ds['DATA'])\n",
    "\n",
    "# Assign value to an area with a mask \n",
    "mask = (africa.ds.coords['lat']>-20)&(africa.ds.coords['lat']<-12)&(africa.ds.coords['lon']>16)&(africa.ds.coords['lon']<25)\n",
    "africa.ds['DATA'] = xr.where(mask, 3, africa.ds['DATA'])\n",
    "\n",
    "# Data by numpy index:\n",
    "A =  africa.ds['DATA'][66, 33]\n",
    "\n",
    "# Coord by index:\n",
    "B = africa.ds.coords['lon'][66, 33]\n",
    "\n",
    "# Data by coord using isel:\n",
    "C = africa.ds['DATA'].isel(X=33, Y=66)\n",
    "\n",
    "# Closest to coordinate values:\n",
    "#http://xarray.pydata.org/en/stable/generated/xarray.Dataset.sel.html#xarray.Dataset.sel\n",
    "D = africa.ds['DATA'].sel(X=[14.5, 71.32], method='nearest') \n",
    "\n",
    "# Or another coordinate set:\n",
    "E = africa.ds.coords['lon'][66, 33]\n",
    "\n",
    "# Use coordinates to select a slice from a data array:\n",
    "F = africa.ds['LAND']\n",
    "\n",
    "# Select 2D array from slices of coordinates from dict of indicies\n",
    "G = africa.ds['DATA'][dict(X=slice(120, 150), Y=slice(40, 70))]\n",
    "\n",
    "# Select 2D array from coordinate values\n",
    "H = africa.ds['DATA'].sel(X=slice(5, 30), Y=slice(-35, -10))\n",
    "\n",
    "I = africa.ds['DATA'][10:150,10:150]\n",
    "\n",
    "fig, axes = plt.subplots(2,2, figsize=(10,10))\n",
    "for ax, array in zip(axes.flatten(), [F, G, H, I]):\n",
    "    ax.imshow(array, origin='lower')\n",
    "\n",
    "\n",
    "plt.show()"
   ]
  },
  {
   "cell_type": "code",
   "execution_count": null,
   "metadata": {},
   "outputs": [],
   "source": []
  },
  {
   "cell_type": "markdown",
   "metadata": {},
   "source": [
    "This returned a cell of the entire dataset, but we can also extract numpy arrays and numbers by using a dictionary interface `values`: "
   ]
  },
  {
   "cell_type": "code",
   "execution_count": null,
   "metadata": {},
   "outputs": [],
   "source": [
    "print(type(africa)) #The agrid Grid object\n",
    "print(type(africa.ds)) #The dataset\n",
    "print(type(africa.ds['DATA'])) #A dataarray\n",
    "print(type(africa.ds['DATA'].values)) #Numpy array from dataarray\n",
    "print(type(africa.ds['DATA'].values[10,10])) #An element in the array"
   ]
  },
  {
   "cell_type": "markdown",
   "metadata": {},
   "source": [
    "Json is a handy format for transferring and store metadata:"
   ]
  },
  {
   "cell_type": "code",
   "execution_count": null,
   "metadata": {},
   "outputs": [],
   "source": [
    "# Add attribute data directely\n",
    "africa.ds.attrs['units'] = 'degrees'\n",
    "africa.ds.attrs['contact'] = 'mail@address.gh'\n",
    "\n",
    "#Or as text, xml, json etc\n",
    "import json\n",
    "with open('attr.json', 'r') as fp:\n",
    "    meta_data = json.loads(fp.read())\n",
    "\n",
    "for item in meta_data.items():\n",
    "    africa.ds.attrs[item[0]] = item[1]"
   ]
  },
  {
   "cell_type": "markdown",
   "metadata": {},
   "source": [
    "By using a convenient function to access data, json files are automatically assigned to attribute data for each dataset. "
   ]
  },
  {
   "cell_type": "code",
   "execution_count": null,
   "metadata": {},
   "outputs": [],
   "source": [
    "africa.ds['LAND'].attrs = {'unit': 'm'}"
   ]
  },
  {
   "cell_type": "code",
   "execution_count": null,
   "metadata": {},
   "outputs": [],
   "source": [
    "africa.ds['LAND']"
   ]
  },
  {
   "cell_type": "markdown",
   "metadata": {},
   "source": [
    "Attributes to xarray dataset: "
   ]
  },
  {
   "cell_type": "code",
   "execution_count": null,
   "metadata": {},
   "outputs": [],
   "source": [
    "print('Coords:')\n",
    "print(africa.ds.coords)\n",
    "\n",
    "print('Attributes, metadata:')\n",
    "print(africa.ds.attrs)\n",
    "\n",
    "print('Size in bytes:')\n",
    "print(africa.ds.nbytes)"
   ]
  },
  {
   "cell_type": "markdown",
   "metadata": {},
   "source": [
    "We use a function from the class to save. Returns size.  "
   ]
  },
  {
   "cell_type": "code",
   "execution_count": null,
   "metadata": {},
   "outputs": [],
   "source": [
    "africa.save(file_name='africa.nc')"
   ]
  },
  {
   "cell_type": "code",
   "execution_count": null,
   "metadata": {},
   "outputs": [],
   "source": [
    "!stat africa.nc  "
   ]
  },
  {
   "cell_type": "markdown",
   "metadata": {},
   "source": [
    "Note that the module have very limited error handling, exceptions are raised by Python and the used models. "
   ]
  },
  {
   "cell_type": "code",
   "execution_count": null,
   "metadata": {},
   "outputs": [],
   "source": [
    "africa.ds['NO_DATA_HERE']\n",
    "\n",
    "# Raises: \"if var_name is None: KeyError: 'NO_DATA'\""
   ]
  },
  {
   "cell_type": "markdown",
   "metadata": {},
   "source": [
    "Saving the complete class object using `pickle` can also be handy. Be aware of the [risks with pickle](https://intoli.com/blog/dangerous-pickles/), only open files that you trust. "
   ]
  },
  {
   "cell_type": "code",
   "execution_count": null,
   "metadata": {},
   "outputs": [],
   "source": [
    "import pickle\n",
    "pickle.dump(africa, open( \"africa.p\", \"wb\" ))"
   ]
  },
  {
   "cell_type": "markdown",
   "metadata": {},
   "source": [
    "Clear memory: "
   ]
  },
  {
   "cell_type": "code",
   "execution_count": null,
   "metadata": {},
   "outputs": [],
   "source": [
    "del africa "
   ]
  },
  {
   "cell_type": "markdown",
   "metadata": {},
   "source": [
    " "
   ]
  },
  {
   "cell_type": "code",
   "execution_count": null,
   "metadata": {},
   "outputs": [],
   "source": [
    "africa = pickle.load( open( \"africa.p\", \"rb\" ) )\n",
    "print(africa.ds)"
   ]
  },
  {
   "cell_type": "code",
   "execution_count": null,
   "metadata": {},
   "outputs": [],
   "source": []
  }
 ],
 "metadata": {
  "kernelspec": {
   "display_name": "Python 3",
   "language": "python",
   "name": "python3"
  },
  "language_info": {
   "codemirror_mode": {
    "name": "ipython",
    "version": 3
   },
   "file_extension": ".py",
   "mimetype": "text/x-python",
   "name": "python",
   "nbconvert_exporter": "python",
   "pygments_lexer": "ipython3",
   "version": "3.6.7"
  }
 },
 "nbformat": 4,
 "nbformat_minor": 2
}
