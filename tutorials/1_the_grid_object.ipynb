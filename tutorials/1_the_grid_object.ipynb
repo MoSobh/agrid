{
 "cells": [
  {
   "cell_type": "markdown",
   "metadata": {},
   "source": [
    "# The grid as an object\n",
    "\n",
    "In this notebook, the grid object and the xarray dataset and data frame are explained and demonstrated with a few illustrating examples. \n",
    "\n",
    "---\n",
    "\n",
    "The module grid.py contains one class, `Grid()`. When we import the module, a few convenient variables are also generated. Most packages are imported with the module, but some rarely used dependencies are imported in functions when needed. More about this later. \n",
    "\n",
    "Dependencies: \n",
    "\n",
    "`basemap geopandas matplotlib numpy pyproj rasterio scipy xarray`\n",
    "\n",
    "and for some functions:\n",
    "\n",
    "`bokeh fiona holoviews imageio mayavi shapely `\n",
    "\n",
    "We import grid: "
   ]
  },
  {
   "cell_type": "code",
   "execution_count": 1,
   "metadata": {},
   "outputs": [
    {
     "name": "stderr",
     "output_type": "stream",
     "text": [
      "/Users/tobiasstal/anaconda3/lib/python3.6/site-packages/dask/config.py:168: YAMLLoadWarning: calling yaml.load() without Loader=... is deprecated, as the default Loader is unsafe. Please read https://msg.pyyaml.org/load for full details.\n",
      "  data = yaml.load(f.read()) or {}\n",
      "/Users/tobiasstal/anaconda3/lib/python3.6/site-packages/distributed/config.py:20: YAMLLoadWarning: calling yaml.load() without Loader=... is deprecated, as the default Loader is unsafe. Please read https://msg.pyyaml.org/load for full details.\n",
      "  defaults = yaml.load(f)\n"
     ]
    },
    {
     "name": "stdout",
     "output_type": "stream",
     "text": [
      "<class '__main__.Grid'>\n",
      "1000\n",
      "True\n",
      "True\n",
      "False\n",
      "<class 'module'> <class 'module'> <class 'module'>\n"
     ]
    }
   ],
   "source": [
    "#Depending on where the grid.py is located, you cane either call it from its location...\n",
    "\n",
    "config_file = \"../grid_code/agrid.py\"\n",
    "with open(config_file) as f:\n",
    "    code = compile(f.read(), config_file, 'exec')\n",
    "    exec(code, globals(), locals())\n",
    "\n",
    "# ... or use you Python path or present working directory:\n",
    "#from agrid import *\n",
    "\n",
    "# ... or add the package to your python path\n",
    "\n",
    "print(Grid)\n",
    "print(km) #-This is so handy! -You're welcome. \n",
    "\n",
    "#Check if some modules have been imported\n",
    "print('numpy' in sys.modules, \n",
    "      'rasterio' in sys.modules, \n",
    "      'bokeh' in sys.modules, sep='\\n') #(bokeh is imported in a function)\n",
    "\n",
    "print(type(np), type(plt), type(xr)) # Use of standard aliases "
   ]
  },
  {
   "cell_type": "markdown",
   "metadata": {},
   "source": [
    "We can now define a grid object. \n",
    "\n",
    "Each grid is a model frame with a defended, regular$^1$ spatial extent. The frame is generated when the object is initiated and resolution, coordinate system and coordinates are defined. \n",
    "\n",
    "The class defines an object. Let's say that we would like to develop a gridded model of the African continent. We want to use WGS 1984, EPSG:4326, and a resolution of $0.5^\\circ$. We define the extent as left, right, up, down in the units of the projection, degrees in this example. \n",
    "\n",
    "When initiating the object, a number of instance variables are defined. These contains the size of the grid, the name of the grid and the affine transform of the grid. (`use_dask` will be explained later). \n",
    "\n",
    "---\n",
    "1. This will updated in later versions. "
   ]
  },
  {
   "cell_type": "code",
   "execution_count": 2,
   "metadata": {},
   "outputs": [
    {
     "name": "stdout",
     "output_type": "stream",
     "text": [
      "<__main__.Grid object at 0x1133329e8>\n"
     ]
    }
   ],
   "source": [
    "africa = Grid(crs=4326, left=-20, down= -45, right=55, up=40, \n",
    "              res = (0.5, 0.5), use_dask=False)\n",
    "\n",
    "print(africa)"
   ]
  },
  {
   "cell_type": "markdown",
   "metadata": {},
   "source": [
    "With the object, variables are generated, both class variables and instance variables. \n",
    "\n",
    "E.g the class variable verbose is a switch for print statements from the functions. Instance variables `nx`, `ny`, `nn`, `shape3` are integers and tuples that conveniently gives to fundamental size of the grid. `transform` is the affine transform. "
   ]
  },
  {
   "cell_type": "code",
   "execution_count": 3,
   "metadata": {},
   "outputs": [
    {
     "name": "stdout",
     "output_type": "stream",
     "text": [
      "False\n",
      "169 149 (169, 149) (169, 149, 5)\n",
      "| 0.50, 0.00,-19.75|\n",
      "| 0.00,-0.50, 39.75|\n",
      "| 0.00, 0.00, 1.00|\n"
     ]
    }
   ],
   "source": [
    "# Class variables\n",
    "print(Grid.verbose) # Switch for print commands\n",
    "\n",
    "# Instance variables\n",
    "print(africa.ny, africa.nx, africa.nn, africa.shape3)\n",
    "print(africa.transform)"
   ]
  },
  {
   "cell_type": "markdown",
   "metadata": {},
   "source": [
    "Note that dimensions are given as y, x, not x, y. This was a tricky decision to take. The reasoning is, that numpy arrays are given as rows-columns. By given the y dimension first, we are consistent through the project, but I'd expect that this might cause confusion. I'm happy for suggestions of how to simplify the indexing. Indexing is, however, less a problem when we move to the main feature of the grid object, the xarray dataset. \n",
    "\n",
    "---\n",
    "\n",
    "Most important, and xarray dataset is created and it is already populated with dimensions that contains coordinates. X, Y and Z are (in this example) the three spatial dimensions. X and Y are set to the selected projection (epsg:4326) and is hence in degrees. \n",
    "\n",
    "Xarray dataset can be a bit tricky to grasp. There is good information at [xarray project page](http://xarray.pydata.org/en/stable/api.html) where there are a number of code examples. As always, [Stack overflow](https://stackoverflow.com/search?q=xarray) is a good resource as well. Think about it as Pandas, but multidimensional. It can also be understood as a very organized way to arrange numpy arrays in relation to each other. Another approach, if you are familiar with [NetCDF](https://www.unidata.ucar.edu/software/netcdf/), xarray has a similar internal structure. \n",
    "\n",
    "For our use, each grid object contains one dataset e.g. `africa.ds`. The dataset contains a number of data frames that are linked to coordinates in different dimensions. The dataset also contain attribute data. "
   ]
  },
  {
   "cell_type": "code",
   "execution_count": null,
   "metadata": {},
   "outputs": [],
   "source": [
    "print(africa.ds)"
   ]
  },
  {
   "cell_type": "markdown",
   "metadata": {},
   "source": [
    "We use standard Python / numpy methods to generate or process data and assign to the dataset. Here we generate a 2D array of data points and assign it to the Y and X coordinates of the grid. "
   ]
  },
  {
   "cell_type": "code",
   "execution_count": null,
   "metadata": {},
   "outputs": [],
   "source": [
    "random_data = np.random.random(africa.nn)\n",
    "africa.ds['RANDOM'] = (('Y', 'X'), random_data)"
   ]
  },
  {
   "cell_type": "markdown",
   "metadata": {},
   "source": [
    "The object contains a number of functions to import, process, export and visualize data in the grid. More about import functions in next tutorial. For now, we download a global polygon shape file. "
   ]
  },
  {
   "cell_type": "code",
   "execution_count": null,
   "metadata": {},
   "outputs": [],
   "source": [
    "# Usning standard *nix: \n",
    "\n",
    "! mkdir -p ../../data/vector\n",
    "! wget -nc http://data.openstreetmapdata.com/simplified-land-polygons-complete-3857.zip \\\n",
    "    -O ../../data/vector/simplified-land-polygons-complete-3857.zip\n",
    "! unzip -n ../../data/vector/simplified-land-polygons-complete-3857.zip -d ../../data/vector"
   ]
  },
  {
   "cell_type": "markdown",
   "metadata": {},
   "source": [
    "The shape file can be used to generate a Boolean raster. The function `assign_shape` in the object ´africa´ reads a shape file and rasterises it. Here, all polygons are assigned `True` as there is an FID attribute. This might take some time, as the vector layer is very large. This will also generate some warnings, as no vector file is perfect... \n",
    "\n",
    "Note again, the order of dimension: Y, X. "
   ]
  },
  {
   "cell_type": "code",
   "execution_count": null,
   "metadata": {},
   "outputs": [],
   "source": [
    "africa.ds['LAND'] = (('Y', 'X'), \n",
    "                     -1 < africa.assign_shape('../../data/vector/simplified-land-polygons-complete-3857/simplified_land_polygons.shp', 'FID') )"
   ]
  },
  {
   "cell_type": "markdown",
   "metadata": {},
   "source": [
    "Now, if we look at our dataset, we have two data variables, or frames. RANDOM and LAND. Both have an extent along the X and Y axes. "
   ]
  },
  {
   "cell_type": "code",
   "execution_count": null,
   "metadata": {},
   "outputs": [],
   "source": [
    "africa.ds"
   ]
  },
  {
   "cell_type": "markdown",
   "metadata": {},
   "source": [
    "Xarray works similar to numpy, in many ways. Here are some examples of arithmetic and conditional computations. We will look closer at the `map_grid` function in later tutorial. "
   ]
  },
  {
   "cell_type": "code",
   "execution_count": null,
   "metadata": {},
   "outputs": [],
   "source": [
    "africa.ds['BIG_RANDOM'] = africa.ds['RANDOM'] * 2 \n",
    "\n",
    "africa.ds['DATA'] = africa.ds['BIG_RANDOM']*africa.ds['LAND']\n",
    "\n",
    "africa.ds['DATA'] = africa.ds['DATA'].where(africa.ds['DATA'] != 0.)  \n",
    "\n",
    "africa.map_grid('DATA', cmap='viridis') # We only need to send the label to the function "
   ]
  },
  {
   "cell_type": "markdown",
   "metadata": {},
   "source": [
    "Xarray have a number option to index and select data. See details about the API at the [Xarray project page](http://xarray.pydata.org/en/stable/api.html). Here is a bunch of examples: "
   ]
  },
  {
   "cell_type": "code",
   "execution_count": null,
   "metadata": {},
   "outputs": [],
   "source": [
    "# Values can be assigned\n",
    "africa.ds['DATA'][dict(X=slice(4, 30), Y=slice(40, 60))] = 2\n",
    "\n",
    "# Unfortunately, sel cannot be used to directely assign values due to a limitation of Python's syntax. \n",
    "# https://stackoverflow.com/a/40030606/4535020\n",
    "# There should be a detour via a dict, but I dinn't get it to work yet:\n",
    "#africa.ds['DATA'].loc[dict(X=20, Y=-20)] = 1\n",
    "\n",
    "#modify one grid point, using where() or loc()\n",
    "africa.ds['DATA'] = xr.where((africa.ds.coords['lat']==-20)&(africa.ds.coords['lon']==30), 2, africa.ds['DATA'])\n",
    "\n",
    "# Assign value to an area with a mask \n",
    "mask = (africa.ds.coords['lat']>-20)&(africa.ds.coords['lat']<-12)&(africa.ds.coords['lon']>16)&(africa.ds.coords['lon']<25)\n",
    "africa.ds['DATA'] = xr.where(mask, 3, africa.ds['DATA'])\n",
    "\n",
    "# Data by numpy index:\n",
    "A =  africa.ds['DATA'][66, 33]\n",
    "\n",
    "# Coord by index:\n",
    "B = africa.ds.coords['lon'][66, 33]\n",
    "\n",
    "# Data by coord values:\n",
    "C = africa.ds['DATA'].isel(X=33, Y=66)\n",
    "\n",
    "# Closest to coordinate values:\n",
    "D = africa.ds['DATA'].sel(X=[14.5, 71.32], method='nearest') \n",
    "\n",
    "# Or another coordinate set:\n",
    "E = africa.ds.coords['lon'][66, 33]\n",
    "\n",
    "# Use coordinates to select a slice from a data array:\n",
    "F = africa.ds['DATA'][dict(X=slice(8, 18), Y=slice(58, 68))]\n",
    "\n",
    "# Select 2D array from slices of coordinates from dict of indicies\n",
    "G = africa.ds['DATA'][dict(X=slice(120, 150), Y=slice(40, 70))]\n",
    "\n",
    "# Select 2D array from coordinate values\n",
    "H = africa.ds['DATA'].sel(X=slice(5, 30), Y=slice(-10, -35))\n",
    "\n",
    "I = africa.ds['DATA'][10:150,10:150]\n",
    "\n",
    "fig, axes = plt.subplots(2,2, figsize=(10,10))\n",
    "\n",
    "for ax, array in zip(axes.flatten(), [F, G, H, I]):\n",
    "    ax.imshow(array)\n",
    "\n",
    "\n",
    "plt.show()"
   ]
  },
  {
   "cell_type": "markdown",
   "metadata": {},
   "source": [
    "This returned a cell of the entire dataset, but we can also extract numpy arrays and numbers by using a dictionary interface `values`: "
   ]
  },
  {
   "cell_type": "code",
   "execution_count": null,
   "metadata": {},
   "outputs": [],
   "source": [
    "print(type(africa))\n",
    "print(type(africa.ds))\n",
    "print(type(africa.ds['DATA']))\n",
    "print(type(africa.ds['DATA'].values))"
   ]
  },
  {
   "cell_type": "markdown",
   "metadata": {},
   "source": [
    "Meta data are important:"
   ]
  },
  {
   "cell_type": "code",
   "execution_count": null,
   "metadata": {},
   "outputs": [],
   "source": [
    "# Add attribute data directely\n",
    "africa.ds.attrs['units'] = 'degrees'\n",
    "africa.ds.attrs['contact'] = 'mail@address.gh'\n",
    "\n",
    "#Or as text, xml, json etc\n",
    "import json\n",
    "with open('attr.json', 'r') as fp:\n",
    "    meta_data = json.loads(fp.read())\n",
    "\n",
    "for item in meta_data.items():\n",
    "    africa.ds.attrs[item[0]] = item[1]"
   ]
  },
  {
   "cell_type": "markdown",
   "metadata": {},
   "source": [
    "Handy attributes to xarray dataset: "
   ]
  },
  {
   "cell_type": "code",
   "execution_count": null,
   "metadata": {},
   "outputs": [],
   "source": [
    "print('Coords:')\n",
    "print(africa.ds.coords)\n",
    "\n",
    "print('Attributes, metadata:')\n",
    "print(africa.ds.attrs)\n",
    "\n",
    "print('Size in bytes:')\n",
    "print(africa.ds.nbytes)"
   ]
  },
  {
   "cell_type": "markdown",
   "metadata": {},
   "source": [
    "We use a function from the class to save. Returns size.  "
   ]
  },
  {
   "cell_type": "code",
   "execution_count": null,
   "metadata": {},
   "outputs": [],
   "source": [
    "africa.save(file_name='africa.nc')"
   ]
  },
  {
   "cell_type": "code",
   "execution_count": null,
   "metadata": {},
   "outputs": [],
   "source": [
    "!stat africa.nc  "
   ]
  },
  {
   "cell_type": "markdown",
   "metadata": {},
   "source": [
    "Note that the module have very limited error handling, exceptions are raised by Python and the used models. "
   ]
  },
  {
   "cell_type": "code",
   "execution_count": null,
   "metadata": {},
   "outputs": [],
   "source": [
    "africa.ds['NO_DATA_HERE']\n",
    "\n",
    "# Raises: \"if var_name is None: KeyError: 'NO_DATA'\""
   ]
  },
  {
   "cell_type": "markdown",
   "metadata": {},
   "source": [
    "Clear memory: "
   ]
  },
  {
   "cell_type": "code",
   "execution_count": null,
   "metadata": {},
   "outputs": [],
   "source": [
    "#del africa "
   ]
  },
  {
   "cell_type": "code",
   "execution_count": null,
   "metadata": {},
   "outputs": [],
   "source": [
    "! which Python3"
   ]
  },
  {
   "cell_type": "code",
   "execution_count": 65,
   "metadata": {},
   "outputs": [],
   "source": [
    "import json\n",
    "\n",
    "\n",
    "\n",
    "#def toJSON(s):\n",
    "#        return json.dumps(s, default=lambda o: o.__dict__, \n",
    "#            sort_keys=True, indent=4)\n",
    "    \n",
    "write_coords = False\n",
    "    \n",
    "info = africa.__dict__.copy()\n",
    "info['ds'] = 'xarray dataset'\n",
    "info['coord_d_type'] = str(info['coord_d_type'])\n",
    "for array in ['xv', 'yv', 'lon', 'lat']:\n",
    "    if write_coords:\n",
    "        info[array] = info[array].tolist()\n",
    "    else:\n",
    "        info[array] = info[array][[0,0,-1,-1],[0,-1,0,-1]].tolist()\n",
    "\n",
    "\n",
    "with open('data.json', 'w') as outfile:\n",
    "    json.dump(info, outfile, indent=4, ensure_ascii=False)\n",
    "        "
   ]
  },
  {
   "cell_type": "code",
   "execution_count": 55,
   "metadata": {},
   "outputs": [
    {
     "data": {
      "text/plain": [
       "'{\\n    \"res\": [\\n        0.5,\\n        0.5\\n    ],\\n    \"depths\": [\\n        0.0,\\n        8000.0,\\n        16000.0,\\n        40000.0,\\n        350000.0\\n    ],\\n    \"x1y1x2y2\": [\\n        -19.75,\\n        39.75,\\n        54.75,\\n        -44.75\\n    ],\\n    \"wsen\": [\\n        -19.75,\\n        -44.75,\\n        54.75,\\n        39.75\\n    ],\\n    \"left\": -19.75,\\n    \"up\": 39.75,\\n    \"right\": 54.75,\\n    \"down\": -44.75,\\n    \"ul\": [\\n        -19.75,\\n        39.75\\n    ],\\n    \"ur\": [\\n        54.75,\\n        39.75\\n    ],\\n    \"lr\": [\\n        54.75,\\n        -44.75\\n    ],\\n    \"ll\": [\\n        -19.75,\\n        -44.75\\n    ],\\n    \"nx\": 149,\\n    \"ny\": 169,\\n    \"nn\": [\\n        169,\\n        149\\n    ],\\n    \"transform\": [\\n        0.5,\\n        0.0,\\n        -19.75,\\n        0.0,\\n        -0.5,\\n        39.75,\\n        0.0,\\n        0.0,\\n        1.0\\n    ],\\n    \"coord_d_type\": \"<class \\'numpy.float32\\'>\",\\n    \"ds\": \"xarray dataset\",\\n    \"nz\": 5,\\n    \"shape2\": [\\n        169,\\n        149\\n    ],\\n    \"shape3\": [\\n        169,\\n        149,\\n        5\\n    ],\\n    \"xv\": [\\n        -19.75,\\n        54.75,\\n        -19.75,\\n        54.75\\n    ],\\n    \"yv\": [\\n        39.75,\\n        39.75,\\n        -44.75,\\n        -44.75\\n    ],\\n    \"crs_src\": 4326,\\n    \"crs\": 4326,\\n    \"lon\": [\\n        -19.75,\\n        54.75000000000001,\\n        -19.75,\\n        54.75000000000001\\n    ],\\n    \"lat\": [\\n        39.75,\\n        39.75,\\n        -44.75,\\n        -44.75\\n    ]\\n}'"
      ]
     },
     "execution_count": 55,
     "metadata": {},
     "output_type": "execute_result"
    }
   ],
   "source": [
    "j"
   ]
  },
  {
   "cell_type": "code",
   "execution_count": 48,
   "metadata": {},
   "outputs": [
    {
     "data": {
      "text/plain": [
       "'{\"res\":[0.5,0.5],\"depths\":[0.0,8000.0,16000.0,40000.0,350000.0],\"x1y1x2y2\":[-19.75,39.75,54.75,-44.75],\"wsen\":[-19.75,-44.75,54.75,39.75],\"left\":-19.75,\"up\":39.75,\"right\":54.75,\"down\":-44.75,\"ul\":[-19.75,39.75],\"ur\":[54.75,39.75],\"lr\":[54.75,-44.75],\"ll\":[-19.75,-44.75],\"nx\":149,\"ny\":169,\"nn\":[169,149],\"transform\":[0.5,0.0,-19.75,0.0,-0.5,39.75,0.0,0.0,1.0],\"coord_d_type\":\"<class \\'numpy.float32\\'>\",\"ds\":\"xarray dataset\",\"nz\":5,\"shape2\":[169,149],\"shape3\":[169,149,5],\"xv\":[-19.75,54.75,-19.75,54.75],\"yv\":[39.75,39.75,-44.75,-44.75],\"crs_src\":4326,\"crs\":4326,\"lon\":[-19.75,54.75,-19.75,54.75],\"lat\":[39.75,39.75,-44.75,-44.75]}'"
      ]
     },
     "execution_count": 48,
     "metadata": {},
     "output_type": "execute_result"
    }
   ],
   "source": [
    "j"
   ]
  },
  {
   "cell_type": "code",
   "execution_count": null,
   "metadata": {},
   "outputs": [],
   "source": []
  }
 ],
 "metadata": {
  "kernelspec": {
   "display_name": "geocomp",
   "language": "python",
   "name": "geocomp"
  },
  "language_info": {
   "codemirror_mode": {
    "name": "ipython",
    "version": 3
   },
   "file_extension": ".py",
   "mimetype": "text/x-python",
   "name": "python",
   "nbconvert_exporter": "python",
   "pygments_lexer": "ipython3",
   "version": "3.6.7"
  }
 },
 "nbformat": 4,
 "nbformat_minor": 2
}
