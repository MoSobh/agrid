{
 "cells": [
  {
   "cell_type": "markdown",
   "metadata": {},
   "source": [
    "# Morse grid imports\n",
    "\n",
    "Here we look at applied examples to import data for use in Dr Peter Morse 3D visualtsation software _(in prep.)_. Data must be exported as $1800 \\times 3600$ px png files. This might change in future. \n",
    "\n",
    "Generally, the code in this tutorial runs rather slow as there is a large amount of interpolation. Have patience. \n",
    "\n",
    "Folder `../local` is used to download data and export pngs. \n",
    "\n",
    "This notebook also show some real examples of how agrid can be used. "
   ]
  },
  {
   "cell_type": "code",
   "execution_count": 44,
   "metadata": {},
   "outputs": [
    {
     "name": "stdout",
     "output_type": "stream",
     "text": [
      "The autoreload extension is already loaded. To reload it, use:\n",
      "  %reload_ext autoreload\n"
     ]
    }
   ],
   "source": [
    "%load_ext autoreload\n",
    "%autoreload 2"
   ]
  },
  {
   "cell_type": "code",
   "execution_count": 45,
   "metadata": {},
   "outputs": [],
   "source": [
    "#import warnings\n",
    "#warnings.filterwarnings('ignore')\n",
    "\n",
    "config_file = \"../agrid/agrid.py\"\n",
    "#with open(config_file) as f:\n",
    "#    code = compile(f.read(), config_file, 'exec')\n",
    "#    exec(code, globals(), locals())\n",
    "\n",
    "# ... or use you Python path or present working directory:\n",
    "import sys, os\n",
    "sys.path.append('..')\n",
    "\n",
    "from agrid.agrid.grid import Grid\n",
    "from agrid.acc import download\n",
    "\n",
    "import numpy as np\n",
    "\n",
    "from matplotlib import pyplot as plt\n",
    "\n",
    "import vtk\n",
    "from vtk.util.numpy_support import vtk_to_numpy"
   ]
  },
  {
   "cell_type": "code",
   "execution_count": 46,
   "metadata": {},
   "outputs": [
    {
     "name": "stdout",
     "output_type": "stream",
     "text": [
      "<module 'agrid.agrid.grid' from '../agrid/agrid/grid.py'>\n"
     ]
    }
   ],
   "source": [
    "import inspect\n",
    "print(inspect.getmodule(Grid))"
   ]
  },
  {
   "cell_type": "code",
   "execution_count": 54,
   "metadata": {},
   "outputs": [],
   "source": [
    "from morse_2019 import export_png"
   ]
  },
  {
   "cell_type": "markdown",
   "metadata": {},
   "source": [
    "## SMEAN2\n",
    "\n",
    "Download the mantel model from from Becker and Boschi, The University of Texas at Austin. See original paper [Becker and_Boschi 2002](http://www-udc.ig.utexas.edu/external/becker/becker_and_boschi_2002.pdf) for details. SMEAN2 contains additional datasets. (This was written before download functions wrere implimented in agrid, and is kept as an example of the functionlality in Jupyter.)"
   ]
  },
  {
   "cell_type": "code",
   "execution_count": 20,
   "metadata": {},
   "outputs": [
    {
     "name": "stdout",
     "output_type": "stream",
     "text": [
      "File ‘../../data/smean2/smean_grd.tgz’ already there; not retrieving.\n",
      "x smean2/\n",
      "x smean2/dvs.8.grd\n",
      "x smean2/dvs.32.grd\n",
      "x smean2/dvs.15.grd\n",
      "x smean2/dvs.29.grd\n",
      "x smean2/dvs.17.grd\n",
      "x smean2/dvs.28.grd\n",
      "x smean2/convert\n",
      "x smean2/dvs.44.grd\n",
      "x smean2/dvs.27.grd\n",
      "x smean2/dvs.55.grd\n",
      "x smean2/dvs.58.grd\n",
      "x smean2/dvs.22.grd\n",
      "x smean2/dvs.20.grd\n",
      "x smean2/dvs.6.grd\n",
      "x smean2/dvs.53.grd\n",
      "x smean2/dvs.11.grd\n",
      "x smean2/dvs.38.grd\n",
      "x smean2/dvs.33.grd\n",
      "x smean2/dvs.1.grd\n",
      "x smean2/dvs.13.grd\n",
      "x smean2/dvs.49.grd\n",
      "x smean2/depths.dat\n",
      "x smean2/dvs.50.grd\n",
      "x smean2/dvs.30.grd\n",
      "x smean2/d.31.model.ab\n",
      "x smean2/dvs.9.grd\n",
      "x smean2/dvs.42.grd\n",
      "x smean2/dvs.54.grd\n",
      "x smean2/dvs.43.grd\n",
      "x smean2/dvs.31.grd\n",
      "x smean2/dvs.47.grd\n",
      "x smean2/dvs.24.grd\n",
      "x smean2/dvs.7.grd\n",
      "x smean2/dvs.14.grd\n",
      "x smean2/dvs.4.grd\n",
      "x smean2/dvs.39.grd\n",
      "x smean2/dvs.34.grd\n",
      "x smean2/dvs.48.grd\n",
      "x smean2/dvs.23.grd\n",
      "x smean2/README\n",
      "x smean2/dvs.5.grd\n",
      "x smean2/dvs.46.grd\n",
      "x smean2/dvs.51.grd\n",
      "x smean2/dvs.19.grd\n",
      "x smean2/dvs.16.grd\n",
      "x smean2/dvs.41.grd\n",
      "x smean2/dvs.36.grd\n",
      "x smean2/dvs.25.grd\n",
      "x smean2/dvs.37.grd\n",
      "x smean2/dvs.35.grd\n",
      "x smean2/dvs.10.grd\n",
      "x smean2/dvs.21.grd\n",
      "x smean2/dvs.12.grd\n",
      "x smean2/dvs.45.grd\n",
      "x smean2/dvs.18.grd\n",
      "x smean2/dvs.57.grd\n",
      "x smean2/dvs.52.grd\n",
      "x smean2/dvs.56.grd\n",
      "x smean2/dvs.40.grd\n",
      "x smean2/dvs.26.grd\n",
      "x smean2/dvs.2.grd\n",
      "x smean2/dvs.3.grd\n",
      "\n",
      "GMT/Netcdf grid expansions of the SMEAN2 composite tomography\n",
      "\"model\". The approach follows that used by Becker and Boschi (G-Cubed,\n",
      "2002), but uses updated models:\n",
      "\n",
      "Gypsum-S (Simmons et al., 2011), S40RTS (Ritsema et al., 2011), and\n",
      "SAVANI (Auer et al., 2014).\n",
      "\n",
      "All files can be converted to ASCII files with lon-lat-value by GMT\n",
      "\n",
      "grd2xyz dvs.1.grd > data.lonlatv\n",
      "\n",
      "for example. \n",
      "\n",
      "These grid files were extracted from the original, spherical harmonics\n",
      "version, which is also included as file d.31.model.ab, and can be used\n",
      "via the \"shansyn\" tools, for example, available at\n",
      "\n",
      "http://www-udc.ig.utexas.edu/external/becker/sdata.html\n",
      "\n",
      "with the bash script \"convert\" that is part of this tar file. Shansyn\n",
      "comes also pre-installed as part of the Unified Geodynamics Earth\n",
      "Science Computing Environment at\n",
      "\n",
      "http://www-udc.ig.utexas.edu/external/becker/ugesce.html\n",
      "\n",
      "The grid file values are given are percentage v_S wave speed variation\n",
      "related to PREM, with layer averages removed.\n",
      "\n",
      "The original model was expanded on 58 levels, bottom up, at the depths\n",
      "indicated in km in the file depths.dat. Note that crustal levels\n",
      "shallower than 75 km are meaningless.\n",
      "\n",
      "For any questions or comments, please contact Thorsten Becker at\n",
      "twb@ig.utexas.edu.\n",
      "\n",
      "Thorsten Becker, Austin, June 2016"
     ]
    }
   ],
   "source": [
    "! mkdir -p ../../data/smean2\n",
    "! wget -nc http://www-udc.ig.utexas.edu/external/becker/ftp/smean2_grd.tgz \\\n",
    "    -O ../../data/smean2/smean_grd.tgz\n",
    "! tar -xvzf ../../data/smean2/smean_grd.tgz -C ../../data/\n",
    "\n",
    "! printf \"\\n\"\n",
    "! cat ../../data/smean2/README"
   ]
  },
  {
   "cell_type": "markdown",
   "metadata": {},
   "source": [
    "In this example, the data is global and we define a grid with the right rsolution from start. However, as we will see later, we could work on regional data as well. The exported png will always have a global coverage with alpha covering the excluded areas. \n",
    "\n",
    "We read depth values for smean from a provided ascii file. However we also have a regular depth dimention, defined as regular 50km depths. "
   ]
  },
  {
   "cell_type": "code",
   "execution_count": 21,
   "metadata": {},
   "outputs": [
    {
     "name": "stdout",
     "output_type": "stream",
     "text": [
      "[  20000   40000   60000   80000  100000  120000  140000  160000  180000\n",
      "  200000  220000  240000  260000  280000  300000  320000  340000  360000\n",
      "  380000  400000  420000  440000  460000  480000  500000  520000  540000\n",
      "  560000  580000  600000  620000  640000  660000  680000  700000  720000\n",
      "  740000  760000  780000  800000  820000  840000  860000  880000  900000\n",
      "  920000  940000  960000  980000 1000000 1050000 1100000 1150000 1200000\n",
      " 1250000 1300000 1350000 1400000 1450000 1500000 1550000 1600000 1650000\n",
      " 1700000 1750000 1800000 1850000 1900000 1950000 2000000 2050000 2100000\n",
      " 2150000 2200000 2250000 2300000 2350000 2400000 2450000 2500000 2550000\n",
      " 2600000 2650000 2700000 2750000 2800000 2850000]\n",
      "[2875000. 2825000. 2775000. 2725000. 2675000. 2625000. 2575000. 2525000.\n",
      " 2475000. 2425000. 2375000. 2325000. 2275000. 2225000. 2175000. 2125000.\n",
      " 2075000. 2025000. 1975000. 1925000. 1875000. 1825000. 1775000. 1725000.\n",
      " 1675000. 1625000. 1575000. 1525000. 1475000. 1425000. 1375000. 1325000.\n",
      " 1275000. 1225000. 1175000. 1125000. 1075000. 1025000.  975000.  925000.\n",
      "  875000.  825000.  775000.  725000.  675000.  625000.  575000.  525000.\n",
      "  475000.  425000.  375000.  325000.  275000.  225000.  175000.  125000.\n",
      "   75000.   25000.]\n"
     ]
    }
   ],
   "source": [
    "#columns from left to right represent radius,depth,density,Vpv,Vph,Vsv,Vsh,eta,Q-mu,Q-kappa\n",
    "km = 1000\n",
    "\n",
    "smean_depths = km * np.loadtxt('../../../data/smean2/depths.dat')\n",
    "max_depth = np.max(smean_depths)\n",
    "\n",
    "depths = km * np.array([*range(20, 1000, 20)] + [*range(1000, int(max_depth)//km, 50)])\n",
    "\n",
    "prem_d, prem_vsv, prem_vsh = km * np.loadtxt('../../../data/models/PREM_1s.csv', \n",
    "                              delimiter = ',', \n",
    "                              usecols = [1, 5, 6],\n",
    "                              unpack=True)\n",
    "\n",
    "prem_vsv = prem_vsv[prem_d < max_depth]\n",
    "prem_vsh = prem_vsh[prem_d < max_depth]\n",
    "prem_d = prem_d[prem_d < max_depth]\n",
    "\n",
    "print(depths)\n",
    "print(smean_depths)"
   ]
  },
  {
   "cell_type": "code",
   "execution_count": 22,
   "metadata": {},
   "outputs": [
    {
     "name": "stdout",
     "output_type": "stream",
     "text": [
      "<xarray.Dataset>\n",
      "Dimensions:  (RGB: 3, X: 3600, X_edge: 3601, Y: 1800, Y_edge: 1801, Z: 87, Z_edge: 88)\n",
      "Coordinates:\n",
      "  * X        (X) float32 -180.0 -179.89998 -179.79994 ... 179.89998 180.0\n",
      "  * Y        (Y) float32 -90.0 -89.89995 -89.79989 ... 89.79989 89.89995 90.0\n",
      "  * Z        (Z) float32 20000.0 40000.0 60000.0 ... 2800000.0 2850000.0\n",
      "  * X_edge   (X_edge) float32 -180.04999 -179.94997 ... 179.94997 180.04999\n",
      "  * Y_edge   (Y_edge) float32 -90.049995 -89.949936 ... 89.949936 90.049995\n",
      "  * Z_edge   (Z_edge) float64 1e+04 3e+04 5e+04 ... 2.825e+06 2.875e+06\n",
      "  * RGB      (RGB) <U1 'R' 'G' 'B'\n",
      "    XV       (Y, X) float32 dask.array<shape=(1800, 3600), chunksize=(180, 360)>\n",
      "    YV       (Y, X) float32 dask.array<shape=(1800, 3600), chunksize=(180, 360)>\n",
      "    lat      (Y, X) float32 dask.array<shape=(1800, 3600), chunksize=(180, 360)>\n",
      "    lon      (Y, X) float32 dask.array<shape=(1800, 3600), chunksize=(180, 360)>\n",
      "Data variables:\n",
      "    *empty*\n"
     ]
    }
   ],
   "source": [
    "world = Grid(crs_tgt = 4326, \n",
    "             left= -180, up=90, down= -90, right=180.0, \n",
    "             res=(0.09999,0.09999), \n",
    "             depths = depths)\n",
    "\n",
    "array = np.empty((world.ny, world.nx, world.ds.coords['Z'].size))\n",
    "array[:] = np.nan\n",
    "print(world.ds)"
   ]
  },
  {
   "cell_type": "code",
   "execution_count": 23,
   "metadata": {},
   "outputs": [],
   "source": [
    "world.ds['PREM_VSV'] = (('Z'), world.change_coord(prem_vsv, prem_d, 'Z') )"
   ]
  },
  {
   "cell_type": "markdown",
   "metadata": {},
   "source": [
    "Now, we can read SMEAN files. set_center alows us to read 0-360 as -180 - 180 lon. read_grid uses default nearest neighbour interpolation of datapoints to fit the predefined Morse grid. "
   ]
  },
  {
   "cell_type": "code",
   "execution_count": 24,
   "metadata": {},
   "outputs": [
    {
     "name": "stdout",
     "output_type": "stream",
     "text": [
      "<xarray.Dataset>\n",
      "Dimensions:   (RGB: 3, SMEAN_Z: 58, X: 3600, X_edge: 3601, Y: 1800, Y_edge: 1801, Z: 87, Z_edge: 88)\n",
      "Coordinates:\n",
      "  * X         (X) float32 -180.0 -179.89998 -179.79994 ... 179.89998 180.0\n",
      "  * Y         (Y) float32 -90.0 -89.89995 -89.79989 ... 89.79989 89.89995 90.0\n",
      "  * Z         (Z) float32 20000.0 40000.0 60000.0 ... 2800000.0 2850000.0\n",
      "  * X_edge    (X_edge) float32 -180.04999 -179.94997 ... 179.94997 180.04999\n",
      "  * Y_edge    (Y_edge) float32 -90.049995 -89.949936 ... 89.949936 90.049995\n",
      "  * Z_edge    (Z_edge) float64 1e+04 3e+04 5e+04 ... 2.825e+06 2.875e+06\n",
      "  * RGB       (RGB) <U1 'R' 'G' 'B'\n",
      "    XV        (Y, X) float32 dask.array<shape=(1800, 3600), chunksize=(180, 360)>\n",
      "    YV        (Y, X) float32 dask.array<shape=(1800, 3600), chunksize=(180, 360)>\n",
      "    lat       (Y, X) float32 dask.array<shape=(1800, 3600), chunksize=(180, 360)>\n",
      "    lon       (Y, X) float32 dask.array<shape=(1800, 3600), chunksize=(180, 360)>\n",
      "  * SMEAN_Z   (SMEAN_Z) float64 2.875e+06 2.825e+06 ... 7.5e+04 2.5e+04\n",
      "Data variables:\n",
      "    PREM_VSV  (Z) float64 3.9e+03 4.4e+03 4.404e+03 ... 7.266e+03 7.266e+03 nan\n"
     ]
    }
   ],
   "source": [
    "world.ds.coords['SMEAN_Z'] = smean_depths\n",
    "\n",
    "print(world.ds)"
   ]
  },
  {
   "cell_type": "code",
   "execution_count": 25,
   "metadata": {},
   "outputs": [
    {
     "name": "stdout",
     "output_type": "stream",
     "text": [
      "2875.0, JHJHJHJ\n",
      "2825.0, JHJHJHJ\n",
      "2775.0, JHJHJHJ\n",
      "2725.0, JHJHJHJ\n",
      "2675.0, JHJHJHJ\n",
      "2625.0, JHJHJHJ\n",
      "2575.0, JHJHJHJ\n",
      "2525.0, JHJHJHJ\n",
      "2475.0, JHJHJHJ\n",
      "2425.0, JHJHJHJ\n",
      "2375.0, JHJHJHJ\n",
      "2325.0, JHJHJHJ\n",
      "2275.0, JHJHJHJ\n",
      "2225.0, JHJHJHJ\n",
      "2175.0, JHJHJHJ\n",
      "2125.0, JHJHJHJ\n",
      "2075.0, JHJHJHJ\n",
      "2025.0, JHJHJHJ\n",
      "1975.0, JHJHJHJ\n",
      "1925.0, JHJHJHJ\n",
      "1875.0, JHJHJHJ\n",
      "1825.0, JHJHJHJ\n",
      "1775.0, JHJHJHJ\n",
      "1725.0, JHJHJHJ\n",
      "1675.0, JHJHJHJ\n",
      "1625.0, JHJHJHJ\n",
      "1575.0, JHJHJHJ\n",
      "1525.0, JHJHJHJ\n",
      "1475.0, JHJHJHJ\n",
      "1425.0, JHJHJHJ\n",
      "1375.0, JHJHJHJ\n",
      "1325.0, JHJHJHJ\n",
      "1275.0, JHJHJHJ\n",
      "1225.0, JHJHJHJ\n",
      "1175.0, JHJHJHJ\n",
      "1125.0, JHJHJHJ\n",
      "1075.0, JHJHJHJ\n",
      "1025.0, JHJHJHJ\n",
      "975.0, JHJHJHJ\n",
      "925.0, JHJHJHJ\n",
      "875.0, JHJHJHJ\n",
      "825.0, JHJHJHJ\n",
      "775.0, JHJHJHJ\n",
      "725.0, JHJHJHJ\n",
      "675.0, JHJHJHJ\n",
      "625.0, JHJHJHJ\n",
      "575.0, JHJHJHJ\n",
      "525.0, JHJHJHJ\n",
      "475.0, JHJHJHJ\n",
      "425.0, JHJHJHJ\n",
      "375.0, JHJHJHJ\n",
      "325.0, JHJHJHJ\n",
      "275.0, JHJHJHJ\n",
      "225.0, JHJHJHJ\n",
      "175.0, JHJHJHJ\n",
      "125.0, JHJHJHJ\n",
      "75.0, JHJHJHJ\n",
      "25.0, JHJHJHJ\n",
      "[[0.00145861 0.00145861 0.00145861 0.00145861 0.00145861 0.00145861\n",
      "  0.00145861 0.00145861 0.00145861 0.00145861 0.00145861 0.00145861\n",
      "  0.00145861 0.00145861]\n",
      " [0.00140298 0.00140298 0.00140298 0.00140298 0.00140298 0.00140298\n",
      "  0.00140298 0.00140298 0.00140298 0.00140298 0.00140282 0.00140282\n",
      "  0.00140282 0.00140282]\n",
      " [0.00134735 0.00134735 0.00134735 0.00134735 0.00134735 0.00134735\n",
      "  0.00134735 0.00134735 0.00134735 0.00134719 0.00134702 0.00134702\n",
      "  0.00134702 0.00134702]\n",
      " [0.00129172 0.00129172 0.00129172 0.00129172 0.00129172 0.00129172\n",
      "  0.00129172 0.00129172 0.00129156 0.0012914  0.00129123 0.00129123\n",
      "  0.00129123 0.00129108]\n",
      " [0.00123609 0.00123609 0.00123609 0.00123609 0.00123609 0.00123609\n",
      "  0.00123609 0.00123592 0.00123576 0.0012356  0.00123544 0.00123544\n",
      "  0.00123528 0.00123512]\n",
      " [0.00118045 0.00118045 0.00118045 0.00118045 0.00118045 0.00118045\n",
      "  0.00118029 0.00118013 0.00117996 0.0011798  0.00117964 0.00117948\n",
      "  0.00117933 0.00117917]\n",
      " [0.00112178 0.00112178 0.00112178 0.00112178 0.00112178 0.00112178\n",
      "  0.0011215  0.00112134 0.00112118 0.00112102 0.00112085 0.0011207\n",
      "  0.00112054 0.00112038]\n",
      " [0.00106312 0.00106312 0.00106312 0.00106312 0.00106312 0.00106312\n",
      "  0.00106284 0.00106256 0.0010624  0.00106224 0.00106207 0.00106192\n",
      "  0.00106176 0.0010616 ]\n",
      " [0.00100445 0.00100445 0.00100445 0.00100445 0.00100445 0.00100445\n",
      "  0.00100417 0.00100389 0.00100361 0.00100345 0.00100329 0.00100313\n",
      "  0.00100297 0.0010027 ]\n",
      " [0.00094578 0.00094578 0.00094578 0.00094578 0.00094578 0.00094578\n",
      "  0.00094551 0.00094523 0.00094495 0.00094467 0.00094451 0.00094435\n",
      "  0.00094408 0.00094381]\n",
      " [0.00088711 0.00088711 0.00088711 0.00088711 0.00088711 0.00088711\n",
      "  0.00088683 0.00088655 0.00088627 0.00088599 0.00088571 0.00088544\n",
      "  0.00088517 0.00088491]\n",
      " [0.0008265  0.0008265  0.0008265  0.0008265  0.0008265  0.0008265\n",
      "  0.00082622 0.00082594 0.00082566 0.00082538 0.00082505 0.00082474\n",
      "  0.00082447 0.0008242 ]\n",
      " [0.00076589 0.00076589 0.00076589 0.00076589 0.00076589 0.00076589\n",
      "  0.00076561 0.00076533 0.00076505 0.00076472 0.00076439 0.00076407\n",
      "  0.00076375 0.00076349]\n",
      " [0.00070528 0.00070528 0.00070528 0.00070528 0.00070528 0.00070528\n",
      "  0.000705   0.00070472 0.00070439 0.00070406 0.00070373 0.00070341\n",
      "  0.00070309 0.00070278]]\n"
     ]
    }
   ],
   "source": [
    "smean_array = np.empty((world.ny, world.nx, smean_depths.size))\n",
    "\n",
    "for i, a in enumerate(smean_depths):\n",
    "    print(a//km, end=', ')\n",
    "    index_name = smean_depths//km - i # Get right file name for each depth\n",
    "    fname = '../../../data/smean2/dvs.%s.grd'%(i+1)\n",
    "    if os.path.isfile(fname):\n",
    "        smean_array[:,:,i] = world.read_grid(fname, xyz = ('lon','lat','z'), set_center = True, pad_around = True)\n",
    "        \n",
    "smean_array /= 100    #\"The grid file values are given are percentage v_S wave \n",
    "#                #speed variation related to PREM, with layer averages removed.\"\n",
    "    \n",
    "print(smean_array[:14,:14,25])"
   ]
  },
  {
   "cell_type": "code",
   "execution_count": 26,
   "metadata": {},
   "outputs": [
    {
     "name": "stderr",
     "output_type": "stream",
     "text": [
      "[autoreload of agrid.agrid.grid failed: Traceback (most recent call last):\n",
      "  File \"/Users/tobiasstal/anaconda3/lib/python3.6/site-packages/IPython/extensions/autoreload.py\", line 245, in check\n",
      "    superreload(m, reload, self.old_objects)\n",
      "  File \"/Users/tobiasstal/anaconda3/lib/python3.6/site-packages/IPython/extensions/autoreload.py\", line 450, in superreload\n",
      "    update_generic(old_obj, new_obj)\n",
      "  File \"/Users/tobiasstal/anaconda3/lib/python3.6/site-packages/IPython/extensions/autoreload.py\", line 387, in update_generic\n",
      "    update(a, b)\n",
      "  File \"/Users/tobiasstal/anaconda3/lib/python3.6/site-packages/IPython/extensions/autoreload.py\", line 357, in update_class\n",
      "    update_instances(old, new)\n",
      "  File \"/Users/tobiasstal/anaconda3/lib/python3.6/site-packages/IPython/extensions/autoreload.py\", line 317, in update_instances\n",
      "    update_instances(old, new, obj, visited)\n",
      "  File \"/Users/tobiasstal/anaconda3/lib/python3.6/site-packages/IPython/extensions/autoreload.py\", line 317, in update_instances\n",
      "    update_instances(old, new, obj, visited)\n",
      "  File \"/Users/tobiasstal/anaconda3/lib/python3.6/site-packages/IPython/extensions/autoreload.py\", line 317, in update_instances\n",
      "    update_instances(old, new, obj, visited)\n",
      "  File \"/Users/tobiasstal/anaconda3/lib/python3.6/site-packages/IPython/extensions/autoreload.py\", line 300, in update_instances\n",
      "    for obj in (obj for obj in objects if id(obj) not in visited):\n",
      "  File \"/Users/tobiasstal/anaconda3/lib/python3.6/site-packages/IPython/extensions/autoreload.py\", line 300, in <genexpr>\n",
      "    for obj in (obj for obj in objects if id(obj) not in visited):\n",
      "KeyboardInterrupt\n",
      "]\n"
     ]
    },
    {
     "name": "stdout",
     "output_type": "stream",
     "text": [
      "<xarray.DataArray 'SMEAN_Z' (SMEAN_Z: 58)>\n",
      "array([2875000., 2825000., 2775000., 2725000., 2675000., 2625000., 2575000.,\n",
      "       2525000., 2475000., 2425000., 2375000., 2325000., 2275000., 2225000.,\n",
      "       2175000., 2125000., 2075000., 2025000., 1975000., 1925000., 1875000.,\n",
      "       1825000., 1775000., 1725000., 1675000., 1625000., 1575000., 1525000.,\n",
      "       1475000., 1425000., 1375000., 1325000., 1275000., 1225000., 1175000.,\n",
      "       1125000., 1075000., 1025000.,  975000.,  925000.,  875000.,  825000.,\n",
      "        775000.,  725000.,  675000.,  625000.,  575000.,  525000.,  475000.,\n",
      "        425000.,  375000.,  325000.,  275000.,  225000.,  175000.,  125000.,\n",
      "         75000.,   25000.])\n",
      "Coordinates:\n",
      "  * SMEAN_Z  (SMEAN_Z) float64 2.875e+06 2.825e+06 2.775e+06 ... 7.5e+04 2.5e+04\n"
     ]
    },
    {
     "name": "stderr",
     "output_type": "stream",
     "text": [
      "../agrid/agrid/grid.py:1173: MatplotlibDeprecationWarning: \n",
      "The dedent function was deprecated in Matplotlib 3.1 and will be removed in 3.3. Use inspect.cleandoc instead.\n",
      "  resolution=map_res,\n"
     ]
    },
    {
     "ename": "KeyboardInterrupt",
     "evalue": "",
     "output_type": "error",
     "traceback": [
      "\u001b[0;31m---------------------------------------------------------------------------\u001b[0m",
      "\u001b[0;31mKeyboardInterrupt\u001b[0m                         Traceback (most recent call last)",
      "\u001b[0;32m<ipython-input-26-2af8b21bbf50>\u001b[0m in \u001b[0;36m<module>\u001b[0;34m\u001b[0m\n\u001b[1;32m      4\u001b[0m \u001b[0mprint\u001b[0m\u001b[0;34m(\u001b[0m\u001b[0mworld\u001b[0m\u001b[0;34m.\u001b[0m\u001b[0mds\u001b[0m\u001b[0;34m.\u001b[0m\u001b[0mSMEAN_Z\u001b[0m\u001b[0;34m)\u001b[0m\u001b[0;34m\u001b[0m\u001b[0;34m\u001b[0m\u001b[0m\n\u001b[1;32m      5\u001b[0m \u001b[0;34m\u001b[0m\u001b[0m\n\u001b[0;32m----> 6\u001b[0;31m \u001b[0mworld\u001b[0m\u001b[0;34m.\u001b[0m\u001b[0mmap_grid\u001b[0m\u001b[0;34m(\u001b[0m\u001b[0mworld\u001b[0m\u001b[0;34m.\u001b[0m\u001b[0mds\u001b[0m\u001b[0;34m.\u001b[0m\u001b[0mSMEAN\u001b[0m\u001b[0;34m.\u001b[0m\u001b[0msel\u001b[0m\u001b[0;34m(\u001b[0m\u001b[0mSMEAN_Z\u001b[0m\u001b[0;34m=\u001b[0m\u001b[0;36m75\u001b[0m\u001b[0;34m*\u001b[0m\u001b[0mkm\u001b[0m\u001b[0;34m)\u001b[0m\u001b[0;34m)\u001b[0m\u001b[0;34m\u001b[0m\u001b[0;34m\u001b[0m\u001b[0m\n\u001b[0m",
      "\u001b[0;32m~/proj/grid/grid/agrid/agrid/grid.py\u001b[0m in \u001b[0;36mmap_grid\u001b[0;34m(self, im_data, vectors, v_col, v_alpha, v_lw, v_x_offset, v_y_offset, vmin, vmax, cmap, cbar, cbar_label, extent, line_c, line_grid_c, line_w, circ_map, figsize, land_only, ocean_color, no_land_fill, title, save_name, show, map_res, draw_coast, draw_grid, par, mer, *args, **kwargs)\u001b[0m\n\u001b[1;32m   1171\u001b[0m                     \u001b[0murcrnrlat\u001b[0m\u001b[0;34m=\u001b[0m\u001b[0mself\u001b[0m\u001b[0;34m.\u001b[0m\u001b[0mlat\u001b[0m\u001b[0;34m[\u001b[0m\u001b[0;34m-\u001b[0m\u001b[0;36m1\u001b[0m\u001b[0;34m,\u001b[0m \u001b[0;34m-\u001b[0m\u001b[0;36m1\u001b[0m\u001b[0;34m]\u001b[0m\u001b[0;34m,\u001b[0m\u001b[0;34m\u001b[0m\u001b[0;34m\u001b[0m\u001b[0m\n\u001b[1;32m   1172\u001b[0m                     \u001b[0mresolution\u001b[0m\u001b[0;34m=\u001b[0m\u001b[0mmap_res\u001b[0m\u001b[0;34m,\u001b[0m\u001b[0;34m\u001b[0m\u001b[0;34m\u001b[0m\u001b[0m\n\u001b[0;32m-> 1173\u001b[0;31m                     epsg=basemap_epsg, **kwargs)\n\u001b[0m\u001b[1;32m   1174\u001b[0m \u001b[0;34m\u001b[0m\u001b[0m\n\u001b[1;32m   1175\u001b[0m         \u001b[0;32mif\u001b[0m \u001b[0mextent\u001b[0m \u001b[0;32mis\u001b[0m \u001b[0;32mNone\u001b[0m\u001b[0;34m:\u001b[0m\u001b[0;34m\u001b[0m\u001b[0;34m\u001b[0m\u001b[0m\n",
      "\u001b[0;32m~/anaconda3/lib/python3.6/site-packages/mpl_toolkits/basemap/__init__.py\u001b[0m in \u001b[0;36m__init__\u001b[0;34m(self, llcrnrlon, llcrnrlat, urcrnrlon, urcrnrlat, llcrnrx, llcrnry, urcrnrx, urcrnry, width, height, projection, resolution, area_thresh, rsphere, ellps, lat_ts, lat_1, lat_2, lat_0, lon_0, lon_1, lon_2, o_lon_p, o_lat_p, k_0, no_rot, suppress_ticks, satellite_height, boundinglat, fix_aspect, anchor, celestial, round, epsg, ax)\u001b[0m\n\u001b[1;32m   1128\u001b[0m             \u001b[0;31m# replace coastsegs with line segments (instead of polygons)\u001b[0m\u001b[0;34m\u001b[0m\u001b[0;34m\u001b[0m\u001b[0;34m\u001b[0m\u001b[0m\n\u001b[1;32m   1129\u001b[0m             \u001b[0mself\u001b[0m\u001b[0;34m.\u001b[0m\u001b[0mcoastsegs\u001b[0m\u001b[0;34m,\u001b[0m \u001b[0mtypes\u001b[0m \u001b[0;34m=\u001b[0m\u001b[0;31m\\\u001b[0m\u001b[0;34m\u001b[0m\u001b[0;34m\u001b[0m\u001b[0m\n\u001b[0;32m-> 1130\u001b[0;31m             \u001b[0mself\u001b[0m\u001b[0;34m.\u001b[0m\u001b[0m_readboundarydata\u001b[0m\u001b[0;34m(\u001b[0m\u001b[0;34m'gshhs'\u001b[0m\u001b[0;34m,\u001b[0m\u001b[0mas_polygons\u001b[0m\u001b[0;34m=\u001b[0m\u001b[0;32mFalse\u001b[0m\u001b[0;34m)\u001b[0m\u001b[0;34m\u001b[0m\u001b[0;34m\u001b[0m\u001b[0m\n\u001b[0m\u001b[1;32m   1131\u001b[0m         \u001b[0;31m# create geos Polygon structures for land areas.\u001b[0m\u001b[0;34m\u001b[0m\u001b[0;34m\u001b[0m\u001b[0;34m\u001b[0m\u001b[0m\n\u001b[1;32m   1132\u001b[0m         \u001b[0;31m# currently only used in is_land method.\u001b[0m\u001b[0;34m\u001b[0m\u001b[0;34m\u001b[0m\u001b[0;34m\u001b[0m\u001b[0m\n",
      "\u001b[0;32m~/anaconda3/lib/python3.6/site-packages/mpl_toolkits/basemap/__init__.py\u001b[0m in \u001b[0;36m_readboundarydata\u001b[0;34m(self, name, as_polygons)\u001b[0m\n\u001b[1;32m   1392\u001b[0m                         \u001b[0;32mfor\u001b[0m \u001b[0mpoly\u001b[0m \u001b[0;32min\u001b[0m \u001b[0mpolys\u001b[0m\u001b[0;34m:\u001b[0m\u001b[0;34m\u001b[0m\u001b[0;34m\u001b[0m\u001b[0m\n\u001b[1;32m   1393\u001b[0m                             \u001b[0;31m# try to fix \"non-noded intersection\" errors.\u001b[0m\u001b[0;34m\u001b[0m\u001b[0;34m\u001b[0m\u001b[0;34m\u001b[0m\u001b[0m\n\u001b[0;32m-> 1394\u001b[0;31m                             \u001b[0;32mif\u001b[0m \u001b[0;32mnot\u001b[0m \u001b[0mpoly\u001b[0m\u001b[0;34m.\u001b[0m\u001b[0mis_valid\u001b[0m\u001b[0;34m(\u001b[0m\u001b[0;34m)\u001b[0m\u001b[0;34m:\u001b[0m \u001b[0mpoly\u001b[0m\u001b[0;34m=\u001b[0m\u001b[0mpoly\u001b[0m\u001b[0;34m.\u001b[0m\u001b[0mfix\u001b[0m\u001b[0;34m(\u001b[0m\u001b[0;34m)\u001b[0m\u001b[0;34m\u001b[0m\u001b[0;34m\u001b[0m\u001b[0m\n\u001b[0m\u001b[1;32m   1395\u001b[0m                             \u001b[0;31m# if polygon instersects map projection\u001b[0m\u001b[0;34m\u001b[0m\u001b[0;34m\u001b[0m\u001b[0;34m\u001b[0m\u001b[0m\n\u001b[1;32m   1396\u001b[0m                             \u001b[0;31m# region, process it.\u001b[0m\u001b[0;34m\u001b[0m\u001b[0;34m\u001b[0m\u001b[0;34m\u001b[0m\u001b[0m\n",
      "\u001b[0;31mKeyboardInterrupt\u001b[0m: "
     ]
    }
   ],
   "source": [
    "world.ds['SMEAN'] = (('Y', 'X', 'SMEAN_Z'), smean_array)\n",
    "\n",
    "\n",
    "print(world.ds.SMEAN_Z)\n",
    "\n",
    "world.map_grid(world.ds.SMEAN.sel(SMEAN_Z=75*km))"
   ]
  },
  {
   "cell_type": "code",
   "execution_count": 27,
   "metadata": {},
   "outputs": [
    {
     "data": {
      "text/plain": [
       "0.01785030737492207"
      ]
     },
     "execution_count": 27,
     "metadata": {},
     "output_type": "execute_result"
    }
   ],
   "source": [
    "world.ds.SMEAN.sel(SMEAN_Z=75*km).values[1000,0]"
   ]
  },
  {
   "cell_type": "markdown",
   "metadata": {},
   "source": [
    "Finally, we export the 3D grids as png files for each depth slice. We store a set of original depth slices in ''morse/smean/z_orig/' and also the interpolated depth slices in 'morse/smean/z_even/'. This might take some time. "
   ]
  },
  {
   "cell_type": "code",
   "execution_count": 28,
   "metadata": {},
   "outputs": [
    {
     "name": "stdout",
     "output_type": "stream",
     "text": [
      "-0.12535165761833922 0.07612317009959951\n"
     ]
    }
   ],
   "source": [
    "smean_min = np.nanmin(smean_array)\n",
    "smean_max = np.nanmax(smean_array)\n",
    "\n",
    "print(smean_min, smean_max)"
   ]
  },
  {
   "cell_type": "code",
   "execution_count": 29,
   "metadata": {},
   "outputs": [
    {
     "ename": "KeyboardInterrupt",
     "evalue": "",
     "output_type": "error",
     "traceback": [
      "\u001b[0;31m---------------------------------------------------------------------------\u001b[0m",
      "\u001b[0;31mKeyboardInterrupt\u001b[0m                         Traceback (most recent call last)",
      "\u001b[0;32m<ipython-input-29-8ac33e575c5e>\u001b[0m in \u001b[0;36m<module>\u001b[0;34m\u001b[0m\n\u001b[0;32m----> 1\u001b[0;31m \u001b[0mnew_smean_array\u001b[0m  \u001b[0;34m=\u001b[0m \u001b[0mworld\u001b[0m\u001b[0;34m.\u001b[0m\u001b[0mchange_coord\u001b[0m\u001b[0;34m(\u001b[0m\u001b[0msmean_array\u001b[0m\u001b[0;34m,\u001b[0m \u001b[0mold\u001b[0m\u001b[0;34m=\u001b[0m\u001b[0msmean_depths\u001b[0m\u001b[0;34m,\u001b[0m \u001b[0mnew\u001b[0m\u001b[0;34m=\u001b[0m\u001b[0;34m'Z'\u001b[0m\u001b[0;34m)\u001b[0m\u001b[0;34m\u001b[0m\u001b[0;34m\u001b[0m\u001b[0m\n\u001b[0m",
      "\u001b[0;32m~/proj/grid/grid/agrid/agrid/grid.py\u001b[0m in \u001b[0;36mchange_coord\u001b[0;34m(self, array, old, new, fill_value, interpol, axis, bounds_error, **kwargs)\u001b[0m\n\u001b[1;32m    395\u001b[0m                                     \u001b[0mkind\u001b[0m\u001b[0;34m=\u001b[0m\u001b[0minterpol\u001b[0m\u001b[0;34m,\u001b[0m\u001b[0;34m\u001b[0m\u001b[0;34m\u001b[0m\u001b[0m\n\u001b[1;32m    396\u001b[0m                                     \u001b[0mfill_value\u001b[0m\u001b[0;34m=\u001b[0m\u001b[0mfill_value\u001b[0m\u001b[0;34m,\u001b[0m\u001b[0;34m\u001b[0m\u001b[0;34m\u001b[0m\u001b[0m\n\u001b[0;32m--> 397\u001b[0;31m                                     **kwargs)(new)\n\u001b[0m\u001b[1;32m    398\u001b[0m \u001b[0;34m\u001b[0m\u001b[0m\n\u001b[1;32m    399\u001b[0m     \u001b[0;32mdef\u001b[0m \u001b[0mfold_to_low_res\u001b[0m\u001b[0;34m(\u001b[0m\u001b[0mself\u001b[0m\u001b[0;34m,\u001b[0m \u001b[0mlarge\u001b[0m\u001b[0;34m,\u001b[0m \u001b[0msmall\u001b[0m\u001b[0;34m)\u001b[0m\u001b[0;34m:\u001b[0m\u001b[0;34m\u001b[0m\u001b[0;34m\u001b[0m\u001b[0m\n",
      "\u001b[0;32m~/anaconda3/lib/python3.6/site-packages/scipy/interpolate/polyint.py\u001b[0m in \u001b[0;36m__call__\u001b[0;34m(self, x)\u001b[0m\n\u001b[1;32m     77\u001b[0m         \"\"\"\n\u001b[1;32m     78\u001b[0m         \u001b[0mx\u001b[0m\u001b[0;34m,\u001b[0m \u001b[0mx_shape\u001b[0m \u001b[0;34m=\u001b[0m \u001b[0mself\u001b[0m\u001b[0;34m.\u001b[0m\u001b[0m_prepare_x\u001b[0m\u001b[0;34m(\u001b[0m\u001b[0mx\u001b[0m\u001b[0;34m)\u001b[0m\u001b[0;34m\u001b[0m\u001b[0;34m\u001b[0m\u001b[0m\n\u001b[0;32m---> 79\u001b[0;31m         \u001b[0my\u001b[0m \u001b[0;34m=\u001b[0m \u001b[0mself\u001b[0m\u001b[0;34m.\u001b[0m\u001b[0m_evaluate\u001b[0m\u001b[0;34m(\u001b[0m\u001b[0mx\u001b[0m\u001b[0;34m)\u001b[0m\u001b[0;34m\u001b[0m\u001b[0;34m\u001b[0m\u001b[0m\n\u001b[0m\u001b[1;32m     80\u001b[0m         \u001b[0;32mreturn\u001b[0m \u001b[0mself\u001b[0m\u001b[0;34m.\u001b[0m\u001b[0m_finish_y\u001b[0m\u001b[0;34m(\u001b[0m\u001b[0my\u001b[0m\u001b[0;34m,\u001b[0m \u001b[0mx_shape\u001b[0m\u001b[0;34m)\u001b[0m\u001b[0;34m\u001b[0m\u001b[0;34m\u001b[0m\u001b[0m\n\u001b[1;32m     81\u001b[0m \u001b[0;34m\u001b[0m\u001b[0m\n",
      "\u001b[0;32m~/anaconda3/lib/python3.6/site-packages/scipy/interpolate/interpolate.py\u001b[0m in \u001b[0;36m_evaluate\u001b[0;34m(self, x_new)\u001b[0m\n\u001b[1;32m    659\u001b[0m         \u001b[0;31m#    The behavior is set by the bounds_error variable.\u001b[0m\u001b[0;34m\u001b[0m\u001b[0;34m\u001b[0m\u001b[0;34m\u001b[0m\u001b[0m\n\u001b[1;32m    660\u001b[0m         \u001b[0mx_new\u001b[0m \u001b[0;34m=\u001b[0m \u001b[0masarray\u001b[0m\u001b[0;34m(\u001b[0m\u001b[0mx_new\u001b[0m\u001b[0;34m)\u001b[0m\u001b[0;34m\u001b[0m\u001b[0;34m\u001b[0m\u001b[0m\n\u001b[0;32m--> 661\u001b[0;31m         \u001b[0my_new\u001b[0m \u001b[0;34m=\u001b[0m \u001b[0mself\u001b[0m\u001b[0;34m.\u001b[0m\u001b[0m_call\u001b[0m\u001b[0;34m(\u001b[0m\u001b[0mself\u001b[0m\u001b[0;34m,\u001b[0m \u001b[0mx_new\u001b[0m\u001b[0;34m)\u001b[0m\u001b[0;34m\u001b[0m\u001b[0;34m\u001b[0m\u001b[0m\n\u001b[0m\u001b[1;32m    662\u001b[0m         \u001b[0;32mif\u001b[0m \u001b[0;32mnot\u001b[0m \u001b[0mself\u001b[0m\u001b[0;34m.\u001b[0m\u001b[0m_extrapolate\u001b[0m\u001b[0;34m:\u001b[0m\u001b[0;34m\u001b[0m\u001b[0;34m\u001b[0m\u001b[0m\n\u001b[1;32m    663\u001b[0m             \u001b[0mbelow_bounds\u001b[0m\u001b[0;34m,\u001b[0m \u001b[0mabove_bounds\u001b[0m \u001b[0;34m=\u001b[0m \u001b[0mself\u001b[0m\u001b[0;34m.\u001b[0m\u001b[0m_check_bounds\u001b[0m\u001b[0;34m(\u001b[0m\u001b[0mx_new\u001b[0m\u001b[0;34m)\u001b[0m\u001b[0;34m\u001b[0m\u001b[0;34m\u001b[0m\u001b[0m\n",
      "\u001b[0;32m~/anaconda3/lib/python3.6/site-packages/scipy/interpolate/interpolate.py\u001b[0m in \u001b[0;36m_call_linear\u001b[0;34m(self, x_new)\u001b[0m\n\u001b[1;32m    603\u001b[0m         \u001b[0mx_hi\u001b[0m \u001b[0;34m=\u001b[0m \u001b[0mself\u001b[0m\u001b[0;34m.\u001b[0m\u001b[0mx\u001b[0m\u001b[0;34m[\u001b[0m\u001b[0mhi\u001b[0m\u001b[0;34m]\u001b[0m\u001b[0;34m\u001b[0m\u001b[0;34m\u001b[0m\u001b[0m\n\u001b[1;32m    604\u001b[0m         \u001b[0my_lo\u001b[0m \u001b[0;34m=\u001b[0m \u001b[0mself\u001b[0m\u001b[0;34m.\u001b[0m\u001b[0m_y\u001b[0m\u001b[0;34m[\u001b[0m\u001b[0mlo\u001b[0m\u001b[0;34m]\u001b[0m\u001b[0;34m\u001b[0m\u001b[0;34m\u001b[0m\u001b[0m\n\u001b[0;32m--> 605\u001b[0;31m         \u001b[0my_hi\u001b[0m \u001b[0;34m=\u001b[0m \u001b[0mself\u001b[0m\u001b[0;34m.\u001b[0m\u001b[0m_y\u001b[0m\u001b[0;34m[\u001b[0m\u001b[0mhi\u001b[0m\u001b[0;34m]\u001b[0m\u001b[0;34m\u001b[0m\u001b[0;34m\u001b[0m\u001b[0m\n\u001b[0m\u001b[1;32m    606\u001b[0m \u001b[0;34m\u001b[0m\u001b[0m\n\u001b[1;32m    607\u001b[0m         \u001b[0;31m# Note that the following two expressions rely on the specifics of the\u001b[0m\u001b[0;34m\u001b[0m\u001b[0;34m\u001b[0m\u001b[0;34m\u001b[0m\u001b[0m\n",
      "\u001b[0;31mKeyboardInterrupt\u001b[0m: "
     ]
    }
   ],
   "source": [
    "#new_smean_array  = world.change_coord(smean_array, old=smean_depths, new='Z')"
   ]
  },
  {
   "cell_type": "code",
   "execution_count": null,
   "metadata": {},
   "outputs": [],
   "source": [
    "#np.shape(new_smean_array)"
   ]
  },
  {
   "cell_type": "code",
   "execution_count": null,
   "metadata": {},
   "outputs": [],
   "source": [
    "#world.ds['SMEAN_INTERPOL'] = (('Y', 'X', 'Z'), new_smean_array)"
   ]
  },
  {
   "cell_type": "code",
   "execution_count": null,
   "metadata": {},
   "outputs": [],
   "source": [
    "import pickle\n",
    "#pickle.dump(world, open( \"../local/world.p\", \"wb\" ), protocol=4)\n",
    "#w = open( \"../local/world.p\", \"wb\" )\n",
    "#pickle.dump(world,w,protocol=pickle.HIGHEST_PROTOCOL)\n",
    "#world = pickle.load( open( \"../local/world.p\", \"rb\" ) )"
   ]
  },
  {
   "cell_type": "code",
   "execution_count": null,
   "metadata": {},
   "outputs": [],
   "source": [
    "! mkdir -p ../local/morse/smean2"
   ]
  },
  {
   "cell_type": "code",
   "execution_count": 30,
   "metadata": {},
   "outputs": [],
   "source": [
    "clip_min = -0.024\n",
    "clip_max = 0.024"
   ]
  },
  {
   "cell_type": "markdown",
   "metadata": {},
   "source": [
    "We have a quick look at the interpolation for some test pixels, it looks OK. "
   ]
  },
  {
   "cell_type": "code",
   "execution_count": 31,
   "metadata": {},
   "outputs": [
    {
     "data": {
      "image/png": "[encoded data removed]",
      "text/plain": [
       "<Figure size 432x288 with 1 Axes>"
      ]
     },
     "metadata": {
      "needs_background": "light"
     },
     "output_type": "display_data"
    }
   ],
   "source": [
    "test_pixels = [(12,12),(123,123),(500,500),(0,0)]\n",
    "\n",
    "for test_pixel in test_pixels:\n",
    "    plt.plot(world.ds['SMEAN'][test_pixel[0],test_pixel[1],:], -world.ds['SMEAN_Z']/km)"
   ]
  },
  {
   "cell_type": "markdown",
   "metadata": {},
   "source": [
    "First we convert the original depths to png rasters. We clip the values to +/- 2.4%:"
   ]
  },
  {
   "cell_type": "code",
   "execution_count": 58,
   "metadata": {},
   "outputs": [
    {
     "name": "stdout",
     "output_type": "stream",
     "text": [
      "greyscale: False\n",
      "alpha: False\n",
      "planes: 3\n",
      "bitdepth: 8\n",
      "interlace: 0\n",
      "size: (3600, 1800)\n",
      "\n",
      "../local/morse/smean2/0025_smean2.png, -0.024, 0.024, 8, nearest, -0.12535165761833922, 0.0616335960167271, 0.0, 1.0, 0.0, 255.0, 0, 255\n",
      "greyscale: False\n",
      "alpha: False\n",
      "planes: 3\n",
      "bitdepth: 8\n",
      "interlace: 0\n",
      "size: (3600, 1800)\n",
      "\n",
      "../local/morse/smean2/0075_smean2.png, -0.024, 0.024, 8, nearest, -0.07394451145304629, 0.06600640689681313, 0.0, 1.0, 0.0, 255.0, 0, 255\n",
      "greyscale: False\n",
      "alpha: False\n",
      "planes: 3\n",
      "bitdepth: 8\n",
      "interlace: 0\n",
      "size: (3600, 1800)\n",
      "\n",
      "../local/morse/smean2/0125_smean2.png, -0.024, 0.024, 8, nearest, -0.06561713460108877, 0.07612317009959951, 0.0, 1.0, 0.0, 255.0, 0, 255\n",
      "greyscale: False\n",
      "alpha: False\n",
      "planes: 3\n",
      "bitdepth: 8\n",
      "interlace: 0\n",
      "size: (3600, 1800)\n",
      "\n",
      "../local/morse/smean2/0175_smean2.png, -0.024, 0.024, 8, nearest, -0.04738297446398065, 0.06784743098185572, 0.0, 1.0, 0.0, 255.0, 0, 255\n",
      "greyscale: False\n",
      "alpha: False\n",
      "planes: 3\n",
      "bitdepth: 8\n",
      "interlace: 0\n",
      "size: (3600, 1800)\n",
      "\n",
      "../local/morse/smean2/0225_smean2.png, -0.024, 0.024, 8, nearest, -0.03828986294673996, 0.047777642162618573, 0.0, 1.0, 0.0, 255.0, 0, 255\n",
      "greyscale: False\n",
      "alpha: False\n",
      "planes: 3\n",
      "bitdepth: 8\n",
      "interlace: 0\n",
      "size: (3600, 1800)\n",
      "\n",
      "../local/morse/smean2/0275_smean2.png, -0.024, 0.024, 8, nearest, -0.03145736740448228, 0.0322429687962358, 0.0, 1.0, 0.0, 255.0, 0, 255\n",
      "greyscale: False\n",
      "alpha: False\n",
      "planes: 3\n",
      "bitdepth: 8\n",
      "interlace: 0\n",
      "size: (3600, 1800)\n",
      "\n",
      "../local/morse/smean2/0325_smean2.png, -0.024, 0.024, 8, nearest, -0.028995582036977795, 0.025453028880515375, 0.0, 1.0, 0.0, 255.0, 0, 255\n",
      "greyscale: False\n",
      "alpha: False\n",
      "planes: 3\n",
      "bitdepth: 8\n",
      "interlace: 0\n",
      "size: (3600, 1800)\n",
      "\n",
      "../local/morse/smean2/0375_smean2.png, -0.024, 0.024, 8, nearest, -0.027543500600504558, 0.020637621909118026, 0.0, 0.9294117647058824, 0.0, 237.0, 0, 237\n",
      "greyscale: False\n",
      "alpha: False\n",
      "planes: 3\n",
      "bitdepth: 8\n",
      "interlace: 0\n",
      "size: (3600, 1800)\n",
      "\n",
      "../local/morse/smean2/0425_smean2.png, -0.024, 0.024, 8, nearest, -0.02597862473277928, 0.020127748417789918, 0.0, 0.9176470588235294, 0.0, 234.0, 0, 234\n",
      "greyscale: False\n",
      "alpha: False\n",
      "planes: 3\n",
      "bitdepth: 8\n",
      "interlace: 0\n",
      "size: (3600, 1800)\n",
      "\n",
      "../local/morse/smean2/0475_smean2.png, -0.024, 0.024, 8, nearest, -0.023870883985655383, 0.020873636890719353, 0.00392156862745098, 0.9333333333333333, 1.0, 238.0, 1, 238\n",
      "greyscale: False\n",
      "alpha: False\n",
      "planes: 3\n",
      "bitdepth: 8\n",
      "interlace: 0\n",
      "size: (3600, 1800)\n",
      "\n",
      "../local/morse/smean2/0525_smean2.png, -0.024, 0.024, 8, nearest, -0.022011402438020012, 0.02025926102415724, 0.043137254901960784, 0.9215686274509803, 11.0, 235.0, 11, 235\n",
      "greyscale: False\n",
      "alpha: False\n",
      "planes: 3\n",
      "bitdepth: 8\n",
      "interlace: 0\n",
      "size: (3600, 1800)\n",
      "\n",
      "../local/morse/smean2/0575_smean2.png, -0.024, 0.024, 8, nearest, -0.020572843458467105, 0.019469491106465283, 0.07058823529411765, 0.9058823529411765, 18.0, 231.0, 18, 231\n",
      "greyscale: False\n",
      "alpha: False\n",
      "planes: 3\n",
      "bitdepth: 8\n",
      "interlace: 0\n",
      "size: (3600, 1800)\n",
      "\n",
      "../local/morse/smean2/0625_smean2.png, -0.024, 0.024, 8, nearest, -0.018366723322124016, 0.017885698163263443, 0.11764705882352941, 0.8745098039215686, 30.0, 223.0, 30, 223\n",
      "greyscale: False\n",
      "alpha: False\n",
      "planes: 3\n",
      "bitdepth: 8\n",
      "interlace: 0\n",
      "size: (3600, 1800)\n",
      "\n",
      "../local/morse/smean2/0675_smean2.png, -0.024, 0.024, 8, nearest, -0.015498921575199347, 0.01552601457718083, 0.17647058823529413, 0.8235294117647058, 45.0, 210.0, 45, 210\n",
      "greyscale: False\n",
      "alpha: False\n",
      "planes: 3\n",
      "bitdepth: 8\n",
      "interlace: 0\n",
      "size: (3600, 1800)\n",
      "\n",
      "../local/morse/smean2/0725_smean2.png, -0.024, 0.024, 8, nearest, -0.014099940777873599, 0.01493887793849353, 0.20784313725490197, 0.8117647058823529, 53.0, 207.0, 53, 207\n",
      "greyscale: False\n",
      "alpha: False\n",
      "planes: 3\n",
      "bitdepth: 8\n",
      "interlace: 0\n",
      "size: (3600, 1800)\n",
      "\n",
      "../local/morse/smean2/0775_smean2.png, -0.024, 0.024, 8, nearest, -0.013227158359426313, 0.017240447176964154, 0.2235294117647059, 0.8588235294117647, 57.0, 219.0, 57, 219\n",
      "greyscale: False\n",
      "alpha: False\n",
      "planes: 3\n",
      "bitdepth: 8\n",
      "interlace: 0\n",
      "size: (3600, 1800)\n",
      "\n",
      "../local/morse/smean2/0825_smean2.png, -0.024, 0.024, 8, nearest, -0.012883013452103569, 0.019556874854340548, 0.23137254901960785, 0.9058823529411765, 59.0, 231.0, 59, 231\n",
      "greyscale: False\n",
      "alpha: False\n",
      "planes: 3\n",
      "bitdepth: 8\n",
      "interlace: 0\n",
      "size: (3600, 1800)\n",
      "\n",
      "../local/morse/smean2/0875_smean2.png, -0.024, 0.024, 8, nearest, -0.012450186326888116, 0.02021801178867463, 0.23921568627450981, 0.9215686274509803, 61.0, 235.0, 61, 235\n",
      "greyscale: False\n",
      "alpha: False\n",
      "planes: 3\n",
      "bitdepth: 8\n",
      "interlace: 0\n",
      "size: (3600, 1800)\n",
      "\n",
      "../local/morse/smean2/0925_smean2.png, -0.024, 0.024, 8, nearest, -0.01208515760020873, 0.02028563449696321, 0.24705882352941178, 0.9215686274509803, 63.0, 235.0, 63, 235\n",
      "greyscale: False\n",
      "alpha: False\n",
      "planes: 3\n",
      "bitdepth: 8\n",
      "interlace: 0\n",
      "size: (3600, 1800)\n",
      "\n",
      "../local/morse/smean2/0975_smean2.png, -0.024, 0.024, 8, nearest, -0.011654626465783621, 0.01996810349072348, 0.25882352941176473, 0.9176470588235294, 66.0, 234.0, 66, 234\n",
      "greyscale: False\n",
      "alpha: False\n",
      "planes: 3\n",
      "bitdepth: 8\n",
      "interlace: 0\n",
      "size: (3600, 1800)\n",
      "\n",
      "../local/morse/smean2/1025_smean2.png, -0.024, 0.024, 8, nearest, -0.011356143367825098, 0.019995375965511354, 0.2627450980392157, 0.9176470588235294, 67.0, 234.0, 67, 234\n",
      "greyscale: False\n",
      "alpha: False\n",
      "planes: 3\n",
      "bitdepth: 8\n",
      "interlace: 0\n",
      "size: (3600, 1800)\n",
      "\n",
      "../local/morse/smean2/1075_smean2.png, -0.024, 0.024, 8, nearest, -0.011425865673036242, 0.019780810938467328, 0.2627450980392157, 0.9137254901960784, 67.0, 233.0, 67, 233\n",
      "greyscale: False\n",
      "alpha: False\n",
      "planes: 3\n",
      "bitdepth: 8\n",
      "interlace: 0\n",
      "size: (3600, 1800)\n",
      "\n",
      "../local/morse/smean2/1125_smean2.png, -0.024, 0.024, 8, nearest, -0.01154540270345933, 0.018800065820147437, 0.25882352941176473, 0.8901960784313725, 66.0, 227.0, 66, 227\n",
      "greyscale: False\n",
      "alpha: False\n",
      "planes: 3\n",
      "bitdepth: 8\n",
      "interlace: 0\n",
      "size: (3600, 1800)\n",
      "\n",
      "../local/morse/smean2/1175_smean2.png, -0.024, 0.024, 8, nearest, -0.012949544667387727, 0.017888908739389534, 0.23137254901960785, 0.8745098039215686, 59.0, 223.0, 59, 223\n",
      "greyscale: False\n",
      "alpha: False\n",
      "planes: 3\n",
      "bitdepth: 8\n",
      "interlace: 0\n",
      "size: (3600, 1800)\n",
      "\n",
      "../local/morse/smean2/1225_smean2.png, -0.024, 0.024, 8, nearest, -0.014589609406511954, 0.01738739615899249, 0.19607843137254902, 0.8627450980392157, 50.0, 220.0, 50, 220\n",
      "greyscale: False\n",
      "alpha: False\n",
      "planes: 3\n",
      "bitdepth: 8\n",
      "interlace: 0\n",
      "size: (3600, 1800)\n",
      "\n",
      "../local/morse/smean2/1275_smean2.png, -0.024, 0.024, 8, nearest, -0.015085964033451091, 0.016217852006839166, 0.1843137254901961, 0.8392156862745098, 47.0, 214.0, 47, 214\n",
      "greyscale: False\n",
      "alpha: False\n",
      "planes: 3\n",
      "bitdepth: 8\n",
      "interlace: 0\n",
      "size: (3600, 1800)\n",
      "\n",
      "../local/morse/smean2/1325_smean2.png, -0.024, 0.024, 8, nearest, -0.014897284183616648, 0.014565894576082882, 0.18823529411764706, 0.803921568627451, 48.0, 205.0, 48, 205\n",
      "greyscale: False\n",
      "alpha: False\n",
      "planes: 3\n",
      "bitdepth: 8\n",
      "interlace: 0\n",
      "size: (3600, 1800)\n",
      "\n",
      "../local/morse/smean2/1375_smean2.png, -0.024, 0.024, 8, nearest, -0.014529873619158024, 0.014047559228712885, 0.19607843137254902, 0.792156862745098, 50.0, 202.0, 50, 202\n",
      "greyscale: False\n",
      "alpha: False\n",
      "planes: 3\n",
      "bitdepth: 8\n",
      "interlace: 0\n",
      "size: (3600, 1800)\n",
      "\n",
      "../local/morse/smean2/1425_smean2.png, -0.024, 0.024, 8, nearest, -0.015003319898969494, 0.013337405929496527, 0.18823529411764706, 0.7764705882352941, 48.0, 198.0, 48, 198\n",
      "greyscale: False\n",
      "alpha: False\n",
      "planes: 3\n",
      "bitdepth: 8\n",
      "interlace: 0\n",
      "size: (3600, 1800)\n",
      "\n",
      "../local/morse/smean2/1475_smean2.png, -0.024, 0.024, 8, nearest, -0.01554297747223245, 0.012621292260473638, 0.17647058823529413, 0.7647058823529411, 45.0, 195.0, 45, 195\n",
      "greyscale: False\n",
      "alpha: False\n",
      "planes: 3\n",
      "bitdepth: 8\n",
      "interlace: 0\n",
      "size: (3600, 1800)\n",
      "\n",
      "../local/morse/smean2/1525_smean2.png, -0.024, 0.024, 8, nearest, -0.016076370831751775, 0.01253323062999698, 0.16470588235294117, 0.7607843137254902, 42.0, 194.0, 42, 194\n",
      "greyscale: False\n",
      "alpha: False\n",
      "planes: 3\n",
      "bitdepth: 8\n",
      "interlace: 0\n",
      "size: (3600, 1800)\n",
      "\n",
      "../local/morse/smean2/1575_smean2.png, -0.024, 0.024, 8, nearest, -0.016588295382175603, 0.012709999834132759, 0.15294117647058825, 0.7647058823529411, 39.0, 195.0, 39, 195\n",
      "greyscale: False\n",
      "alpha: False\n",
      "planes: 3\n",
      "bitdepth: 8\n",
      "interlace: 0\n",
      "size: (3600, 1800)\n",
      "\n",
      "../local/morse/smean2/1625_smean2.png, -0.024, 0.024, 8, nearest, -0.01732405626722539, 0.012933417532985913, 0.13725490196078433, 0.7686274509803922, 35.0, 196.0, 35, 196\n"
     ]
    },
    {
     "name": "stdout",
     "output_type": "stream",
     "text": [
      "greyscale: False\n",
      "alpha: False\n",
      "planes: 3\n",
      "bitdepth: 8\n",
      "interlace: 0\n",
      "size: (3600, 1800)\n",
      "\n",
      "../local/morse/smean2/1675_smean2.png, -0.024, 0.024, 8, nearest, -0.018131548719479723, 0.013265715351662948, 0.12156862745098039, 0.7764705882352941, 31.0, 198.0, 31, 198\n",
      "greyscale: False\n",
      "alpha: False\n",
      "planes: 3\n",
      "bitdepth: 8\n",
      "interlace: 0\n",
      "size: (3600, 1800)\n",
      "\n",
      "../local/morse/smean2/1725_smean2.png, -0.024, 0.024, 8, nearest, -0.018909117780581255, 0.013985251509557201, 0.10588235294117647, 0.792156862745098, 27.0, 202.0, 27, 202\n",
      "greyscale: False\n",
      "alpha: False\n",
      "planes: 3\n",
      "bitdepth: 8\n",
      "interlace: 0\n",
      "size: (3600, 1800)\n",
      "\n",
      "../local/morse/smean2/1775_smean2.png, -0.024, 0.024, 8, nearest, -0.019594988202934472, 0.01466500129717133, 0.09019607843137255, 0.803921568627451, 23.0, 205.0, 23, 205\n",
      "greyscale: False\n",
      "alpha: False\n",
      "planes: 3\n",
      "bitdepth: 8\n",
      "interlace: 0\n",
      "size: (3600, 1800)\n",
      "\n",
      "../local/morse/smean2/1825_smean2.png, -0.024, 0.024, 8, nearest, -0.020090510660929796, 0.014814226828384562, 0.08235294117647059, 0.807843137254902, 21.0, 206.0, 21, 206\n",
      "greyscale: False\n",
      "alpha: False\n",
      "planes: 3\n",
      "bitdepth: 8\n",
      "interlace: 0\n",
      "size: (3600, 1800)\n",
      "\n",
      "../local/morse/smean2/1875_smean2.png, -0.024, 0.024, 8, nearest, -0.020185802894066, 0.014349433636125468, 0.0784313725490196, 0.8, 20.0, 204.0, 20, 204\n",
      "greyscale: False\n",
      "alpha: False\n",
      "planes: 3\n",
      "bitdepth: 8\n",
      "interlace: 0\n",
      "size: (3600, 1800)\n",
      "\n",
      "../local/morse/smean2/1925_smean2.png, -0.024, 0.024, 8, nearest, -0.020261122000756585, 0.013612598500167224, 0.0784313725490196, 0.7843137254901961, 20.0, 200.0, 20, 200\n",
      "greyscale: False\n",
      "alpha: False\n",
      "planes: 3\n",
      "bitdepth: 8\n",
      "interlace: 0\n",
      "size: (3600, 1800)\n",
      "\n",
      "../local/morse/smean2/1975_smean2.png, -0.024, 0.024, 8, nearest, -0.02029315583393327, 0.01307342207424881, 0.0784313725490196, 0.7725490196078432, 20.0, 197.0, 20, 197\n",
      "greyscale: False\n",
      "alpha: False\n",
      "planes: 3\n",
      "bitdepth: 8\n",
      "interlace: 0\n",
      "size: (3600, 1800)\n",
      "\n",
      "../local/morse/smean2/2025_smean2.png, -0.024, 0.024, 8, nearest, -0.020127745071422395, 0.012584826394067933, 0.08235294117647059, 0.7607843137254902, 21.0, 194.0, 21, 194\n",
      "greyscale: False\n",
      "alpha: False\n",
      "planes: 3\n",
      "bitdepth: 8\n",
      "interlace: 0\n",
      "size: (3600, 1800)\n",
      "\n",
      "../local/morse/smean2/2075_smean2.png, -0.024, 0.024, 8, nearest, -0.01996278119775525, 0.012990242413343367, 0.08235294117647059, 0.7725490196078432, 21.0, 197.0, 21, 197\n",
      "greyscale: False\n",
      "alpha: False\n",
      "planes: 3\n",
      "bitdepth: 8\n",
      "interlace: 0\n",
      "size: (3600, 1800)\n",
      "\n",
      "../local/morse/smean2/2125_smean2.png, -0.024, 0.024, 8, nearest, -0.020014183404073266, 0.013089036051533186, 0.08235294117647059, 0.7725490196078432, 21.0, 197.0, 21, 197\n",
      "greyscale: False\n",
      "alpha: False\n",
      "planes: 3\n",
      "bitdepth: 8\n",
      "interlace: 0\n",
      "size: (3600, 1800)\n",
      "\n",
      "../local/morse/smean2/2175_smean2.png, -0.024, 0.024, 8, nearest, -0.020258730575042138, 0.012595576270377933, 0.0784313725490196, 0.7607843137254902, 20.0, 194.0, 20, 194\n",
      "greyscale: False\n",
      "alpha: False\n",
      "planes: 3\n",
      "bitdepth: 8\n",
      "interlace: 0\n",
      "size: (3600, 1800)\n",
      "\n",
      "../local/morse/smean2/2225_smean2.png, -0.024, 0.024, 8, nearest, -0.020724168892520538, 0.01193349803765159, 0.06666666666666667, 0.7490196078431373, 17.0, 191.0, 17, 191\n",
      "greyscale: False\n",
      "alpha: False\n",
      "planes: 3\n",
      "bitdepth: 8\n",
      "interlace: 0\n",
      "size: (3600, 1800)\n",
      "\n",
      "../local/morse/smean2/2275_smean2.png, -0.024, 0.024, 8, nearest, -0.02124062916863295, 0.012743813970546683, 0.058823529411764705, 0.7647058823529411, 15.0, 195.0, 15, 195\n",
      "greyscale: False\n",
      "alpha: False\n",
      "planes: 3\n",
      "bitdepth: 8\n",
      "interlace: 0\n",
      "size: (3600, 1800)\n",
      "\n",
      "../local/morse/smean2/2325_smean2.png, -0.024, 0.024, 8, nearest, -0.021739747877063564, 0.013508624770778396, 0.047058823529411764, 0.7803921568627451, 12.0, 199.0, 12, 199\n",
      "greyscale: False\n",
      "alpha: False\n",
      "planes: 3\n",
      "bitdepth: 8\n",
      "interlace: 0\n",
      "size: (3600, 1800)\n",
      "\n",
      "../local/morse/smean2/2375_smean2.png, -0.024, 0.024, 8, nearest, -0.022289907618696817, 0.014354335867253383, 0.03529411764705882, 0.8, 9.0, 204.0, 9, 204\n",
      "greyscale: False\n",
      "alpha: False\n",
      "planes: 3\n",
      "bitdepth: 8\n",
      "interlace: 0\n",
      "size: (3600, 1800)\n",
      "\n",
      "../local/morse/smean2/2425_smean2.png, -0.024, 0.024, 8, nearest, -0.022778670821999185, 0.01513690729625523, 0.023529411764705882, 0.8156862745098039, 6.0, 208.0, 6, 208\n",
      "greyscale: False\n",
      "alpha: False\n",
      "planes: 3\n",
      "bitdepth: 8\n",
      "interlace: 0\n",
      "size: (3600, 1800)\n",
      "\n",
      "../local/morse/smean2/2475_smean2.png, -0.024, 0.024, 8, nearest, -0.02323786815664789, 0.015402440533307526, 0.01568627450980392, 0.8196078431372549, 4.0, 209.0, 4, 209\n",
      "greyscale: False\n",
      "alpha: False\n",
      "planes: 3\n",
      "bitdepth: 8\n",
      "interlace: 0\n",
      "size: (3600, 1800)\n",
      "\n",
      "../local/morse/smean2/2525_smean2.png, -0.024, 0.024, 8, nearest, -0.02391142762686286, 0.015723293076515574, 0.0, 0.8274509803921568, 0.0, 211.0, 0, 211\n",
      "greyscale: False\n",
      "alpha: False\n",
      "planes: 3\n",
      "bitdepth: 8\n",
      "interlace: 0\n",
      "size: (3600, 1800)\n",
      "\n",
      "../local/morse/smean2/2575_smean2.png, -0.024, 0.024, 8, nearest, -0.02454520921045514, 0.0163200834007489, 0.0, 0.8392156862745098, 0.0, 214.0, 0, 214\n",
      "greyscale: False\n",
      "alpha: False\n",
      "planes: 3\n",
      "bitdepth: 8\n",
      "interlace: 0\n",
      "size: (3600, 1800)\n",
      "\n",
      "../local/morse/smean2/2625_smean2.png, -0.024, 0.024, 8, nearest, -0.025481693148312844, 0.017943085625202002, 0.0, 0.8745098039215686, 0.0, 223.0, 0, 223\n",
      "greyscale: False\n",
      "alpha: False\n",
      "planes: 3\n",
      "bitdepth: 8\n",
      "interlace: 0\n",
      "size: (3600, 1800)\n",
      "\n",
      "../local/morse/smean2/2675_smean2.png, -0.024, 0.024, 8, nearest, -0.026762483336879087, 0.019617034016328035, 0.0, 0.9098039215686274, 0.0, 232.0, 0, 232\n",
      "greyscale: False\n",
      "alpha: False\n",
      "planes: 3\n",
      "bitdepth: 8\n",
      "interlace: 0\n",
      "size: (3600, 1800)\n",
      "\n",
      "../local/morse/smean2/2725_smean2.png, -0.024, 0.024, 8, nearest, -0.028057282361701255, 0.021135154848670935, 0.0, 0.9411764705882353, 0.0, 240.0, 0, 240\n",
      "greyscale: False\n",
      "alpha: False\n",
      "planes: 3\n",
      "bitdepth: 8\n",
      "interlace: 0\n",
      "size: (3600, 1800)\n",
      "\n",
      "../local/morse/smean2/2775_smean2.png, -0.024, 0.024, 8, nearest, -0.029320683573046152, 0.022602167888194344, 0.0, 0.9725490196078431, 0.0, 248.0, 0, 248\n",
      "greyscale: False\n",
      "alpha: False\n",
      "planes: 3\n",
      "bitdepth: 8\n",
      "interlace: 0\n",
      "size: (3600, 1800)\n",
      "\n",
      "../local/morse/smean2/2825_smean2.png, -0.024, 0.024, 8, nearest, -0.030573778344432867, 0.02408871099768021, 0.0, 1.0, 0.0, 255.0, 0, 255\n",
      "greyscale: False\n",
      "alpha: False\n",
      "planes: 3\n",
      "bitdepth: 8\n",
      "interlace: 0\n",
      "size: (3600, 1800)\n",
      "\n",
      "../local/morse/smean2/2875_smean2.png, -0.024, 0.024, 8, nearest, -0.031819123805844354, 0.025643014979932557, 0.0, 1.0, 0.0, 255.0, 0, 255\n"
     ]
    }
   ],
   "source": [
    "depths = world.ds['SMEAN_Z']\n",
    "\n",
    "csv_file = \"../local/morse/smean2/log_smean2_8rgb_clip_24_24.csv\"\n",
    "header = '''depth, png_file, clip_min, clip_max, bit_depth, interpolation, min in data, max in data, min normalised, max normalised, min to png, max to png, min from png, max from png \\n'''\n",
    "\n",
    "with open(csv_file, \"w\") as log_file:\n",
    "    log_file.write(header)\n",
    "\n",
    "for z in depths[::-1]:\n",
    "    layer_data = world.ds['SMEAN'].sel(SMEAN_Z=z).values\n",
    "    if np.isfinite(layer_data).any():\n",
    "        report = export_png(world,\n",
    "                        data = layer_data, \n",
    "                        png_name = '../local/morse/smean2/%04d_smean2.png'%(int(z)//km), \n",
    "                        v_min = clip_min, v_max = clip_max,\n",
    "                        clip = True, \n",
    "                        flip=True,\n",
    "                        png_format = 'RGB',\n",
    "                        set_geometry = False)\n",
    "        print(report)\n",
    "        with open(csv_file, \"a\") as log_file:\n",
    "            log_file.write('%s, %s \\n'%(z.values , report))\n",
    "    else:\n",
    "        print('only nan:',z)\n",
    "    "
   ]
  },
  {
   "cell_type": "code",
   "execution_count": 25,
   "metadata": {},
   "outputs": [
    {
     "data": {
      "text/plain": [
       "Text(0.5, 0, 'png pixel values (8-bits)')"
      ]
     },
     "execution_count": 25,
     "metadata": {},
     "output_type": "execute_result"
    },
    {
     "data": {
      "image/png": "[encoded data removed]",
      "text/plain": [
       "<Figure size 864x2016 with 3 Axes>"
      ]
     },
     "metadata": {
      "needs_background": "light"
     },
     "output_type": "display_data"
    }
   ],
   "source": [
    "fig, ax = plt.subplots(ncols=2,\n",
    "                       figsize= (12,28), \n",
    "                       gridspec_kw={'width_ratios': [3, 1]}, \n",
    "                       sharey=True)\n",
    "turbo = 1\n",
    "\n",
    "from scipy.optimize import curve_fit\n",
    "def gaussian(x, mean, amplitude, standard_deviation):\n",
    "    return amplitude * np.exp( - ((x - mean) / standard_deviation) ** 2)\n",
    "\n",
    "#depths_smean = world.ds['SMEAN_Z'][::-1]\n",
    "\n",
    "\n",
    "ax[0].set_xlim(-0.06,0.06)\n",
    "ax[1].set_xlim(-0.06,0.06)\n",
    "ax[0].set_ylim(-2900,25)\n",
    "    \n",
    "    \n",
    "mean_p = np.nanmean(world.ds['SMEAN'].values, axis=(0,1))\n",
    "std_p = np.nanstd(world.ds['SMEAN'].values, axis=(0,1))\n",
    "max_p = np.nanmax(world.ds['SMEAN'].values, axis=(0,1))\n",
    "min_p = np.nanmin(world.ds['SMEAN'].values, axis=(0,1))\n",
    "\n",
    "d = -world.ds['SMEAN_Z'].values/1000\n",
    "ax[1].fill_betweenx(d,-std_p, std_p,interpolate=True, color='gray', alpha=0.5)\n",
    "ax[1].plot(mean_p, d, c='k', ls='-', alpha=0.5)\n",
    "\n",
    "ax[1].plot(min_p, d, c='k', ls=':', alpha=0.3)\n",
    "ax[1].plot(max_p, d, c='k', ls=':', alpha=0.3)\n",
    "ax[1].set_xticks(np.array([clip_min, 0, clip_max]))\n",
    "\n",
    "\n",
    "\n",
    "ax[1].axvline(0, c='brown', alpha=0.3, ls=':')    \n",
    "ax[1].axvline(clip_min, c='k', alpha=0.2)\n",
    "ax[1].axvline(clip_max, c='k', alpha=0.2)\n",
    "\n",
    "for i, z in enumerate(world.ds['SMEAN_Z']):\n",
    "    layer_data = world.ds['SMEAN'].sel(SMEAN_Z=z).values.flatten()[::turbo]\n",
    "    d = z.values // 1000\n",
    "    \n",
    "    #print(d)\n",
    "    ax[0].axhline(-d, c='green', alpha=0.2)\n",
    "    ax[1].axhline(-d, c='green', alpha=0.2)\n",
    "    ax[0].text(-0.058,5-d,'%s km'%d, c='green')\n",
    "        \n",
    "    if np.isfinite(layer_data).any():\n",
    "        clip_layer = np.clip(layer_data, clip_min, clip_max)\n",
    "        \n",
    "        counts, bins = np.histogram(clip_layer, \n",
    "                                        bins = 301,\n",
    "                                        range=(-0.05,0.04))\n",
    "        \n",
    "    \n",
    "        counts = counts//3000  \n",
    "        bin_heights, bin_borders, _ = ax[0].hist(bins[:-1], bins, weights=counts,\n",
    "                                        label='histogram', \n",
    "                                        bottom= -d, \n",
    "                                        density = True,      \n",
    "                                        color = 'r', alpha=0.6)\n",
    "        \n",
    "    \n",
    "    \n",
    "        counts, bins = np.histogram(layer_data, \n",
    "                                        bins = 301,\n",
    "                                        range=(-0.05,0.05))\n",
    "        \n",
    "        counts = counts//3000\n",
    "        bin_heights, bin_borders, _ = ax[0].hist(bins[:-1], bins, weights=counts,\n",
    "                                        label='histogram', \n",
    "                                        bottom= -d, \n",
    "                                        density = True,      \n",
    "                                        color = 'k', alpha=0.5)\n",
    "        \n",
    "            \n",
    "ax[0].axvline(0, c='brown', alpha=0.3, ls=':')\n",
    "ax[0].axvline(clip_min, c='k', alpha=0.2)\n",
    "ax[0].axvline(clip_max, c='k', alpha=0.2)\n",
    "\n",
    "\n",
    "ax_png = ax[0].twiny()\n",
    "bit_depth = 8\n",
    "ax_png.set_xlim(-0.06,0.06)\n",
    "ax_png.set_xticks(np.array([clip_min, 0, clip_max]))\n",
    "ax_png.set_xticklabels(np.array([0, 2**bit_depth//2-1, 2**bit_depth-1]))\n",
    "ax_png.set_xlabel('png pixel values (8-bits)')"
   ]
  },
  {
   "cell_type": "code",
   "execution_count": null,
   "metadata": {},
   "outputs": [],
   "source": []
  },
  {
   "cell_type": "code",
   "execution_count": null,
   "metadata": {},
   "outputs": [],
   "source": []
  },
  {
   "cell_type": "markdown",
   "metadata": {},
   "source": [
    "## GLAD M15\n",
    "\n",
    "Now let's import the model from [Bozdağ et al (2016)](https://academic.oup.com/gji/article/207/3/1739/2404568). Unfortunately, it appears that the data is not availible from any open repo (?!), but I belive that the group is willing to assist if contacted. \n",
    "\n",
    "The SMEAN data was easy to import, but exporting the GLAD-M15 data is more compicated as I only get access to an unstructured grid, in a normalised space. "
   ]
  },
  {
   "cell_type": "code",
   "execution_count": null,
   "metadata": {},
   "outputs": [],
   "source": [
    "# load a vtk file to reader\n",
    "reader = vtk.vtkXMLUnstructuredGridReader()\n",
    "reader.SetFileName('../local/GLAD-M15/reg_1_dvsv.vtu')\n",
    "reader.Update()\n",
    "\n",
    "# Get the coordinates of nodes in the mesh\n",
    "nodes_vtk_array= reader.GetOutput().GetPoints().GetData()\n",
    "\n",
    "#The data field is the first scalar in the vtu file\n",
    "data_vtk_array = reader.GetOutput().GetPointData().GetArray(0)\n",
    "\n",
    "print(data_vtk_array, nodes_vtk_array)"
   ]
  },
  {
   "cell_type": "markdown",
   "metadata": {},
   "source": [
    "We get two arrays. Note that sizes are equal (Number Of Tuples: 4712064 and Number Of Tuples: 4712064) and the coordinate are 3D (NumberOfComponents: 3). Read coordinates and data as numpy arrays and have a look: "
   ]
  },
  {
   "cell_type": "code",
   "execution_count": null,
   "metadata": {},
   "outputs": [],
   "source": [
    "nodes_numpy_array = vtk_to_numpy(nodes_vtk_array)\n",
    "X, Y, Z = nodes_numpy_array[:,0] , nodes_numpy_array[:,1] , nodes_numpy_array[:,2]\n",
    "V = vtk_to_numpy(data_vtk_array)\n",
    "\n",
    "print(X[:10],Y[:10],Z[:10],V[:10], sep='\\n\\n')"
   ]
  },
  {
   "cell_type": "markdown",
   "metadata": {},
   "source": [
    "The coordinates are stored in the range [-1..1]. We assume a spherical Earth and compute an array with every points distance from centre. Function `sphere_to_layer()` takes a slice from the sphere and save to a 2D array. delta_r should be as small as possible, for best vertical resolution, but if too few points are used the vertical resolution gets bad. \n",
    "\n",
    "We loop through the harmonics of the sphere and read all points within a spherical shell defined by the radius +/- delta_r"
   ]
  },
  {
   "cell_type": "code",
   "execution_count": null,
   "metadata": {},
   "outputs": [],
   "source": [
    "def sphere_to_layer(d, R, V, LAT, LON, xxx, yyy, \n",
    "                    delta_r = 32*km, \n",
    "                    min_s = 5000,\n",
    "                    r_earth =  (6357*km + 6378*km) / 2, \n",
    "                    interpolation = 'nearest'):\n",
    "    \n",
    "    A = np.zeros_like(xxx).astype('float')\n",
    "    A[:] = np.nan\n",
    "    upper = 1-(d-delta_r)/r_earth\n",
    "    lower = 1-(d+delta_r)/r_earth\n",
    "    S = (R > lower) & (R < upper) # Select points in spherical shell\n",
    "    s_sum = np.count_nonzero(S) # Check how many points in shell\n",
    "\n",
    "    if s_sum >= min_s:\n",
    "        A = interpolate.griddata((LON[S], LAT[S]),\n",
    "                V[S], (xxx, yyy), method = interpolation)\n",
    "    print(d//1000, 'km \\t N=', sum(S),u'\\t \\N{BLACK RIGHT-POINTING TRIANGLE}', np.nanmean(A))\n",
    "    return np.flipud(A) #Because ulike lat, rows start from top. \n",
    "\n",
    "R = np.sqrt(X*X + Y*Y + Z*Z) # The distance from each point to centre of spherical Earth. \n",
    "\n",
    "LAT = world.shape3[0]/180 * (np.arccos( Z / R) * 180/np.pi) \n",
    "LON = world.shape3[1]/360 * (np.arctan2(Y, X) * 180/np.pi + 180)\n",
    "\n",
    "xxx, yyy = np.meshgrid(range(0, world.shape3[1]), range(world.shape3[0], 0, -1)) \n",
    "\n",
    "glad = np.zeros(world.shape3) # self.shape3 is a tuple of the models dimensions\n",
    "\n",
    "for i, d in enumerate(world.ds['Z'].values):\n",
    "    glad[:,:,i] = sphere_to_layer(d, R, V, LAT, LON, xxx, yyy)"
   ]
  },
  {
   "cell_type": "markdown",
   "metadata": {},
   "source": [
    "Unfortunately there are not enugh data points at 1350, 1450, 2150 and 2250 km depth. We'd need to look in a broad spherical shell to get datapoints: "
   ]
  },
  {
   "cell_type": "code",
   "execution_count": null,
   "metadata": {},
   "outputs": [],
   "source": [
    "missing_i, missing_d = [], []\n",
    "\n",
    "for i in range(glad.shape[2]):\n",
    "    if (np.count_nonzero(np.isnan(glad[:,:,i]) ) > 1000):\n",
    "        missing_i.append(i)\n",
    "        missing_d.append(world.ds['Z'].values[i])\n",
    "      \n",
    "for i,d in zip(missing_i, missing_d):\n",
    "    print(i, end=' ')\n",
    "    glad[:,:,i] = sphere_to_layer(d, R, V, LAT, LON, xxx, yyy, delta_r = 45*km)    "
   ]
  },
  {
   "cell_type": "markdown",
   "metadata": {},
   "source": [
    "However, we can be more precise with the first layer. "
   ]
  },
  {
   "cell_type": "code",
   "execution_count": null,
   "metadata": {},
   "outputs": [],
   "source": [
    "glad[:,:,0] = sphere_to_layer(50*km, R, V, LAT, LON, xxx, yyy, delta_r = 14*km)   \n",
    "glad[:,:,1] = sphere_to_layer(150*km, R, V, LAT, LON, xxx, yyy, delta_r = 20*km)   "
   ]
  },
  {
   "cell_type": "markdown",
   "metadata": {},
   "source": [
    "We save the array to the object and have a look. "
   ]
  },
  {
   "cell_type": "code",
   "execution_count": null,
   "metadata": {},
   "outputs": [],
   "source": [
    "world.ds['GLAD'] = (('Y', 'X', 'Z'), glad)\n",
    "glad_min = np.nanmin(world.ds['GLAD'].values)\n",
    "glad_max = np.nanmax(world.ds['GLAD'].values)\n",
    "\n",
    "print(glad_min, glad_max)\n",
    "#print(smean_min, smean_max)\n",
    "\n",
    "z_map = 0\n",
    "world.map_grid(world.ds['GLAD'].isel(Z=z_map), cmap='magma_r', vmin=-0.06, vmax=0.06)\n",
    "#world.map_grid(world.ds['SMEAN'].isel(Z=z_map), cmap='magma_r', vmin=-0.06, vmax=0.06)"
   ]
  },
  {
   "cell_type": "code",
   "execution_count": null,
   "metadata": {},
   "outputs": [],
   "source": [
    "world.ds['DIFF'] = world.ds['GLAD']-world.ds['SMEAN']\n",
    "\n",
    "diff_min = np.nanmin(world.ds['DIFF'].values)\n",
    "diff_max = np.nanmax(world.ds['DIFF'].values)\n",
    "\n",
    "print(diff_min, diff_max)\n",
    "\n",
    "world.map_grid(world.ds['DIFF'].isel(Z=z_map), cmap='BrBG', vmin=-0.06, vmax=0.06)"
   ]
  },
  {
   "cell_type": "code",
   "execution_count": null,
   "metadata": {},
   "outputs": [],
   "source": [
    "! mkdir -p ../local/glad/16_bit"
   ]
  },
  {
   "cell_type": "code",
   "execution_count": null,
   "metadata": {},
   "outputs": [],
   "source": [
    "for i, z in enumerate(world.ds['Z']):\n",
    "    report = export_morse_png(world, world.ds['GLAD'].isel(Z=i).values, '../local/glad/16_bit/%04d_%s_glad.png'%(int(z)//km, i+1), \n",
    "                          v_min = glad_min, v_max = glad_max, \n",
    "                              set_geometry = False, \n",
    "                             png_format = 'RGB', \n",
    "                             bit_depth = 16)\n",
    "    with open(\"../local/morse/glad/log_16bit.txt\", \"a\") as log_file:\n",
    "        log_file.write(report)\n",
    "    print(report)\n",
    "    "
   ]
  },
  {
   "cell_type": "markdown",
   "metadata": {},
   "source": [
    "Save the grid: "
   ]
  },
  {
   "cell_type": "code",
   "execution_count": null,
   "metadata": {},
   "outputs": [],
   "source": [
    "world.save(world.ds, '../local/smean_and_glad.nc')"
   ]
  },
  {
   "cell_type": "markdown",
   "metadata": {},
   "source": [
    "We could also interpolate new depth values to make a regular 3D grid. "
   ]
  },
  {
   "cell_type": "code",
   "execution_count": null,
   "metadata": {},
   "outputs": [],
   "source": [
    "world.ds['Z_NEW'] = range(0,2850*km, 100*km)\n",
    "\n",
    "world.ds['SMEAN_INTER'] = ( ('Y', 'X', 'Z'), \n",
    "                           world.change_coord(world.ds['SMEAN'], world.ds['Z'], world.ds['Z_NEW']) )"
   ]
  },
  {
   "cell_type": "code",
   "execution_count": null,
   "metadata": {},
   "outputs": [],
   "source": [
    "world.ds"
   ]
  },
  {
   "cell_type": "markdown",
   "metadata": {},
   "source": [
    "# AuSREM\n",
    "\n",
    "Australian crustal and lithospheric seismic model.\n",
    "\n",
    "Can be downloaded from http://rses.anu.edu.au/seismology/AuSREM/Downloads/ We assume a local file: "
   ]
  },
  {
   "cell_type": "code",
   "execution_count": null,
   "metadata": {},
   "outputs": [],
   "source": [
    "fname = '../local/ausrem_SV_100.txt'\n",
    "data = world.read_ascii(fname)"
   ]
  },
  {
   "cell_type": "markdown",
   "metadata": {},
   "source": [
    "Make a mask, as the 'nearest neigbur' interpolation tested, will extrapolate values to all cells."
   ]
  },
  {
   "cell_type": "code",
   "execution_count": null,
   "metadata": {},
   "outputs": [],
   "source": [
    "alpha_master = np.isfinite(data)\n",
    "\n",
    "plt.imshow(alpha_master)\n",
    "plt.show()"
   ]
  },
  {
   "cell_type": "markdown",
   "metadata": {},
   "source": [
    "Here, we test a number of different formats for the output png file: "
   ]
  },
  {
   "cell_type": "code",
   "execution_count": null,
   "metadata": {},
   "outputs": [],
   "source": [
    "for _format in ['L', 'LA', 'RGB', 'RGBA']:\n",
    "    for _bit_depth in [8, 16]:\n",
    "        for _interpol in ['nearest', 'linear', 'cubic']:\n",
    "            data = world.read_ascii(fname, interpol =_interpol)\n",
    "            \n",
    "            if _interpol == 'nearest':\n",
    "                how_confine = 'mask'\n",
    "                mask_to_value = np.nan\n",
    "            else:\n",
    "                how_confine = 'input'\n",
    "                mask_to_value = None\n",
    "            \n",
    "            report = export_morse_png(world,\n",
    "                          data = data, \n",
    "                          png_format = _format,\n",
    "                          png_name = '../local/AuSREM/AuSREM_100km_%s_%sbit_%s.png'%( _interpol,_bit_depth,_format),\n",
    "                          interpol_method =  _interpol,\n",
    "                          confine_data = how_confine,\n",
    "                          confine_mask = alpha_master,\n",
    "                        mask_to_value = mask_to_value,\n",
    "                          v_min = 4, v_max = 5, \n",
    "                          clip=True,\n",
    "                          set_geometry = False, \n",
    "                          bit_depth=_bit_depth)\n",
    "\n",
    "            print(report)\n",
    "            with open(\"../local/AuSREM_log.txt\", \"a\") as log_file:\n",
    "                log_file.write(report)"
   ]
  },
  {
   "cell_type": "code",
   "execution_count": null,
   "metadata": {},
   "outputs": [],
   "source": [
    "!sips -g all ../local/AuSREM/AuSREM_100km_nearest_16bit_L.png\n",
    "#!open ../local/new/AuSREM_100km_nearest_16bit_L.png"
   ]
  },
  {
   "cell_type": "code",
   "execution_count": null,
   "metadata": {},
   "outputs": [],
   "source": []
  },
  {
   "cell_type": "code",
   "execution_count": null,
   "metadata": {},
   "outputs": [],
   "source": [
    "world.ds"
   ]
  },
  {
   "cell_type": "code",
   "execution_count": null,
   "metadata": {},
   "outputs": [],
   "source": [
    "world.map_grid('SMEAN'.sel(Z=1000) )"
   ]
  },
  {
   "cell_type": "code",
   "execution_count": null,
   "metadata": {},
   "outputs": [],
   "source": [
    "lat, lon, persent"
   ]
  }
 ],
 "metadata": {
  "kernelspec": {
   "display_name": "Python 3",
   "language": "python",
   "name": "python3"
  },
  "language_info": {
   "codemirror_mode": {
    "name": "ipython",
    "version": 3
   },
   "file_extension": ".py",
   "mimetype": "text/x-python",
   "name": "python",
   "nbconvert_exporter": "python",
   "pygments_lexer": "ipython3",
   "version": "3.7.4"
  }
 },
 "nbformat": 4,
 "nbformat_minor": 2
}
