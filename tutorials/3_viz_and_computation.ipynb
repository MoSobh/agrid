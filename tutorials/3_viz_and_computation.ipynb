{
 "cells": [
  {
   "cell_type": "markdown",
   "metadata": {},
   "source": [
    "# 3 Visualization and export of data"
   ]
  },
  {
   "cell_type": "markdown",
   "metadata": {},
   "source": [
    "To run mayavi in jupyter notebook, we'll need to run: "
   ]
  },
  {
   "cell_type": "code",
   "execution_count": null,
   "metadata": {},
   "outputs": [],
   "source": [
    "%gui qt"
   ]
  },
  {
   "cell_type": "code",
   "execution_count": null,
   "metadata": {},
   "outputs": [],
   "source": [
    "import sys\n",
    "sys.path.append('..')\n",
    "\n",
    "from agrid.agrid import *\n",
    "\n",
    "import agrid.accessories as grid_acc"
   ]
  },
  {
   "cell_type": "markdown",
   "metadata": {},
   "source": [
    "We stick to the same Antarctic example as before: "
   ]
  },
  {
   "cell_type": "code",
   "execution_count": null,
   "metadata": {},
   "outputs": [],
   "source": [
    "ant = Grid(crs=3031, res = [10*km, 10*km], \n",
    "           left = -3100*km, up=3100*km, right = 3100*km, down = -3100*km, \n",
    "           set_frame = False)"
   ]
  },
  {
   "cell_type": "markdown",
   "metadata": {},
   "source": [
    "We download and extract some data: "
   ]
  },
  {
   "cell_type": "code",
   "execution_count": null,
   "metadata": {},
   "outputs": [],
   "source": [
    "grid_acc.download('http://www.seismolab.org/model/antarctica/lithosphere/AN1-HF.tar.gz', \n",
    "                  '../local/data/an/AN1-HF.tar.gz')\n",
    "\n",
    "\n",
    "grid_acc.download('http://www.seismolab.org/model/antarctica/lithosphere/AN1-S_depth_grd.tar.gz', \n",
    "                  '../local/data/an/AN1-S/AN1-S_depth_grd.tar.gz')"
   ]
  },
  {
   "cell_type": "markdown",
   "metadata": {},
   "source": [
    "We can have a quick look: "
   ]
  },
  {
   "cell_type": "code",
   "execution_count": null,
   "metadata": {},
   "outputs": [],
   "source": [
    "grid_acc.quick_look_netcdf('../local/data/an/AN1-HF.grd')\n"
   ]
  },
  {
   "cell_type": "markdown",
   "metadata": {},
   "source": [
    "Data with right number of dimensions can be imported directely: "
   ]
  },
  {
   "cell_type": "code",
   "execution_count": null,
   "metadata": {},
   "outputs": [],
   "source": [
    "ant.ds['HF'] = (('Y', 'X'), ant.read_grid('../local/data/an/AN1-HF.grd', xyz = ('lon','lat','z') )) #Default crs is epsg:4326"
   ]
  },
  {
   "cell_type": "markdown",
   "metadata": {},
   "source": [
    "We got a 3D model in the shape of a number of GMT .grd files. They are essentially netCDF format, but need to be placed in a 3D fram. We hardcode this: "
   ]
  },
  {
   "cell_type": "code",
   "execution_count": null,
   "metadata": {},
   "outputs": [],
   "source": [
    "grid_acc.quick_look_netcdf('../local/data/an/AN1-S/AN1-S_hslice_035.0.grd')"
   ]
  },
  {
   "cell_type": "markdown",
   "metadata": {},
   "source": [
    "We make a list of files and associate depths from filenames: "
   ]
  },
  {
   "cell_type": "code",
   "execution_count": null,
   "metadata": {},
   "outputs": [],
   "source": [
    "import glob\n",
    "\n",
    "an_files = sorted(glob.glob('../local/data/an/AN1-S/*.grd'))\n",
    "#print(an_files)\n",
    "ant.ds.coords['AN_Z'] = [np.float32(d[-9:-4])*km for d in an_files]\n",
    "str_depths = [str(d[-9:-4]) for d in an_files]\n",
    "\n",
    "print(ant.ds.coords['AN_Z'])\n",
    "\n",
    "an_array = np.empty((ant.nx, ant.ny, len(an_files)))\n",
    "an_array[:] = np.nan\n",
    "for i, a in enumerate(ant.ds.coords['AN_Z'].values):\n",
    "    print(a//km, end=', ')\n",
    "    fname = '../local/data/an/AN1-S/AN1-S_hslice_%s.grd'%str_depths[i]\n",
    "    if os.path.isfile(fname):\n",
    "        an_array[:,:,i] = ant.read_grid(fname, xyz = ('x','y','z') ) \n",
    "    \n",
    "ant.ds['AN_S'] = (('Y', 'X', 'AN_Z'), an_array)\n",
    "\n"
   ]
  },
  {
   "cell_type": "markdown",
   "metadata": {},
   "source": [
    "This might be a good time to save the grid: "
   ]
  },
  {
   "cell_type": "code",
   "execution_count": null,
   "metadata": {},
   "outputs": [],
   "source": [
    "! mkdir ../local/grids/ -p\n",
    "import pickle\n",
    "#pickle.dump(ant, open('../local/grids/ant.p', \"wb\" ))\n",
    "\n",
    "#ant = None\n",
    "\n",
    "#Or load: \n",
    "ant = pickle.load( open('../local/grids/ant.p', \"rb\" ) )"
   ]
  },
  {
   "cell_type": "markdown",
   "metadata": {},
   "source": [
    "We have already seen some option to look at the data. \n",
    "\n",
    "Me can store a map view as a map, with some funky features: \n"
   ]
  },
  {
   "cell_type": "code",
   "execution_count": null,
   "metadata": {},
   "outputs": [],
   "source": [
    "ant.map_grid('HF', cmap='magma', cbar=True, title='Nice ice', \n",
    "             par=[-66.563, -70, -80], mer = [-20, 0, 20], \n",
    "            line_c = 'pink', line_grid_c = 'cyan', line_w=4, \n",
    "            circ_map=True, )"
   ]
  },
  {
   "cell_type": "markdown",
   "metadata": {},
   "source": [
    "Some basic 3D viz: \n"
   ]
  },
  {
   "cell_type": "code",
   "execution_count": null,
   "metadata": {},
   "outputs": [],
   "source": [
    "ant.oblique_view('HF', \n",
    "    save_name = '../local/grids/oblique.png',\n",
    "    vmin= 30, vmax=100, \n",
    "    cmap='magma',\n",
    "    warp_scale=2, \n",
    "    distance=1300,\n",
    "    azimuth=180,\n",
    "    roll=-90)\n",
    "\n",
    "#! open oblique.png"
   ]
  },
  {
   "cell_type": "markdown",
   "metadata": {},
   "source": [
    "We ran `%gui qt` and hince we can call mayavi to display the figure from Jupyter Notebook. Scene opens in new window. (Warning: This is not always so smooth with Jupyter.)"
   ]
  },
  {
   "cell_type": "code",
   "execution_count": null,
   "metadata": {},
   "outputs": [],
   "source": [
    "ant.oblique_view('HF', \n",
    "    show_oblique=True,\n",
    "    vmin= 30, vmax=100, \n",
    "    cmap='magma',\n",
    "    warp_scale=2, \n",
    "    distance=1300,\n",
    "    azimuth=180,\n",
    "    roll=-90)"
   ]
  },
  {
   "cell_type": "markdown",
   "metadata": {},
   "source": [
    "We try Bokeh for an interactive app that can be inbedded in e.g. Jupyter Notebook: \n"
   ]
  },
  {
   "cell_type": "code",
   "execution_count": null,
   "metadata": {},
   "outputs": [],
   "source": [
    "ant.slider('AN_S')"
   ]
  },
  {
   "cell_type": "code",
   "execution_count": null,
   "metadata": {},
   "outputs": [],
   "source": [
    "A = ant.map_grid('HF', show_map=False)\n",
    "B = ant.map_grid('lat', show_map=False)\n",
    "#C = ant.map_grid('lon', show_map=False)"
   ]
  },
  {
   "cell_type": "code",
   "execution_count": null,
   "metadata": {},
   "outputs": [],
   "source": [
    "fig, axes = plt.subplots(2)\n",
    "\n",
    "axes[0].set_title(\"Hammer projection\")\n",
    "ant.map_grid('HF', show_map=False)\n",
    "\n",
    "axes[1].set_title(\"Hammer projection\")\n",
    "ant.map_grid('HF', show_map=False)\n",
    "\n"
   ]
  },
  {
   "cell_type": "code",
   "execution_count": null,
   "metadata": {},
   "outputs": [],
   "source": [
    "A"
   ]
  },
  {
   "cell_type": "code",
   "execution_count": null,
   "metadata": {},
   "outputs": [],
   "source": []
  }
 ],
 "metadata": {
  "kernelspec": {
   "display_name": "Python 3",
   "language": "python",
   "name": "python3"
  },
  "language_info": {
   "codemirror_mode": {
    "name": "ipython",
    "version": 3
   },
   "file_extension": ".py",
   "mimetype": "text/x-python",
   "name": "python",
   "nbconvert_exporter": "python",
   "pygments_lexer": "ipython3",
   "version": "3.6.7"
  }
 },
 "nbformat": 4,
 "nbformat_minor": 2
}
