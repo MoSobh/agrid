{
 "cells": [
  {
   "cell_type": "markdown",
   "metadata": {},
   "source": [
    "# The grid as an object\n",
    "\n",
    "In this notebook, the grid object and the xarray data frame is explained and demonstrated with a few illustrating examples. \n",
    "\n",
    "---\n",
    "\n",
    "The module grid.py contains one class, `Grid()`. When we import the module, a few convenient variables are also generated. Most packages are imported with the module, but some rarely used dependencies are imported in functions when needed. More about this later. \n",
    "\n",
    "We import grid: "
   ]
  },
  {
   "cell_type": "code",
   "execution_count": 1,
   "metadata": {},
   "outputs": [
    {
     "name": "stdout",
     "output_type": "stream",
     "text": [
      "<class '__main__.Grid'>\n",
      "1000 0.001\n",
      "True\n",
      "True\n",
      "False\n",
      "<class 'module'> <class 'module'> <class 'module'>\n"
     ]
    }
   ],
   "source": [
    "#Depending on where the grid.py is located, you cane either call it from that location...\n",
    "\n",
    "config_file = \"../code/grid.py\"\n",
    "with open(config_file) as f:\n",
    "    code = compile(f.read(), config_file, 'exec')\n",
    "    exec(code, globals(), locals())\n",
    "\n",
    "# ... or use you Python path or present working directory:\n",
    "#from grid import *\n",
    "\n",
    "\n",
    "\n",
    "print(Grid)\n",
    "print(km, milli) #-This is so handy! -You're welcome. \n",
    "\n",
    "#Check if some modules have been imported\n",
    "print('numpy' in sys.modules, \n",
    "      'rasterio' in sys.modules, \n",
    "      'bokeh' in sys.modules, sep='\\n') #(bokeh is imported in a function)\n",
    "\n",
    "print(type(np), type(plt), type(xr)) # Use of standard aliases "
   ]
  },
  {
   "cell_type": "markdown",
   "metadata": {},
   "source": [
    "We can now define a grid object. \n",
    "\n",
    "Each grid is a model frame with a defended, regular$^1$ spatial extent. The frame is generated when the object is initiated and resolution, coordinate system and coordinates are defined. \n",
    "\n",
    "The class defines an object. Let's say that we would like to develop a gridded model of the African continent. We want to use WGS 1984, EPSG:4326, and a resolution of $0.01^\\circ$. We define the extent as left, right, up, down in the units of the projection, degrees in this example. \n",
    "\n",
    "When initiating the object, a number of instance variables are defined. These contains the size of the grid, the name of the grid and the affine transform of the grid. (`use_dask` will be explained later). \n",
    "\n",
    "---\n",
    "1. This will updated in later versions. "
   ]
  },
  {
   "cell_type": "code",
   "execution_count": 2,
   "metadata": {},
   "outputs": [
    {
     "name": "stdout",
     "output_type": "stream",
     "text": [
      "<__main__.Grid object at 0x10cfef780>\n"
     ]
    }
   ],
   "source": [
    "africa = Grid(crs_tgt=4326, left=-20, down= -45, right=55, up=40, \n",
    "              res = (0.5, 0.5), use_dask=False)\n",
    "\n",
    "print(africa)"
   ]
  },
  {
   "cell_type": "markdown",
   "metadata": {},
   "source": [
    "With the object, variables are generated, both class variables and variables for the instance. \n",
    "\n",
    "E.g verbose is a switch for print statements from the functions. nx, ny, nn, shape3 are integers and tuples that conveniently gives to fundamental size of the grid. transform is the affine transform. "
   ]
  },
  {
   "cell_type": "code",
   "execution_count": 3,
   "metadata": {},
   "outputs": [
    {
     "name": "stdout",
     "output_type": "stream",
     "text": [
      "False\n",
      "170 150 (170, 150) (170, 150, 5)\n",
      "| 0.50, 0.00,-20.00|\n",
      "| 0.00,-0.50, 40.00|\n",
      "| 0.00, 0.00, 1.00|\n"
     ]
    }
   ],
   "source": [
    "# Class variables\n",
    "print(Grid.verbose) # Switch for print commands\n",
    "\n",
    "# Instance variables\n",
    "print(africa.ny, africa.nx, africa.nn, africa.shape3)\n",
    "print(africa.transform)"
   ]
  },
  {
   "cell_type": "markdown",
   "metadata": {},
   "source": [
    "Note that dimensions are given as y, x, not x, y. This was a tricky decision to take. The reasoning is, that numpy arrays are given as rows-columns. By given the y dimension first, we are consistent through the project, but I'd expect that this might cause confusion. I'm happy for suggestions of how to simplify the indexing. Indexing is, however, less a problem when we move to the main feature of the grid object, the xarray dataset. \n",
    "\n",
    "---\n",
    "\n",
    "Most important, and xarray dataset is created and it is already populated with dimensions that contains coordinates. X, Y and Z are (in this example) the three spatial dimensions. X and Y are set to the selected projection (epsg:4326) and is hence in degrees. \n",
    "\n",
    "Xarray dataset can be a bit tricky to understand in the beginning. \n",
    "\n",
    "You can read at [xarray project page](http://xarray.pydata.org/en/stable/api.html) where there are a number of code examples. As always, [Stack overflow](https://stackoverflow.com/search?q=xarray) is a good resource as well. \n",
    "\n",
    "Think about it as Pandas, but multidimensional. It can also be understood as a very organized way to arrange numpy arrays in relation to each other. Another approach, if you are familiar with [NetCDF](https://www.unidata.ucar.edu/software/netcdf/), xarray has a similar internal structure. "
   ]
  },
  {
   "cell_type": "code",
   "execution_count": 4,
   "metadata": {},
   "outputs": [
    {
     "name": "stdout",
     "output_type": "stream",
     "text": [
      "<xarray.Dataset>\n",
      "Dimensions:  (RGB: 3, X: 150, Y: 170, Z: 5)\n",
      "Coordinates:\n",
      "  * X        (X) float32 -20.0 -19.496645 -18.993288 ... 53.99329 54.496643 55.0\n",
      "  * Y        (Y) float32 40.0 39.49704 38.994083 ... -43.994083 -44.49704 -45.0\n",
      "  * Z        (Z) float32 0.0 8000.0 16000.0 40000.0 350000.0\n",
      "  * RGB      (RGB) <U1 'R' 'G' 'B'\n",
      "    XV       (Y, X) float32 -20.0 -19.496645 -18.993288 ... 54.496643 55.0\n",
      "    YV       (Y, X) float32 40.0 40.0 40.0 40.0 40.0 ... -45.0 -45.0 -45.0 -45.0\n",
      "    lat      (Y, X) float32 40.0 40.0 40.0 40.0 40.0 ... -45.0 -45.0 -45.0 -45.0\n",
      "    lon      (Y, X) float32 -20.0 -19.496645 -18.993288 ... 54.496643 55.0\n",
      "Data variables:\n",
      "    *empty*\n"
     ]
    }
   ],
   "source": [
    "print(africa.ds)"
   ]
  },
  {
   "cell_type": "markdown",
   "metadata": {},
   "source": [
    "We use standard Python / numpy methods to generate or process data and assign to the dataset. Here we generate a 2D array of data points and assign it to the Y and X coordinates of the grid. "
   ]
  },
  {
   "cell_type": "code",
   "execution_count": 5,
   "metadata": {},
   "outputs": [],
   "source": [
    "random_data = np.random.random(africa.nn)\n",
    "africa.ds['RANDOM'] = (('Y', 'X'), random_data)"
   ]
  },
  {
   "cell_type": "markdown",
   "metadata": {},
   "source": [
    "The object contains a number of functions to import, process, export and visualize data in the grid. More about import functions in next tutorial. For now, we download a global polygon shape file. "
   ]
  },
  {
   "cell_type": "code",
   "execution_count": null,
   "metadata": {},
   "outputs": [],
   "source": [
    "# Usning standard programs: \n",
    "\n",
    "! mkdir -p ../../data/vector\n",
    "! wget -nc http://data.openstreetmapdata.com/simplified-land-polygons-complete-3857.zip \\\n",
    "    -O ../../data/vector/simplified-land-polygons-complete-3857.zip\n",
    "! unzip -n ../../data/vector/simplified-land-polygons-complete-3857.zip -d ../../data/vector"
   ]
  },
  {
   "cell_type": "markdown",
   "metadata": {},
   "source": [
    "And use the shape file to generate a Boolean raster. The function `assign_shape` in the object ´africa´ reads a shape file and rasterises it. Here, all polygons are assigned `True` as the FID attribute is above 0. This might take some time, as the vector layer is very large. This might generate some warnings, as no vector layer is perfect. \n",
    "\n",
    "Note again, the order of dimension: Y, X. "
   ]
  },
  {
   "cell_type": "code",
   "execution_count": null,
   "metadata": {},
   "outputs": [],
   "source": [
    "africa.ds['LAND'] = (('Y', 'X'), \n",
    "                     0 < africa.assign_shape('../../data/vector/simplified-land-polygons-complete-3857/simplified_land_polygons.shp', 'FID') )"
   ]
  },
  {
   "cell_type": "markdown",
   "metadata": {},
   "source": [
    "Now, if we look at our dataset, we have two data variables, or frames. RANDOM and LAND. Both have an extent along the X and Y axes. "
   ]
  },
  {
   "cell_type": "code",
   "execution_count": null,
   "metadata": {},
   "outputs": [],
   "source": [
    "africa.ds"
   ]
  },
  {
   "cell_type": "markdown",
   "metadata": {},
   "source": [
    "Xarray works similar to numpy, in many ways. Here are some examples of arithmetic and conditional computations. We will look closer at the `map_grid` function in later tutorial. "
   ]
  },
  {
   "cell_type": "code",
   "execution_count": null,
   "metadata": {},
   "outputs": [],
   "source": [
    "africa.ds['BIG_RANDOM'] = africa.ds['RANDOM'] * 2 \n",
    "\n",
    "africa.ds['DATA'] = africa.ds['BIG_RANDOM']*africa.ds['LAND']\n",
    "\n",
    "africa.ds['DATA'] = africa.ds['DATA'].where(africa.ds['DATA'] != 0.)  \n",
    "\n",
    "africa.map_grid('DATA', cmap='viridis') # We only need to send the label to the function "
   ]
  },
  {
   "cell_type": "markdown",
   "metadata": {},
   "source": [
    "Xarray have a number option to index and select data. See details about the API at the [Xarray project page](http://xarray.pydata.org/en/stable/api.html). "
   ]
  },
  {
   "cell_type": "code",
   "execution_count": null,
   "metadata": {},
   "outputs": [],
   "source": [
    "print('Data by numpy index:')\n",
    "print(africa.ds['DATA'][66, 33])\n",
    "\n",
    "print('Coord by index:')\n",
    "print(africa.ds.coords['lon'][66, 33])\n",
    "\n",
    "print('Data by coord values:')\n",
    "print(africa.ds['DATA'].isel(X=33, Y=66) )\n",
    "\n",
    "print('Closest to coordinate values:')\n",
    "print(africa.ds['DATA'].sel(X=[14, 71], method='nearest') )\n",
    "\n",
    "print('Or another coordinate set:')\n",
    "print(africa.ds.coords['lon'][66, 33] )\n"
   ]
  },
  {
   "cell_type": "markdown",
   "metadata": {},
   "source": [
    "This returned a cell of the entire dataset, but we can also extract numpy arrays and numbers by using a dictionary interface `values`: "
   ]
  },
  {
   "cell_type": "code",
   "execution_count": null,
   "metadata": {},
   "outputs": [],
   "source": []
  },
  {
   "cell_type": "markdown",
   "metadata": {},
   "source": [
    "Attribute data are important:"
   ]
  },
  {
   "cell_type": "code",
   "execution_count": 6,
   "metadata": {},
   "outputs": [],
   "source": [
    "# Add attribute data directely\n",
    "africa.ds.attrs['units'] = 'degrees'\n",
    "africa.ds.attrs['contact'] = 'mail@address.au'\n",
    "\n",
    "#Or as text, xml, json etc\n",
    "import json\n",
    "with open('attr.json', 'r') as fp:\n",
    "    meta_data = json.loads(fp.read())\n",
    "\n",
    "#africa.ds.attrs['Imported from json'] = meta_data\n"
   ]
  },
  {
   "cell_type": "markdown",
   "metadata": {},
   "source": [
    "Handy attributes: "
   ]
  },
  {
   "cell_type": "code",
   "execution_count": 7,
   "metadata": {},
   "outputs": [
    {
     "name": "stdout",
     "output_type": "stream",
     "text": [
      "Coords:\n",
      "Coordinates:\n",
      "  * X        (X) float32 -20.0 -19.496645 -18.993288 ... 53.99329 54.496643 55.0\n",
      "  * Y        (Y) float32 40.0 39.49704 38.994083 ... -43.994083 -44.49704 -45.0\n",
      "  * Z        (Z) float32 0.0 8000.0 16000.0 40000.0 350000.0\n",
      "  * RGB      (RGB) <U1 'R' 'G' 'B'\n",
      "    XV       (Y, X) float32 -20.0 -19.496645 -18.993288 ... 54.496643 55.0\n",
      "    YV       (Y, X) float32 40.0 40.0 40.0 40.0 40.0 ... -45.0 -45.0 -45.0 -45.0\n",
      "    lat      (Y, X) float32 40.0 40.0 40.0 40.0 40.0 ... -45.0 -45.0 -45.0 -45.0\n",
      "    lon      (Y, X) float32 -20.0 -19.496645 -18.993288 ... 54.496643 55.0\n",
      "Attributes, metadata:\n",
      "OrderedDict([('units', 'degrees'), ('contact', 'mail@address.au')])\n",
      "Size in bytes:\n",
      "613312\n"
     ]
    }
   ],
   "source": [
    "print('Coords:')\n",
    "print(africa.ds.coords)\n",
    "\n",
    "print('Attributes, metadata:')\n",
    "print(africa.ds.attrs)\n",
    "\n",
    "print('Size in bytes:')\n",
    "print(africa.ds.nbytes)"
   ]
  },
  {
   "cell_type": "markdown",
   "metadata": {},
   "source": [
    "We can release some memory by deleting data variables or simply delete the entire object from memory. "
   ]
  },
  {
   "cell_type": "code",
   "execution_count": 8,
   "metadata": {},
   "outputs": [
    {
     "name": "stdout",
     "output_type": "stream",
     "text": [
      "Before: Data variables:\n",
      "    RANDOM   (Y, X) float64 0.5254 0.4761 0.619 0.07548 ... 0.7273 0.5514 0.9283\n"
     ]
    },
    {
     "ename": "ValueError",
     "evalue": "One or more of the specified variables cannot be found in this dataset",
     "output_type": "error",
     "traceback": [
      "\u001b[0;31m---------------------------------------------------------------------------\u001b[0m",
      "\u001b[0;31mValueError\u001b[0m                                Traceback (most recent call last)",
      "\u001b[0;32m<ipython-input-8-ca2cfe3c5892>\u001b[0m in \u001b[0;36m<module>\u001b[0;34m\u001b[0m\n\u001b[1;32m      1\u001b[0m \u001b[0mprint\u001b[0m\u001b[0;34m(\u001b[0m\u001b[0;34m'Before:'\u001b[0m\u001b[0;34m,\u001b[0m \u001b[0mafrica\u001b[0m\u001b[0;34m.\u001b[0m\u001b[0mds\u001b[0m\u001b[0;34m.\u001b[0m\u001b[0mdata_vars\u001b[0m\u001b[0;34m)\u001b[0m\u001b[0;34m\u001b[0m\u001b[0m\n\u001b[1;32m      2\u001b[0m \u001b[0;34m\u001b[0m\u001b[0m\n\u001b[0;32m----> 3\u001b[0;31m \u001b[0mafrica\u001b[0m\u001b[0;34m.\u001b[0m\u001b[0mds\u001b[0m\u001b[0;34m.\u001b[0m\u001b[0mdrop\u001b[0m\u001b[0;34m(\u001b[0m\u001b[0;34m'BIG_RANDOM'\u001b[0m\u001b[0;34m)\u001b[0m\u001b[0;34m\u001b[0m\u001b[0m\n\u001b[0m\u001b[1;32m      4\u001b[0m \u001b[0;34m\u001b[0m\u001b[0m\n\u001b[1;32m      5\u001b[0m \u001b[0mprint\u001b[0m\u001b[0;34m(\u001b[0m\u001b[0;34m'After:'\u001b[0m\u001b[0;34m,\u001b[0m \u001b[0mafrica\u001b[0m\u001b[0;34m.\u001b[0m\u001b[0mds\u001b[0m\u001b[0;34m.\u001b[0m\u001b[0mdata_vars\u001b[0m\u001b[0;34m)\u001b[0m\u001b[0;34m\u001b[0m\u001b[0m\n",
      "\u001b[0;32m~/anaconda3/lib/python3.6/site-packages/xarray/core/dataset.py\u001b[0m in \u001b[0;36mdrop\u001b[0;34m(self, labels, dim)\u001b[0m\n\u001b[1;32m   2600\u001b[0m             \u001b[0mlabels\u001b[0m \u001b[0;34m=\u001b[0m \u001b[0;34m[\u001b[0m\u001b[0mlabels\u001b[0m\u001b[0;34m]\u001b[0m\u001b[0;34m\u001b[0m\u001b[0m\n\u001b[1;32m   2601\u001b[0m         \u001b[0;32mif\u001b[0m \u001b[0mdim\u001b[0m \u001b[0;32mis\u001b[0m \u001b[0;32mNone\u001b[0m\u001b[0;34m:\u001b[0m\u001b[0;34m\u001b[0m\u001b[0m\n\u001b[0;32m-> 2602\u001b[0;31m             \u001b[0;32mreturn\u001b[0m \u001b[0mself\u001b[0m\u001b[0;34m.\u001b[0m\u001b[0m_drop_vars\u001b[0m\u001b[0;34m(\u001b[0m\u001b[0mlabels\u001b[0m\u001b[0;34m)\u001b[0m\u001b[0;34m\u001b[0m\u001b[0m\n\u001b[0m\u001b[1;32m   2603\u001b[0m         \u001b[0;32melse\u001b[0m\u001b[0;34m:\u001b[0m\u001b[0;34m\u001b[0m\u001b[0m\n\u001b[1;32m   2604\u001b[0m             \u001b[0;32mtry\u001b[0m\u001b[0;34m:\u001b[0m\u001b[0;34m\u001b[0m\u001b[0m\n",
      "\u001b[0;32m~/anaconda3/lib/python3.6/site-packages/xarray/core/dataset.py\u001b[0m in \u001b[0;36m_drop_vars\u001b[0;34m(self, names)\u001b[0m\n\u001b[1;32m   2611\u001b[0m \u001b[0;34m\u001b[0m\u001b[0m\n\u001b[1;32m   2612\u001b[0m     \u001b[0;32mdef\u001b[0m \u001b[0m_drop_vars\u001b[0m\u001b[0;34m(\u001b[0m\u001b[0mself\u001b[0m\u001b[0;34m,\u001b[0m \u001b[0mnames\u001b[0m\u001b[0;34m)\u001b[0m\u001b[0;34m:\u001b[0m\u001b[0;34m\u001b[0m\u001b[0m\n\u001b[0;32m-> 2613\u001b[0;31m         \u001b[0mself\u001b[0m\u001b[0;34m.\u001b[0m\u001b[0m_assert_all_in_dataset\u001b[0m\u001b[0;34m(\u001b[0m\u001b[0mnames\u001b[0m\u001b[0;34m)\u001b[0m\u001b[0;34m\u001b[0m\u001b[0m\n\u001b[0m\u001b[1;32m   2614\u001b[0m         \u001b[0mdrop\u001b[0m \u001b[0;34m=\u001b[0m \u001b[0mset\u001b[0m\u001b[0;34m(\u001b[0m\u001b[0mnames\u001b[0m\u001b[0;34m)\u001b[0m\u001b[0;34m\u001b[0m\u001b[0m\n\u001b[1;32m   2615\u001b[0m         variables = OrderedDict((k, v) for k, v in iteritems(self._variables)\n",
      "\u001b[0;32m~/anaconda3/lib/python3.6/site-packages/xarray/core/dataset.py\u001b[0m in \u001b[0;36m_assert_all_in_dataset\u001b[0;34m(self, names, virtual_okay)\u001b[0m\n\u001b[1;32m   2579\u001b[0m             \u001b[0mbad_names\u001b[0m \u001b[0;34m-=\u001b[0m \u001b[0mself\u001b[0m\u001b[0;34m.\u001b[0m\u001b[0mvirtual_variables\u001b[0m\u001b[0;34m\u001b[0m\u001b[0m\n\u001b[1;32m   2580\u001b[0m         \u001b[0;32mif\u001b[0m \u001b[0mbad_names\u001b[0m\u001b[0;34m:\u001b[0m\u001b[0;34m\u001b[0m\u001b[0m\n\u001b[0;32m-> 2581\u001b[0;31m             raise ValueError('One or more of the specified variables '\n\u001b[0m\u001b[1;32m   2582\u001b[0m                              'cannot be found in this dataset')\n\u001b[1;32m   2583\u001b[0m \u001b[0;34m\u001b[0m\u001b[0m\n",
      "\u001b[0;31mValueError\u001b[0m: One or more of the specified variables cannot be found in this dataset"
     ]
    }
   ],
   "source": [
    "print('Before:', africa.ds.data_vars)\n",
    "\n",
    "africa.ds.drop('BIG_RANDOM')\n",
    "\n",
    "print('After:', africa.ds.data_vars)\n",
    "\n",
    "#One can also just free all memory at once, as usual. \n",
    "#del africa "
   ]
  },
  {
   "cell_type": "markdown",
   "metadata": {},
   "source": [
    "We use a function from the class to save. Returns size.  "
   ]
  },
  {
   "cell_type": "code",
   "execution_count": 11,
   "metadata": {},
   "outputs": [
    {
     "data": {
      "text/plain": [
       "614152"
      ]
     },
     "execution_count": 11,
     "metadata": {},
     "output_type": "execute_result"
    }
   ],
   "source": [
    "africa.save(file_name='africa.nc')"
   ]
  },
  {
   "cell_type": "code",
   "execution_count": 13,
   "metadata": {},
   "outputs": [
    {
     "name": "stdout",
     "output_type": "stream",
     "text": [
      "16777220 8620593019 -rw-r--r-- 1 tobiasstal staff 0 614152 \"Jan 28 15:16:05 2019\" \"Jan 28 15:16:05 2019\" \"Jan 28 15:16:05 2019\" \"Jan 28 15:16:05 2019\" 4194304 1200 0 africa.nc\r\n"
     ]
    }
   ],
   "source": [
    "!stat africa.nc  "
   ]
  },
  {
   "cell_type": "markdown",
   "metadata": {},
   "source": [
    "Clear some memory: "
   ]
  },
  {
   "cell_type": "code",
   "execution_count": 16,
   "metadata": {},
   "outputs": [
    {
     "ename": "NameError",
     "evalue": "name 'africa' is not defined",
     "output_type": "error",
     "traceback": [
      "\u001b[0;31m---------------------------------------------------------------------------\u001b[0m",
      "\u001b[0;31mNameError\u001b[0m                                 Traceback (most recent call last)",
      "\u001b[0;32m<ipython-input-16-d7f87764a9ef>\u001b[0m in \u001b[0;36m<module>\u001b[0;34m\u001b[0m\n\u001b[0;32m----> 1\u001b[0;31m \u001b[0;32mdel\u001b[0m \u001b[0mafrica\u001b[0m\u001b[0;34m\u001b[0m\u001b[0m\n\u001b[0m",
      "\u001b[0;31mNameError\u001b[0m: name 'africa' is not defined"
     ]
    }
   ],
   "source": [
    "del africa "
   ]
  },
  {
   "cell_type": "code",
   "execution_count": null,
   "metadata": {},
   "outputs": [],
   "source": []
  },
  {
   "cell_type": "code",
   "execution_count": null,
   "metadata": {},
   "outputs": [],
   "source": []
  },
  {
   "cell_type": "code",
   "execution_count": null,
   "metadata": {},
   "outputs": [],
   "source": []
  }
 ],
 "metadata": {
  "kernelspec": {
   "display_name": "Python 3",
   "language": "python",
   "name": "python3"
  },
  "language_info": {
   "codemirror_mode": {
    "name": "ipython",
    "version": 3
   },
   "file_extension": ".py",
   "mimetype": "text/x-python",
   "name": "python",
   "nbconvert_exporter": "python",
   "pygments_lexer": "ipython3",
   "version": "3.6.6"
  }
 },
 "nbformat": 4,
 "nbformat_minor": 2
}
