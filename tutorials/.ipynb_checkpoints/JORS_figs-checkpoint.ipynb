{
 "cells": [
  {
   "cell_type": "code",
   "execution_count": 2,
   "metadata": {},
   "outputs": [
    {
     "name": "stderr",
     "output_type": "stream",
     "text": [
      "ERROR:root:Invalid GUI request 'qt*', valid ones are:dict_keys(['inline', 'nbagg', 'notebook', 'ipympl', 'widget', None, 'qt4', 'qt', 'qt5', 'wx', 'tk', 'gtk', 'gtk3', 'osx', 'asyncio'])\n"
     ]
    }
   ],
   "source": [
    "%gui qt*"
   ]
  },
  {
   "cell_type": "code",
   "execution_count": 3,
   "metadata": {},
   "outputs": [
    {
     "name": "stderr",
     "output_type": "stream",
     "text": [
      "/Users/tobiasstal/anaconda3/lib/python3.6/site-packages/dask/config.py:168: YAMLLoadWarning: calling yaml.load() without Loader=... is deprecated, as the default Loader is unsafe. Please read https://msg.pyyaml.org/load for full details.\n",
      "  data = yaml.load(f.read()) or {}\n",
      "/Users/tobiasstal/anaconda3/lib/python3.6/site-packages/distributed/config.py:20: YAMLLoadWarning: calling yaml.load() without Loader=... is deprecated, as the default Loader is unsafe. Please read https://msg.pyyaml.org/load for full details.\n",
      "  defaults = yaml.load(f)\n"
     ]
    }
   ],
   "source": [
    "config_file = \"../code/agrid.py\"\n",
    "with open(config_file) as f:\n",
    "    code = compile(f.read(), config_file, 'exec')\n",
    "    exec(code, globals(), locals())\n",
    "\n",
    "# ... or use you Python path or present working directory:\n",
    "#from agrid import *"
   ]
  },
  {
   "cell_type": "code",
   "execution_count": 4,
   "metadata": {},
   "outputs": [],
   "source": [
    "#Continental\n",
    "ant = Grid(crs=3031, res = [10*km, 10*km], left = -3100*km, up=3100*km, right = 3100*km, down = -3100*km)\n",
    "\n",
    "ant.ds['ICE'] = (('Y', 'X'), \n",
    "                ant.read_raster('../data/bedmap2_tiff/bedmap2_thickness.tif'))\n",
    "\n",
    "no_data = 32767.\n",
    "ant.ds['ICE'] = ant.ds['ICE'].where(ant.ds['ICE'] != no_data)  "
   ]
  },
  {
   "cell_type": "code",
   "execution_count": null,
   "metadata": {},
   "outputs": [],
   "source": [
    "ant.map_grid('ICE', vmin=0, vmax=4500, cmap='viridis', cbar=True)"
   ]
  },
  {
   "cell_type": "code",
   "execution_count": null,
   "metadata": {},
   "outputs": [],
   "source": [
    "dranage, int_map = ant.assign_shape('../data/GSFC_DrainageSystems.shp', \n",
    "                                                 'ID', map_to_int = True, return_map = True)\n",
    "ant.ds['DRANAGE'] = (('Y', 'X'), dranage)"
   ]
  },
  {
   "cell_type": "code",
   "execution_count": null,
   "metadata": {},
   "outputs": [],
   "source": [
    "ant.map_grid(ant.ds['DRANAGE'], cmap='viridis', cbar=True)"
   ]
  },
  {
   "cell_type": "code",
   "execution_count": null,
   "metadata": {},
   "outputs": [],
   "source": [
    "polygons = [int_map[str(x) + 'g'] for x in range(2,18)]"
   ]
  },
  {
   "cell_type": "code",
   "execution_count": null,
   "metadata": {},
   "outputs": [],
   "source": [
    "ant.ds['EAST_ICE'] = ant.ds['ICE']*ant.ds['DRANAGE'].isin(polygons)\n",
    "ant.map_grid('EAST_ICE', cmap='viridis')"
   ]
  },
  {
   "cell_type": "code",
   "execution_count": null,
   "metadata": {},
   "outputs": [],
   "source": [
    "print(int(ant.ds['EAST_ICE'].sum()*np.prod(ant.res)/km**3),'km3')"
   ]
  },
  {
   "cell_type": "code",
   "execution_count": null,
   "metadata": {},
   "outputs": [],
   "source": [
    "\n",
    "\n",
    "\n"
   ]
  },
  {
   "cell_type": "code",
   "execution_count": null,
   "metadata": {},
   "outputs": [],
   "source": [
    "import scipy\n",
    "\n",
    "# prepare some interesting function:\n",
    "def f(x, y):\n",
    "    return 3.0*scipy.sin(x*y+1e-4)/(x*y+1e-4)\n",
    "\n",
    "x = scipy.arange(-7., 7.05, 0.1)\n",
    "y = scipy.arange(-5., 5.05, 0.1)\n",
    "\n",
    "# 3D visualization of f:\n",
    "from tvtk.tools import mlab\n",
    "fig = mlab.figure()\n",
    "s = mlab.SurfRegular(x, y, f)\n",
    "fig.add(s)"
   ]
  },
  {
   "cell_type": "code",
   "execution_count": null,
   "metadata": {},
   "outputs": [],
   "source": [
    "test_volume_slice()"
   ]
  },
  {
   "cell_type": "code",
   "execution_count": null,
   "metadata": {},
   "outputs": [],
   "source": [
    "# Author: Gael Varoquaux <gael.varoquaux@normalesup.org>\n",
    "# Copyright (c) 2008, Enthought, Inc.\n",
    "# License: BSD Style.\n",
    "\n",
    "# Retrieve the grand Canyon topological data ##################################\n",
    "import os\n",
    "# Original file:\n",
    "#'ftp://e0srp01u.ecs.nasa.gov/srtm/version2/SRTM1/Region_04/N36W113.hgt.zip'\n",
    "if not os.path.exists('N36W113.hgt.zip'):\n",
    "    # Download the data\n",
    "    try:\n",
    "        from urllib import urlopen\n",
    "    except ImportError:\n",
    "        from urllib.request import urlopen\n",
    "    print('Downloading data, please wait (10M)')\n",
    "    opener = urlopen(\n",
    "    'https://s3.amazonaws.com/storage.enthought.com/www/sample_data/N36W113.hgt.zip'\n",
    "        )\n",
    "    open('N36W113.hgt.zip', 'wb').write(opener.read())\n",
    "\n",
    "# Load the data (signed 2 byte integers, big endian) ##########################\n",
    "import zipfile\n",
    "import numpy as np\n",
    "\n",
    "data = np.fromstring(zipfile.ZipFile('N36W113.hgt.zip').read('N36W113.hgt'),\n",
    "                    '>i2')\n",
    "data.shape = (3601, 3601)\n",
    "data = data.astype(np.float32)\n",
    "\n",
    "# Plot an interesting section #################################################\n",
    "from mayavi import mlab\n",
    "data = data[:1000, 900:1900]\n",
    "# Convert missing values into something more sensible.\n",
    "data[data == -32768] = data[data > 0].min()\n",
    "\n",
    "mlab.figure(size=(400, 320), bgcolor=(0.16, 0.28, 0.46))\n",
    "mlab.surf(data, colormap='gist_earth', warp_scale=0.2,\n",
    "            vmin=1200, vmax=1610)\n",
    "# The data takes a lot of memory, and the surf command has created a\n",
    "# copy. We free the inital memory.\n",
    "del data\n",
    "\n",
    "# A view of the canyon\n",
    "mlab.view(-5.9, 83, 570, [5.3, 20, 238])\n",
    "mlab.show()"
   ]
  },
  {
   "cell_type": "code",
   "execution_count": 12,
   "metadata": {},
   "outputs": [],
   "source": [
    "from mayavi import mlab\n",
    "\n",
    "ant.ds['BED'] = (('Y', 'X'), \n",
    "                ant.read_raster('../data/bedmap2_tiff/bedmap2_bed.tif'))\n",
    "\n",
    "ant.ds['BED'] = ant.ds['BED'].where(ant.ds['BED'] != no_data)  \n",
    "\n",
    "data = ant.ds['BED'].values\n",
    "\n",
    "s = mlab.figure(size=(900, 900), bgcolor=(1, 1, 1))\n",
    "mlab.options.offscreen = True\n",
    "mlab.surf(data, colormap='terrain', warp_scale=0.01,\n",
    "            vmin=-4000, vmax=4000)\n",
    "\n",
    "\n",
    "#mlab.options.show_axes = True\n",
    "#mlab.options.light_manager.light_mode = 'vtk'\n",
    "\n",
    "# A view of the canyon\n",
    "#mlab.view(45, 10000, 5000, [0, 0, 0])\n",
    "mlab.view(azimuth=0, elevation=7500, distance=2000, roll=-50)\n",
    "mlab.savefig('para33m10.png', figure = s)\n",
    "mlab.close()\n",
    "\n",
    "\n",
    "! open para33m10.png"
   ]
  },
  {
   "cell_type": "code",
   "execution_count": 12,
   "metadata": {},
   "outputs": [],
   "source": [
    "from mayavi import mlab\n",
    "import numpy as np\n",
    "\n",
    "#ant.ds['BED'] = (('Y', 'X'), \n",
    "#                ant.read_raster('../data/bedmap2_tiff/bedmap2_bed.tif'))\n",
    "\n",
    "#ant.ds['BED'] = ant.ds['BED'].where(ant.ds['BED'] != no_data)  \n",
    "\n",
    "#data = ant.ds['BED'].values\n",
    "\n",
    "data = np.random.rand(1000, 1000)*8000-4000\n",
    "\n",
    "\n",
    "mlab.figure(size=(700,830))\n",
    "mlab.options.offscreen = True\n",
    "mlab.surf(data)\n",
    "\n",
    "\n",
    "#scene = engine.scenes[0]\n",
    "#s.scene.show_axes = True\n",
    "#s.scene.light_manager.light_mode = 'vtk'\n",
    "\n",
    "# A view of the canyon\n",
    "#mlab.view(45, 10000, 5000, [0, 0, 0])\n",
    "mlab.view(azimuth=0, elevation=75, distance=2.4, roll=-50)\n",
    "mlab.savefig(\"jabba.jpg\")\n",
    "mlab.close()\n",
    "\n",
    "! open jabba.jpg"
   ]
  },
  {
   "cell_type": "code",
   "execution_count": 7,
   "metadata": {},
   "outputs": [],
   "source": []
  },
  {
   "cell_type": "code",
   "execution_count": 7,
   "metadata": {},
   "outputs": [],
   "source": [
    "from numpy import linspace, meshgrid, array, sin, cos, pi, abs\n",
    "from scipy.special import sph_harm \n",
    "from mayavi import mlab\n",
    "\n",
    "theta_1d = linspace(0,   pi,  91) \n",
    "phi_1d   = linspace(0, 2*pi, 181)\n",
    "\n",
    "theta_2d, phi_2d = meshgrid(theta_1d, phi_1d)\n",
    "xyz_2d = array([sin(theta_2d) * sin(phi_2d),\n",
    "                sin(theta_2d) * cos(phi_2d),\n",
    "                cos(theta_2d)]) \n",
    "l=3\n",
    "m=0\n",
    "\n",
    "Y_lm = sph_harm(m,l, phi_2d, theta_2d)\n",
    "r = abs(Y_lm.real)*xyz_2d\n",
    "    \n",
    "mlab.figure(size=(700,830))\n",
    "mlab.mesh(r[0], r[1], r[2], scalars=Y_lm.real, colormap=\"cool\")\n",
    "mlab.view(azimuth=0, elevation=75, distance=2.4, roll=-50)\n",
    "mlab.savefig(\"Y_%i_%i.jpg\" % (l,m))\n",
    "mlab.show()"
   ]
  },
  {
   "cell_type": "code",
   "execution_count": null,
   "metadata": {},
   "outputs": [],
   "source": []
  }
 ],
 "metadata": {
  "kernelspec": {
   "display_name": "Python 3",
   "language": "python",
   "name": "python3"
  },
  "language_info": {
   "codemirror_mode": {
    "name": "ipython",
    "version": 3
   },
   "file_extension": ".py",
   "mimetype": "text/x-python",
   "name": "python",
   "nbconvert_exporter": "python",
   "pygments_lexer": "ipython3",
   "version": "3.6.7"
  }
 },
 "nbformat": 4,
 "nbformat_minor": 2
}
