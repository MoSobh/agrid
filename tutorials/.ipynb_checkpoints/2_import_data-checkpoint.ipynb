{
 "cells": [
  {
   "cell_type": "code",
   "execution_count": null,
   "metadata": {},
   "outputs": [],
   "source": [
    "#from grid import *"
   ]
  },
  {
   "cell_type": "code",
   "execution_count": null,
   "metadata": {},
   "outputs": [],
   "source": [
    "config_file = \"../code/grid.py\"\n",
    "with open(config_file) as f:\n",
    "    code = compile(f.read(), config_file, 'exec')\n",
    "    exec(code, globals(), locals())"
   ]
  },
  {
   "cell_type": "code",
   "execution_count": null,
   "metadata": {},
   "outputs": [],
   "source": [
    "#Continental\n",
    "ant = Grid(res = [25*km, 25*km], left = -3100*km, up=3100*km, right = 3100*km, down = -3100*km)\n",
    "\n",
    "#Local\n",
    "\n",
    "#Global (almost)\n",
    "world = Grid(crs_tgt=4326, res = [0.5, 0.5], left = -180, up=90, right = 180, down = -90)\n"
   ]
  },
  {
   "cell_type": "markdown",
   "metadata": {},
   "source": [
    "We download a raster, in this case the global Natural Earth II with Shaded Relief. It might take a while. "
   ]
  },
  {
   "cell_type": "code",
   "execution_count": null,
   "metadata": {},
   "outputs": [],
   "source": [
    "! mkdir -p ../../data/ne\n",
    "! wget -nc https://www.naturalearthdata.com/http//www.naturalearthdata.com/download/50m/raster/HYP_50M_SR_W.zip \\\n",
    "    -O ../../data/ne/HYP_50M_SR_W.zip\n",
    "! unzip -n ../../data/ne/HYP_50M_SR_W.zip -d ../../data/ne"
   ]
  },
  {
   "cell_type": "markdown",
   "metadata": {},
   "source": [
    "We import the raster to the global grid and to the Antarctic grid: \n",
    "The raster has three channels, so we assign it to X, Y and RGB coordinates. This might also take some time, as the raster needs to be warped to each grid. You can have your coffee now: "
   ]
  },
  {
   "cell_type": "code",
   "execution_count": null,
   "metadata": {},
   "outputs": [],
   "source": [
    "world.ds['RGB_RASTER'] = (('Y', 'X', 'RGB'), \n",
    "                world.read_raster('../../../data/NE2_LR_LC_SR_W/HYP_50M_SR_W.tif'))\n",
    "\n",
    "ant.ds['RGB_RASTER'] = (('Y', 'X', 'RGB'), \n",
    "                ant.read_raster('../../../data/NE2_LR_LC_SR_W/HYP_50M_SR_W.tif'))"
   ]
  },
  {
   "cell_type": "code",
   "execution_count": null,
   "metadata": {},
   "outputs": [],
   "source": [
    "ant.plot_map('RGB_RASTER')\n",
    "world.plot_map('RGB_RASTER')"
   ]
  },
  {
   "cell_type": "markdown",
   "metadata": {},
   "source": [
    "Pretty, but the raison d'etre for this code is to work properly in 3D. We download sesimic 3D model of the Antarctic lithosphere. "
   ]
  },
  {
   "cell_type": "code",
   "execution_count": null,
   "metadata": {},
   "outputs": [],
   "source": [
    "! mkdir -p ../../data/an\n",
    "! wget -nc http://www.seismolab.org/model/antarctica/lithosphere/AN1-S_depth_grd.tar.gz \\\n",
    "    -O ../../data/an/AN1-S_depth_grd.tar.gz\n",
    "! tar -xvzf ../../data/ne/NE2_LR_LC_SR_W_DR.zip -C ../../data/an"
   ]
  },
  {
   "cell_type": "code",
   "execution_count": null,
   "metadata": {},
   "outputs": [],
   "source": [
    "import glob\n",
    "\n",
    "an_files = sorted(glob.glob('../data/An/AN1-S_depth_grd/*.grd'))\n",
    "ant.ds.coords['AN_Z'] = [np.float32(d[-9:-4])*km for d in an_files]\n",
    "str_depths = [str(d[-9:-4]) for d in an_files]\n",
    "\n",
    "for d in ('S', 'Tc', 'Ts'):\n",
    "    print('\\n',d)\n",
    "    an_array = np.empty((ant.nx, ant.ny, len(an_files)))\n",
    "    an_array[:] = np.nan\n",
    "    for i, a in enumerate(ant.ds.coords['AN_Z'].values):\n",
    "        print(a//km, end=' ')\n",
    "        fname = '../data/An/AN1-%s_depth_grd/AN1-%s_hslice_%s.grd'%(d,d,str_depths[i])\n",
    "        if os.path.isfile(fname):\n",
    "            an_array[:,:,i] = ant.read_grid(fname, xyz = ('x','y','z') ) \n",
    "    \n",
    "    ant.ds['AN_%s'%d] = (('X', 'Y', 'AN_Z'), an_array)\n"
   ]
  },
  {
   "cell_type": "code",
   "execution_count": null,
   "metadata": {},
   "outputs": [],
   "source": [
    "ant.ds['AN_S'].isel(AN_Z=30)"
   ]
  },
  {
   "cell_type": "code",
   "execution_count": null,
   "metadata": {},
   "outputs": [],
   "source": [
    "ant.ds['AN_S'].sel(AN_Z=200*km)"
   ]
  },
  {
   "cell_type": "code",
   "execution_count": null,
   "metadata": {},
   "outputs": [],
   "source": [
    "ant.grid_to_raster(ant.ds['AN_S'].sel(AN_Z=200*km), '../../An_S_200km.tiff')"
   ]
  },
  {
   "cell_type": "code",
   "execution_count": null,
   "metadata": {},
   "outputs": [],
   "source": [
    "! mkdir -p data/raster\n",
    "! wget -nc https://www.naturalearthdata.com/http//www.naturalearthdata.com/download/10m/raster/GRAY_LR_SR_W.zip \\\n",
    "    -O data/raster/GRAY_LR_SR_W.zip\n",
    "! unzip -n data/raster/GRAY_LR_SR_W.zip -d data/raster\n"
   ]
  },
  {
   "cell_type": "code",
   "execution_count": null,
   "metadata": {},
   "outputs": [],
   "source": []
  }
 ],
 "metadata": {
  "kernelspec": {
   "display_name": "Python 3",
   "language": "python",
   "name": "python3"
  },
  "language_info": {
   "codemirror_mode": {
    "name": "ipython",
    "version": 3
   },
   "file_extension": ".py",
   "mimetype": "text/x-python",
   "name": "python",
   "nbconvert_exporter": "python",
   "pygments_lexer": "ipython3",
   "version": "3.6.6"
  }
 },
 "nbformat": 4,
 "nbformat_minor": 2
}
