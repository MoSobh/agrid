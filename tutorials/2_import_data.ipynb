{
 "cells": [
  {
   "cell_type": "code",
   "execution_count": null,
   "metadata": {},
   "outputs": [],
   "source": [
    "#from grid import *"
   ]
  },
  {
   "cell_type": "code",
   "execution_count": 4,
   "metadata": {},
   "outputs": [],
   "source": [
    "config_file = \"../code/grid.py\"\n",
    "with open(config_file) as f:\n",
    "    code = compile(f.read(), config_file, 'exec')\n",
    "    exec(code, globals(), locals())"
   ]
  },
  {
   "cell_type": "code",
   "execution_count": 5,
   "metadata": {},
   "outputs": [],
   "source": [
    "#Continental\n",
    "ant = Grid(res = [25*km, 25*km], left = -3100*km, up=3100*km, right = 3100*km, down = -3100*km)\n",
    "\n",
    "#Local\n",
    "\n",
    "#Global (almost)\n",
    "world = Grid(crs_tgt=4326, res = [0.5, 0.5], left = -180, up=90, right = 180, down = -90)\n"
   ]
  },
  {
   "cell_type": "markdown",
   "metadata": {},
   "source": [
    "We download a raster, in this case the global Natural Earth II with Shaded Relief. It is 100Mb."
   ]
  },
  {
   "cell_type": "code",
   "execution_count": null,
   "metadata": {},
   "outputs": [],
   "source": [
    "! mkdir -p ../../data/ne\n",
    "! wget -nc https://www.naturalearthdata.com/http//www.naturalearthdata.com/download/50m/raster/HYP_50M_SR_W.zip \\\n",
    "    -O ../../data/ne/HYP_50M_SR_W.zip\n",
    "! unzip -n ../../data/ne/HYP_50M_SR_W.zip -d ../../data/ne"
   ]
  },
  {
   "cell_type": "markdown",
   "metadata": {},
   "source": [
    "We import the raster to the global grid and to the Antarctic grid: \n",
    "The raster has three channels, so we assign it to X, Y and RGB coordinates. This might also take some time, as the raster needs to be warped to each grid. You can have your coffee now: "
   ]
  },
  {
   "cell_type": "code",
   "execution_count": null,
   "metadata": {},
   "outputs": [],
   "source": [
    "world.ds['RGB_RASTER_C'] = (('Y', 'X', 'RGB'), \n",
    "                world.read_raster('../../data/ne/HYP_50M_SR_W/HYP_50M_SR_W_C.tif'))\n",
    "\n",
    "ant.ds['RGB_RASTER_C'] = (('Y', 'X', 'RGB'), \n",
    "                ant.read_raster('../../data/ne/HYP_50M_SR_W/HYP_50M_SR_W_C.tif'))"
   ]
  },
  {
   "cell_type": "code",
   "execution_count": null,
   "metadata": {},
   "outputs": [],
   "source": [
    "ant.map_grid('RGB_RASTER_C')\n",
    "world.map_grid('RGB_RASTER_C')"
   ]
  },
  {
   "cell_type": "markdown",
   "metadata": {},
   "source": [
    "Pretty, but the raison d'etre for this code is to work properly in 3D. We download AN-1S sesimic 3D model of the Antarctic lithosphere. "
   ]
  },
  {
   "cell_type": "code",
   "execution_count": null,
   "metadata": {},
   "outputs": [],
   "source": [
    "! mkdir -p ../../data/an\n",
    "! wget -nc http://www.seismolab.org/model/antarctica/lithosphere/AN1-S_depth_grd.tar.gz \\\n",
    "    -O ../../data/an/AN1-S_depth_grd.tar.gz\n",
    "! tar -xvzf ./../data/an/AN1-S_depth_grd.tar.gz -C ../../data/an"
   ]
  },
  {
   "cell_type": "code",
   "execution_count": null,
   "metadata": {},
   "outputs": [],
   "source": [
    "import glob\n",
    "\n",
    "an_files = sorted(glob.glob('../data/An/AN1-S_depth_grd/*.grd'))\n",
    "ant.ds.coords['AN_Z'] = [np.float32(d[-9:-4])*km for d in an_files]\n",
    "str_depths = [str(d[-9:-4]) for d in an_files]\n",
    "\n",
    "for d in ('S', 'Tc', 'Ts'):\n",
    "    print('\\n',d)\n",
    "    an_array = np.empty((ant.nx, ant.ny, len(an_files)))\n",
    "    an_array[:] = np.nan\n",
    "    for i, a in enumerate(ant.ds.coords['AN_Z'].values):\n",
    "        print(a//km, end=' ')\n",
    "        fname = '../data/An/AN1-%s_depth_grd/AN1-%s_hslice_%s.grd'%(d,d,str_depths[i])\n",
    "        if os.path.isfile(fname):\n",
    "            an_array[:,:,i] = ant.read_grid(fname, xyz = ('x','y','z') ) \n",
    "    \n",
    "    ant.ds['AN_%s'%d] = (('X', 'Y', 'AN_Z'), an_array)\n"
   ]
  },
  {
   "cell_type": "code",
   "execution_count": null,
   "metadata": {},
   "outputs": [],
   "source": [
    "ant.ds['AN_S'].isel(AN_Z=30)"
   ]
  },
  {
   "cell_type": "code",
   "execution_count": null,
   "metadata": {},
   "outputs": [],
   "source": [
    "ant.ds['AN_S'].sel(AN_Z=200*km)"
   ]
  },
  {
   "cell_type": "code",
   "execution_count": null,
   "metadata": {},
   "outputs": [],
   "source": [
    "ant.grid_to_raster(ant.ds['AN_S'].sel(AN_Z=200*km), '../../An_S_200km.tiff')"
   ]
  },
  {
   "cell_type": "code",
   "execution_count": null,
   "metadata": {},
   "outputs": [],
   "source": [
    "! mkdir -p data/raster\n",
    "! wget -nc https://www.naturalearthdata.com/http//www.naturalearthdata.com/download/10m/raster/GRAY_LR_SR_W.zip \\\n",
    "    -O data/raster/GRAY_LR_SR_W.zip\n",
    "! unzip -n data/raster/GRAY_LR_SR_W.zip -d data/raster\n"
   ]
  },
  {
   "cell_type": "markdown",
   "metadata": {},
   "source": [
    "## A detailed map\n",
    "\n",
    "Now we try a high resolution dataset with a different projection. \n",
    "\n",
    "Again, we download some data, both raster and vector. Ref: [Norwegian Polar Institute 2014](https://data.npolar.no/dataset/19700322-beab-40e7-b867-c3f0c2756071)\n",
    "\n",
    "Basemap is used to produce maps from the grid, it supports a [large range](https://matplotlib.org/basemap/users/mapsetup.html) of projections, but not all. [epsg 32731](https://epsg.io/32731) is not supported, but we can always use standard matplotlib or mayavi as the grid is regularly sampled. "
   ]
  },
  {
   "cell_type": "code",
   "execution_count": 1,
   "metadata": {},
   "outputs": [
    {
     "ename": "NameError",
     "evalue": "name 'Grid' is not defined",
     "output_type": "error",
     "traceback": [
      "\u001b[0;31m---------------------------------------------------------------------------\u001b[0m",
      "\u001b[0;31mNameError\u001b[0m                                 Traceback (most recent call last)",
      "\u001b[0;32m<ipython-input-1-eb2c1a224dc4>\u001b[0m in \u001b[0;36m<module>\u001b[0;34m\u001b[0m\n\u001b[1;32m      1\u001b[0m \u001b[0;31m#Make object\u001b[0m\u001b[0;34m\u001b[0m\u001b[0;34m\u001b[0m\u001b[0m\n\u001b[0;32m----> 2\u001b[0;31m bouvet = Grid(crs_tgt=32731, res = [5, 5], \n\u001b[0m\u001b[1;32m      3\u001b[0m              \u001b[0mup\u001b[0m \u001b[0;34m=\u001b[0m \u001b[0;36m3974168\u001b[0m\u001b[0;34m,\u001b[0m\u001b[0;34m\u001b[0m\u001b[0m\n\u001b[1;32m      4\u001b[0m              \u001b[0mleft\u001b[0m\u001b[0;34m=\u001b[0m\u001b[0;36m517217\u001b[0m \u001b[0;34m,\u001b[0m\u001b[0;34m\u001b[0m\u001b[0m\n\u001b[1;32m      5\u001b[0m              \u001b[0mdown\u001b[0m \u001b[0;34m=\u001b[0m \u001b[0;36m3965208\u001b[0m\u001b[0;34m,\u001b[0m\u001b[0;34m\u001b[0m\u001b[0m\n",
      "\u001b[0;31mNameError\u001b[0m: name 'Grid' is not defined"
     ]
    }
   ],
   "source": [
    "#Make object\n",
    "bouvet = Grid(crs_tgt=32731, res = [5, 5], \n",
    "             up = 3974168, \n",
    "             left=517217 , \n",
    "             down = 3965208, \n",
    "             right = 529277)\n",
    "\n",
    "print(bouvet.ds)"
   ]
  },
  {
   "cell_type": "code",
   "execution_count": 2,
   "metadata": {},
   "outputs": [
    {
     "name": "stdout",
     "output_type": "stream",
     "text": [
      "File ‘../../data/bouvet/NP_B0_DTM20.zip’ already there; not retrieving.\n",
      "Archive:  ../../data/bouvet/NP_B0_DTM20.zip\n",
      "File ‘../../data/bouvet/NP_B20_SHP.zip’ already there; not retrieving.\n",
      "Archive:  ../../data/bouvet/NP_B20_SHP.zip\n",
      "File ‘../../data/bouvet/landsat_bouvet.jpg’ already there; not retrieving.\n"
     ]
    }
   ],
   "source": [
    "! mkdir -p ../../data/bouvet\n",
    "\n",
    "! wget -nc https://publicdatasets.data.npolar.no/kartdata/NP_B0_DTM20.zip \\\n",
    "    -O ../../data/bouvet/NP_B0_DTM20.zip \n",
    "! unzip -n ../../data/bouvet/NP_B0_DTM20.zip -d ../../data/bouvet\n",
    "\n",
    "! wget -nc https://publicdatasets.data.npolar.no/kartdata/NP_B20_SHP.zip \\\n",
    "    -O ../../data/bouvet/NP_B20_SHP.zip\n",
    "! unzip -n ../../data/bouvet/NP_B20_SHP.zip -d ../../data/bouvet\n",
    "\n",
    "! wget -nc https://content.satimagingcorp.com/static/galleryimages/landsat%208%20bouvet%20island%20lg.jpg \\\n",
    "    -O ../../data/bouvet/landsat_bouvet.jpg"
   ]
  },
  {
   "cell_type": "code",
   "execution_count": 3,
   "metadata": {},
   "outputs": [
    {
     "ename": "NameError",
     "evalue": "name 'bouvet' is not defined",
     "output_type": "error",
     "traceback": [
      "\u001b[0;31m---------------------------------------------------------------------------\u001b[0m",
      "\u001b[0;31mNameError\u001b[0m                                 Traceback (most recent call last)",
      "\u001b[0;32m<ipython-input-3-2682bc573c9e>\u001b[0m in \u001b[0;36m<module>\u001b[0;34m\u001b[0m\n\u001b[1;32m      1\u001b[0m bouvet.ds['DEM'] = (('Y', 'X'), \n\u001b[0;32m----> 2\u001b[0;31m                 bouvet.read_raster('../../data/bouvet/NP_B0_DTM20/B0_DTM20.tif'))\n\u001b[0m\u001b[1;32m      3\u001b[0m \u001b[0;34m\u001b[0m\u001b[0m\n",
      "\u001b[0;31mNameError\u001b[0m: name 'bouvet' is not defined"
     ]
    }
   ],
   "source": [
    "bouvet.ds['DEM'] = (('Y', 'X'), \n",
    "                bouvet.read_raster('../../data/bouvet/NP_B0_DTM20/B0_DTM20.tif'))\n",
    "\n"
   ]
  },
  {
   "cell_type": "code",
   "execution_count": 4,
   "metadata": {},
   "outputs": [
    {
     "ename": "NameError",
     "evalue": "name 'bouvet' is not defined",
     "output_type": "error",
     "traceback": [
      "\u001b[0;31m---------------------------------------------------------------------------\u001b[0m",
      "\u001b[0;31mNameError\u001b[0m                                 Traceback (most recent call last)",
      "\u001b[0;32m<ipython-input-4-9c2b548e87a4>\u001b[0m in \u001b[0;36m<module>\u001b[0;34m\u001b[0m\n\u001b[1;32m      1\u001b[0m bouvet.ds['LAND'] = (('Y', 'X'), \n\u001b[0;32m----> 2\u001b[0;31m                      bouvet.assign_shape('../../data/bouvet/NP_B20_SHP/B20_Land_f.shp', None, burn_val=1) )\n\u001b[0m",
      "\u001b[0;31mNameError\u001b[0m: name 'bouvet' is not defined"
     ]
    }
   ],
   "source": [
    "bouvet.ds['LAND'] = (('Y', 'X'), \n",
    "                     bouvet.assign_shape('../../data/bouvet/NP_B20_SHP/B20_Land_f.shp', None, burn_val=1) )"
   ]
  },
  {
   "cell_type": "code",
   "execution_count": null,
   "metadata": {},
   "outputs": [],
   "source": [
    "plt.imshow(bouvet.ds['LAND'].values)\n",
    "plt.show()\n",
    "\n",
    "plt.imshow(bouvet.ds['DEM'].values)\n",
    "plt.show()\n",
    "bouvet.ds['DEM'][:,1222]"
   ]
  }
 ],
 "metadata": {
  "kernelspec": {
   "display_name": "Python 3",
   "language": "python",
   "name": "python3"
  },
  "language_info": {
   "codemirror_mode": {
    "name": "ipython",
    "version": 3
   },
   "file_extension": ".py",
   "mimetype": "text/x-python",
   "name": "python",
   "nbconvert_exporter": "python",
   "pygments_lexer": "ipython3",
   "version": "3.6.6"
  }
 },
 "nbformat": 4,
 "nbformat_minor": 2
}
